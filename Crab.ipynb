{
 "cells": [
  {
   "cell_type": "code",
   "execution_count": 1,
   "metadata": {},
   "outputs": [],
   "source": [
    "\n",
    "import numpy             as np\n",
    "import matplotlib.pyplot as plt\n",
    "import glob\n",
    "import h5py as h\n",
    "import random\n",
    "%matplotlib inline\n"
   ]
  },
  {
   "cell_type": "code",
   "execution_count": null,
   "metadata": {},
   "outputs": [],
   "source": []
  },
  {
   "cell_type": "code",
   "execution_count": 81,
   "metadata": {},
   "outputs": [],
   "source": [
    "def Hist2d(title,Energys,Times,binss,xlimit,ylimit):\n",
    "    fig,ax = plt.subplots(figsize=(8,8))\n",
    "    plt.hist2d(Energys,Times,bins=binss,cmap=plt.cm.BuGn_r)\n",
    "    plt.title(title)\n",
    "\n",
    "    plt.ylabel(\"Energy keV\",fontsize=26)\n",
    "    plt.xlabel(\"Time us\",fontsize=26)\n",
    "    plt.tick_params('both', length=10, width=2, which='major')\n",
    "    plt.tick_params('both', length=5, width=1, which='minor')\n",
    "    plt.xticks(fontsize=24)\n",
    "    plt.yticks(fontsize=24)\n",
    "    plt.xlim(xlimit)\n",
    "    plt.ylim(ylimit)\n",
    "    plt.grid(True)\n",
    "    plt.tight_layout()\n",
    "\n",
    "    plt.savefig('/home/ilker/Dropbox/nexus/build/source/'+title + '.png')\n",
    "    plt.show()\n",
    "    \n",
    "def Hist1d(title,Energys,Bins,xlimit,ylimit,limits=False):\n",
    "    fig, ax = plt.subplots(figsize=(8,8))\n",
    "    plt.hist(Energys,bins=Bins,alpha=0.7,label=title)\n",
    "    plt.ylabel(\"Counts\",fontsize=26)\n",
    "    plt.xlabel(\"Energy keV\",fontsize=26)\n",
    "    plt.tick_params('both', length=10, width=2, which='major')\n",
    "    plt.tick_params('both', length=5, width=1, which='minor')\n",
    "    plt.xticks(fontsize=24)\n",
    "    plt.yticks(fontsize=24)\n",
    "    plt.legend(loc='upper right',fontsize=24,shadow=True, fancybox=True)\n",
    "    #plt.semilogy()\n",
    "    if(limits):\n",
    "        plt.xlim(xlimit)\n",
    "        plt.ylim(ylimit)\n",
    "    plt.grid(True)\n",
    "    plt.tight_layout()\n",
    "\n",
    "    #plt.savefig('/Users/austinmcdonald/Desktop/'+title + '.png')\n",
    "    plt.show()\n",
    "\n",
    "def Plot2d(title,x,y):\n",
    "    fig,ax = plt.subplots(figsize=(8,8))\n",
    "    plt.plot(x,y)\n",
    "    plt.scatter(x,y)\n",
    "    plt.title(title)\n",
    "    plt.ylabel(\"Z mm\",fontsize=26)\n",
    "    plt.xlabel(\"Y mm\",fontsize=26)\n",
    "    plt.tick_params('both', length=10, width=2, which='major')\n",
    "    plt.tick_params('both', length=5, width=1, which='minor')\n",
    "    plt.xticks(fontsize=24)\n",
    "    plt.yticks(fontsize=24)\n",
    "    plt.grid(True)\n",
    "    plt.tight_layout()\n",
    "    plt.show()\n",
    "\n",
    "def Circle(pltX,pltY,title,LarCirR=75,SmallCirR=35,xlimit=100,ylimit=100,FileSave=False):\n",
    "    fig,ax = plt.subplots(figsize=(8,8))\n",
    "    plt.title(title)\n",
    "    plt.plot(pltX,pltY)\n",
    "    plt.scatter(pltX,pltY)\n",
    "    circle1 = plt.Circle((0, 0), SmallCirR, color='r',fill=False)\n",
    "    circle2 = plt.Circle((0, 0), LarCirR, color='k',fill=False)\n",
    "    ax.add_patch(circle1)\n",
    "    ax.add_patch(circle2)\n",
    "\n",
    "    plt.xlim(-xlimit,xlimit)\n",
    "    plt.ylim(-ylimit,ylimit)\n",
    "\n",
    "    plt.ylabel(\"Z (mm)\",fontsize=26)\n",
    "    plt.xlabel(\"Y (mm)\",fontsize=26)\n",
    "    plt.tick_params('both', length=10, width=2, which='major')\n",
    "    plt.tick_params('both', length=5, width=1, which='minor')\n",
    "    plt.xticks(fontsize=24)\n",
    "    plt.yticks(fontsize=24)\n",
    "    plt.grid(True)\n",
    "    plt.tight_layout()\n",
    "    if(FileSave):\n",
    "        plt.savefig('/home/ilker/Pictures/Sim/'+title + '.png')\n",
    "    plt.show()\n",
    "    \n",
    "\n",
    "def EnergyAndTracks(file,EventLimit=0,fudicalR=35,fdcount=True,AllEvents=False):\n",
    "    data = h.File(file,'r')\n",
    "    TotalEvents=int(data['MC']['configuration'][2][1])\n",
    "    if(EventLimit>0):\n",
    "        TotalEvents=EventLimit\n",
    "    \n",
    "    theEvents={}\n",
    "    \n",
    "    FudicalCount=0\n",
    "    for Current_Event in range(0,TotalEvents):\n",
    "        \n",
    "        Current_Hit_Mask = data['MC']['hits']['event_id'] == Current_Event \n",
    "\n",
    "        Current_Particle_Mask = data[\"MC\"]['particles']['event_id'] == Current_Event\n",
    "\n",
    "        Electron_Mask = data['MC']['particles'][Current_Particle_Mask]['particle_name'] == b'e-'\n",
    "        \n",
    "        #Gamma_Mask = data['MC']['particles'][Current_Particle_Mask]['particle_name'] == b'gamma'\n",
    "        #Gamma_PIDS = data['MC']['particles'][Current_Particle_Mask]['particle_id']\n",
    "        \n",
    "        #Electron_MIDS = data[\"MC\"]['particles'][Current_Particle_Mask][Electron_Mask]['mother_id']\n",
    "        \n",
    "        #Mothers=np.in1d(Gamma_PIDS,Electron_MIDS)\n",
    "        \n",
    "        #MotherEnergy=data['MC']['particles'][Current_Particle_Mask][Mothers]['kin_energy']\n",
    "        #print(MotherEnergy*1000)\n",
    "        \n",
    "        Electron_PIDS = data[\"MC\"]['particles'][Current_Particle_Mask][Electron_Mask]['particle_id']\n",
    "\n",
    "        A = data[\"MC\"]['hits'][Current_Hit_Mask]['particle_id'] \n",
    "        Hit_Electron_Maks = np.in1d(A, Electron_PIDS)\n",
    "        ElectronData=data[\"MC\"]['hits'][Current_Hit_Mask][Hit_Electron_Maks]\n",
    "        \n",
    "        TotalEventEnergy=ElectronData[\"energy\"].sum()*1e3\n",
    "        Xhits=data[\"MC\"]['hits'][Current_Hit_Mask][Hit_Electron_Maks][\"x\"]\n",
    "        Yhits=data[\"MC\"]['hits'][Current_Hit_Mask][Hit_Electron_Maks][\"y\"]\n",
    "        Zhits=data[\"MC\"]['hits'][Current_Hit_Mask][Hit_Electron_Maks][\"z\"]\n",
    "\n",
    "        #Checking the Radius if in the boundaries\n",
    "        fRadius=np.sqrt(Yhits*Yhits+Zhits*Zhits)\n",
    "        fRadius_Mask=fRadius<=fudicalR\n",
    "        \n",
    "        TrksCntIntheFudi=np.count_nonzero(fRadius_Mask)\n",
    "        if(not AllEvents):\n",
    "            if((TrksCntIntheFudi==0)):\n",
    "                continue       \n",
    "        FudicalCount=FudicalCount+1\n",
    "\n",
    "        Tracks=np.array([Xhits,Yhits,Zhits])\n",
    "        theEvents[Current_Event]=[Tracks,TotalEventEnergy,TrksCntIntheFudi]\n",
    "        \n",
    "        \n",
    "    if(fdcount):\n",
    "        print(f\" There are only {FudicalCount} out of {TotalEvents} in the fudical volume\")\n",
    "        \n",
    "    return theEvents\n",
    "\n",
    "def PlotRandomEvents(theEvents,NPlots,LowE,HighE,EventLimit=0,FileSave=False):\n",
    "\n",
    "    QualfEnergys=[]    \n",
    "    for Event in theEvents:\n",
    "        if(theEvents[Event][1]>=LowE and theEvents[Event][1]<=HighE):\n",
    "            QualfEnergys.append(Event)\n",
    "    print(len(QualfEnergys))\n",
    "    for plot in range(0,NPlots):\n",
    "        Event=random.choice(QualfEnergys)\n",
    "        title=\"Track with \" + str(theEvents[Event][1]) + \" keV\"\n",
    "        Circle(theEvents[Event][0][1],theEvents[Event][0][2],title,FileSave)\n",
    "    \n",
    "        \n",
    "        \n",
    "def PlotEnergySpec(theEvents,title,binss=np.arange(1,500,10)):\n",
    "    Energys=[]\n",
    "    for Event in theEvents:\n",
    "        Energys.append(theEvents[Event][1])\n",
    "    Hist1d(title,Energys,binss,0,0)\n",
    "\n",
    "    "
   ]
  },
  {
   "cell_type": "code",
   "execution_count": 84,
   "metadata": {},
   "outputs": [
    {
     "name": "stdout",
     "output_type": "stream",
     "text": [
      " There are only 407 out of 1000 in the fudical volume\n"
     ]
    }
   ],
   "source": [
    "file = \"/home/ilker/Dropbox/nexus/build/source/Cs137_2mm12.h5\"\n",
    "theEvents=EnergyAndTracks(file,1000,fudicalR=35,fdcount=True,AllEvents=False)\n"
   ]
  },
  {
   "cell_type": "code",
   "execution_count": 85,
   "metadata": {
    "scrolled": false
   },
   "outputs": [
    {
     "data": {
      "image/png": "[encoded data removed]",
      "text/plain": [
       "<Figure size 576x576 with 1 Axes>"
      ]
     },
     "metadata": {
      "needs_background": "light"
     },
     "output_type": "display_data"
    }
   ],
   "source": [
    "PlotEnergySpec(theEvents,\"Energy Spectrum of Cs137_2mm\")"
   ]
  },
  {
   "cell_type": "code",
   "execution_count": null,
   "metadata": {},
   "outputs": [],
   "source": [
    "PlotRandomEvents(theEvents,4,100,200,EventLimit=1000)"
   ]
  },
  {
   "cell_type": "code",
   "execution_count": null,
   "metadata": {},
   "outputs": [],
   "source": [
    "file=\"/home/ilker/Dropbox/nexus/build/source/Ba133_2mm222.h5\"\n",
    "BaE=getEnergys(file)"
   ]
  },
  {
   "cell_type": "code",
   "execution_count": null,
   "metadata": {},
   "outputs": [],
   "source": [
    "Hist1d('Energy Spectrum of Ba133',BaE,np.arange(1,500,10),0,0)\n",
    "print(len(BaE))"
   ]
  },
  {
   "cell_type": "code",
   "execution_count": null,
   "metadata": {},
   "outputs": [],
   "source": [
    "file=\"/home/ilker/Dropbox/nexus/build/source/Cs137_2mm12.h5\"\n",
    "BaE2=getEnergys(file)"
   ]
  },
  {
   "cell_type": "code",
   "execution_count": null,
   "metadata": {},
   "outputs": [],
   "source": [
    "A=getTracks(\"/home/ilker/Dropbox/nexus/build/source/Cs137_2mm12.h5\",547)\n",
    "\n",
    "#B=dicEnergyAndTracks(\"/home/ilker/Dropbox/nexus/build/source/Cs137_2mm12.h5\",1000)\n"
   ]
  },
  {
   "cell_type": "code",
   "execution_count": null,
   "metadata": {},
   "outputs": [],
   "source": [
    "Plot2d(\"A Track\",A[2],A[1])\n",
    "Circle(A[2],A[1],\"test\")\n",
    "print (A[2])"
   ]
  },
  {
   "cell_type": "code",
   "execution_count": null,
   "metadata": {},
   "outputs": [],
   "source": [
    "PlotRandomEvents(\"/home/ilker/Dropbox/nexus/build/source/Cs137_2mm12.h5\",5,400,EventLimit=1000)"
   ]
  },
  {
   "cell_type": "code",
   "execution_count": null,
   "metadata": {},
   "outputs": [],
   "source": []
  }
 ],
 "metadata": {
  "kernelspec": {
   "display_name": "Python 3",
   "language": "python",
   "name": "python3"
  },
  "language_info": {
   "codemirror_mode": {
    "name": "ipython",
    "version": 3
   },
   "file_extension": ".py",
   "mimetype": "text/x-python",
   "name": "python",
   "nbconvert_exporter": "python",
   "pygments_lexer": "ipython3",
   "version": "3.7.3"
  }
 },
 "nbformat": 4,
 "nbformat_minor": 4
}
