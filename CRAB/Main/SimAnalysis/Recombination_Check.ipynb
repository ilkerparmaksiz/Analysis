{
 "cells": [
  {
   "cell_type": "code",
   "execution_count": 1,
   "id": "0891f75f",
   "metadata": {},
   "outputs": [
    {
     "data": {
      "text/html": [
       "<style>.container { width:80% !important; }</style>"
      ],
      "text/plain": [
       "<IPython.core.display.HTML object>"
      ]
     },
     "metadata": {},
     "output_type": "display_data"
    }
   ],
   "source": [
    "import numpy as np\n",
    "import matplotlib\n",
    "import matplotlib.pyplot as plt\n",
    "import matplotlib.transforms as transforms\n",
    "import statistics as st\n",
    "import os\n",
    "import pickle\n",
    "import glob\n",
    "from scipy import stats\n",
    "%matplotlib inline\n",
    "import random\n",
    "import seaborn as sn\n",
    "from IPython.display import display, HTML\n",
    "from scipy.stats import norm\n",
    "from scipy.optimize import curve_fit\n",
    "\n",
    "display(HTML(\"<style>.container { width:80% !important; }</style>\"))\n",
    "\n",
    "font = {'family' : 'arial',\n",
    "        'weight' : 'bold',\n",
    "        'size'   : 20}\n",
    "\n",
    "matplotlib.rc('font', **font)"
   ]
  },
  {
   "cell_type": "code",
   "execution_count": 2,
   "id": "d5bc5d80",
   "metadata": {},
   "outputs": [],
   "source": [
    "gain = lambda Wb,R,NPE,e:Wb/(NPE*e*R)\n",
    "NumofPE=lambda Wb,R,g,e:Wb/(R*g*e)\n",
    "\n",
    "def PickleITDump(data,fileName):\n",
    "    with open(fileName,'wb') as f:\n",
    "        pickle.dump(data,f)\n",
    "        \n",
    "def PickleITRead(fileName):\n",
    "    \n",
    "    with open(fileName,'rb') as f:\n",
    "        data=pickle.load(f)\n",
    "    return data\n",
    "\n",
    "def getValuesWithSource(files,weight):\n",
    "    values={} \n",
    "\n",
    "    for i in files:\n",
    "        count=0\n",
    "        sources={}\n",
    "        with open(i) as f:\n",
    "            next(f)\n",
    "            lines=f.readlines()\n",
    "            for line in lines:\n",
    "                splitline=line.split(\",\")\n",
    "                if(splitline[0] in values.keys()):\n",
    "                    if(splitline[1] in values[splitline[0]].keys()):\n",
    "                        values[splitline[0]][splitline[1]]=np.append(values[splitline[0]][splitline[1]],round(int(splitline[2])/weight))\n",
    "                    else:\n",
    "                        sources[splitline[1]]=np.array(round(int(splitline[2])/weight))\n",
    "                        values[splitline[0]][splitline[1]]=sources[splitline[1]]\n",
    "                else:\n",
    "                    sources={}\n",
    "                    sources[splitline[1]]=np.array(round(int(splitline[2])/weight))\n",
    "                    values[splitline[0]]=sources\n",
    "        f.close()\n",
    "        \n",
    "    return values\n",
    "### Photons\n",
    "\n",
    "## point Source\n",
    "Point_SolidAngle=lambda r,R:(r**2/(4*R**2))\n",
    "\n",
    "## Disk Source\n",
    "### Where A is Rs/d ,and B is Rd/d\n",
    "Disk_SolidAngle=lambda A,B:(B**2/4)*(1-3/4*(A**2+B**2)+15/8*(1/3*(A**4+B**4)+(A*B)**2)-35/16*(1/4*(A**6+B**6)+3/2*(A*B)**2*(A**2+B**2)))\n",
    "\n",
    "def getAll(Path):\n",
    "    Files = glob.glob(Path,recursive=True)\n",
    "    Values=getValuesWithSource(Files,1)\n",
    "    return Values\n",
    "    \n",
    "def SmearIT(mean,percent):\n",
    "    return np.random.normal(mean,mean*percent)\n",
    "\n",
    "def CombineIT(data):\n",
    "    entrie=-1\n",
    "    for key in data:\n",
    "        if(len(data[key])>entrie):\n",
    "            entrie=len(data[key])\n",
    "    \n",
    "    valuearr=np.zeros(entrie)\n",
    "  \n",
    "    print(f\"Number of Values is {entrie}\")\n",
    "    for key in data:\n",
    "        count=0 \n",
    "        for val in data[key]:\n",
    "            valuearr[count]=valuearr[count]+val\n",
    "            count=count+1\n",
    "    return valuearr\n",
    "\n",
    "def ObtainValues(values):\n",
    "    ### Applying Constants\n",
    "        \n",
    "    Results={}\n",
    "    E1000ms=getAll(values[\"Path\"])\n",
    "    Alphas=E1000ms['All_e'][\"Po210\"]\n",
    "    Betas=E1000ms['All_e'][\"Bi210\"]\n",
    "    ## Solid Angle Calculations\n",
    "    SolidAngle_AnodeWindowAlphas=Alphas*Point_SolidAngle(values[\"AnodeWindowRadius\"],values[\"AnodePMTDistance\"])*values[\"ELGain\"]*values[\"AnodeQE\"]*values[\"AnodeScale\"]\n",
    "    SolidAngle_CathodeWindowAlphas=Alphas*Point_SolidAngle(values[\"CathodeWindowRadius\"],values[\"CathodePMTDistance\"])*values[\"ELGain\"]*values[\"CathodeQE\"]*values[\"CathodeScale\"]\n",
    "    Results[\"SolidAngle_CathodeWindowBetas\"]=Betas*Point_SolidAngle(values[\"CathodeWindowRadius\"],values[\"CathodePMTDistance\"])*values[\"ELGain\"]*values[\"CathodeQE\"]*values[\"CathodeScale\"]\n",
    "    Results[\"SolidAngle_AnodeWindowBetas\"]=Betas*Point_SolidAngle(values[\"AnodeWindowRadius\"],values[\"AnodePMTDistance\"])*values[\"ELGain\"]*values[\"AnodeQE\"]*values[\"AnodeScale\"]\n",
    "    #### Adding Smearing \n",
    "   \n",
    "    Results[\"SolidAngle_CathodeWindowAlphas\"]=SmearIT(SolidAngle_CathodeWindowAlphas,values[\"Smearing\"])\n",
    "    Results[\"SolidAngle_AnodeWindowAlphas\"]=SmearIT(SolidAngle_AnodeWindowAlphas,values[\"Smearing\"])\n",
    "\n",
    "    \n",
    "    Cathode_Alphas=E1000ms[\"Cathode_PHOTOCATHODE\"][\"Po210\"]*values[\"CathodeQE\"]\n",
    "    Anode_Alphas=E1000ms[\"Anode_PHOTOCATHODE\"][\"Po210\"]*values[\"AnodeQE\"]\n",
    "    \n",
    "    Results[\"CathodeBetaPEs_G4\"]=E1000ms[\"Cathode_PHOTOCATHODE\"][\"Bi210\"]*values[\"CathodeQE\"]\n",
    "    Results[\"AnodeBetaPEs_G4\"]=E1000ms[\"Anode_PHOTOCATHODE\"][\"Bi210\"]*values[\"AnodeQE\"]\n",
    "    ## G4\n",
    "    if(not values[\"Updated\"]):\n",
    "        Cathode_Alphas=Cathode_Alphas*values[\"CathodeScale\"]\n",
    "        Anode_Alphas=Anode_Alphas*values[\"AnodeScale\"]\n",
    "        Results[\"CathodeBetaPEs_G4\"]=Results[\"CathodeBetaPEs_G4\"]*values[\"CathodeScale\"]\n",
    "        Results[\"AnodeBetaPEs_G4\"]=Results[\"AnodeBetaPEs_G4\"]*values[\"AnodeScale\"]\n",
    "        \n",
    "            ##### Adding Smearing \n",
    "    Results[\"CathodeAlphaPEs_G4\"]=SmearIT(Cathode_Alphas,values[\"Smearing\"])\n",
    "    Results[\"AnodeAlphaPEs_G4\"]=SmearIT(Anode_Alphas,values[\"Smearing\"])\n",
    "    return Results\n",
    "    \n",
    "\n",
    "def Fit(data,binss,fvalue=0):\n",
    "    # Define some test data which is close to Gaussian\n",
    "    data=data[data>fvalue]\n",
    "    hist, bin_edges,__ = plt.hist(data,bins=binss,density=True)\n",
    "    bin_centres = (bin_edges[:-1] + bin_edges[1:])/2\n",
    "\n",
    "    # Define model function to be used to fit to the data above:\n",
    "    def gauss(x, *p):\n",
    "        A, mu, sigma = p\n",
    "        return A*np.exp(-(x-mu)**2/(2.*sigma**2))\n",
    "\n",
    "    # p0 is the initial guess for the fitting coefficients (A, mu and sigma above)\n",
    "    p0 = [np.max(data), np.mean(data), np.std(data)]\n",
    "\n",
    "    coeff, var_matrix = curve_fit(gauss, bin_centres, hist, p0=p0)\n",
    "\n",
    "    # Get the fitted curve\n",
    "    hist_fit = gauss(bin_centres, *coeff)\n",
    "\n",
    "    plt.plot(bin_centres, hist, label='Test data')\n",
    "    plt.plot(bin_centres, hist_fit, label='Fitted data')\n",
    "\n",
    "    # Finally, lets get the fitting parameters, i.e. the mean and standard deviation:\n",
    "    print ('Fitted mean = ', coeff[1])\n",
    "    print ('Fitted standard deviation = ', coeff[2])\n",
    "\n",
    "    plt.legend()\n",
    "    plt.show()\n",
    "    return coeff\n",
    "\n",
    "\n",
    "def MultiFileIonizationElectronPosition(files,mother,TargetVolume=b'EL_GAP',TargetParticle=b'opticalphoton',EventLimit=2,FileName=\"Optical.p\"):\n",
    "    count=0\n",
    "    values={}\n",
    "    \n",
    "    if(EventLimit==-1):\n",
    "        EventLimit=len(files)\n",
    "    filecount=0\n",
    "    for file in files:\n",
    "        print(f\"Analyzing following  file --> {file}\\n\" )\n",
    "        data = getvalues(file)\n",
    "        TotalEvents=int(data['configuration'][2][1])\n",
    "        FinalPosition={\"particle_name\":[],\"x\":[],\"y\":[],\"z\":[]}\n",
    "    \n",
    "        for EventID in range(0,TotalEvents):\n",
    "            #Obtain current event id\n",
    "            EventIDMask=data[\"particles\"][\"event_id\"]==EventID\n",
    "            \n",
    "            #Store particle infor for this event\n",
    "            ParticlesTable=data[\"particles\"][EventIDMask]\n",
    "            \n",
    "            #Create Mother mask for expected mother\n",
    "            MotherMask=ParticlesTable[\"particle_name\"]==mother\n",
    "            \n",
    "            ## Particle Name Mask\n",
    "            \n",
    "            #Interested particles\n",
    "            ParticleNameMask=ParticlesTable[\"particle_name\"]==TargetParticle\n",
    "            ParticlesInInterest=ParticlesTable[ParticleNameMask]\n",
    "            if(TargetVolume!=None):\n",
    "                IonizationElectronsMask=ParticlesInInterest[\"final_volume\"]==TargetVolume\n",
    "                ParticlesInInterest=ParticlesInInterest[IonizationElectronsMask]\n",
    "           \n",
    "            IonizationElectronMotherID=ParticlesInInterest[\"mother_id\"]\n",
    "\n",
    "            #Expected Mother IDs\n",
    "            ExpectedMotherID=ParticlesTable[\"particle_id\"][MotherMask]\n",
    "            \n",
    "            #Find intersection of the motherIds of ie and Expected Mother\n",
    "            MotherIDMask=np.isin(IonizationElectronMotherID,ExpectedMotherID)\n",
    "            FinalPosition[\"particle_name\"]=ParticlesInInterest[\"particle_name\"][MotherIDMask]\n",
    "            FinalPosition[\"x\"]=ParticlesInInterest[\"final_x\"][MotherIDMask]\n",
    "            FinalPosition[\"y\"]=ParticlesInInterest[\"final_y\"][MotherIDMask]\n",
    "            FinalPosition[\"z\"]=ParticlesInInterest[\"final_z\"][MotherIDMask]\n",
    "            values[count]=FinalPosition\n",
    "            count=count+1\n",
    "            \n",
    "        if(filecount>=EventLimit):\n",
    "            break\n",
    "        filecount=filecount+1\n",
    "    if(FileName==\"\"):\n",
    "        PickleITDump(values,\"Electrons.p\")\n",
    "    else:\n",
    "        PickleITDump(values,FileName+\".p\")\n",
    "    print(\"Events are saved!\")\n",
    "    return values\n",
    "\n",
    "\n"
   ]
  },
  {
   "cell_type": "code",
   "execution_count": 3,
   "id": "d0e70c4e",
   "metadata": {},
   "outputs": [],
   "source": [
    "S1=getAll(\"/media/ilker/Ilker/SimResults/Mar12_2023_Recombinations/Updated_S1_NoNeedle/counts/Extra_*\")\n",
    "NoS1=getAll(\"/media/ilker/Ilker/SimResults/Mar12_2023_Recombinations/Updated_NoS1_NoNeedle/counts/Extra_*\")"
   ]
  },
  {
   "cell_type": "code",
   "execution_count": 4,
   "id": "25bf81ff",
   "metadata": {},
   "outputs": [
    {
     "data": {
      "text/plain": [
       "(array([ 90., 196.,  26., 241., 386.,  31.,  10.,   6.,   3.,   2.,   4.,\n",
       "          0.,   1.,   1.,   1.,   0.,   0.,   1.,   0.,   1.]),\n",
       " array([0.55920098, 0.56267077, 0.56614056, 0.56961034, 0.57308013,\n",
       "        0.57654992, 0.58001971, 0.5834895 , 0.58695929, 0.59042908,\n",
       "        0.59389887, 0.59736865, 0.60083844, 0.60430823, 0.60777802,\n",
       "        0.61124781, 0.6147176 , 0.61818739, 0.62165718, 0.62512697,\n",
       "        0.62859675]),\n",
       " <BarContainer object of 20 artists>)"
      ]
     },
     "execution_count": 4,
     "metadata": {},
     "output_type": "execute_result"
    },
    {
     "name": "stderr",
     "output_type": "stream",
     "text": [
      "findfont: Font family ['arial'] not found. Falling back to DejaVu Sans.\n"
     ]
    },
    {
     "data": {
      "image/png": "[encoded data removed]",
      "text/plain": [
       "<Figure size 640x480 with 1 Axes>"
      ]
     },
     "metadata": {},
     "output_type": "display_data"
    }
   ],
   "source": [
    "Factor=S1[\"Total_Produced_Photons\"]['None']/S1[\"Total_Produced_ie\"]['None']\n",
    "plt.hist(Factor,bins=20)"
   ]
  },
  {
   "cell_type": "code",
   "execution_count": 9,
   "id": "eb70e2b9",
   "metadata": {},
   "outputs": [
    {
     "name": "stdout",
     "output_type": "stream",
     "text": [
      "148906.516\n"
     ]
    },
    {
     "data": {
      "text/plain": [
       "(array([ 95., 153., 172., 162., 129., 118.,  85.,  53.,  27.,   6.]),\n",
       " array([138226. , 141082.9, 143939.8, 146796.7, 149653.6, 152510.5,\n",
       "        155367.4, 158224.3, 161081.2, 163938.1, 166795. ]),\n",
       " <BarContainer object of 10 artists>)"
      ]
     },
     "execution_count": 9,
     "metadata": {},
     "output_type": "execute_result"
    },
    {
     "data": {
      "image/png": "[encoded data removed]",
      "text/plain": [
       "<Figure size 640x480 with 1 Axes>"
      ]
     },
     "metadata": {},
     "output_type": "display_data"
    }
   ],
   "source": [
    " \n",
    "#plt.figure(figsize=(3,2),dpi=300)\n",
    "#plt.hist(S1[\"Total_Produced_ie\"]['None'])\n",
    "#plt.hist(NoS1[\"Total_Produced_ie\"]['None'])\n",
    "np.mean((S1[\"Total_Produced_ie\"]['None']-NoS1[\"Total_Produced_ie\"]['None'])/S1[\"Total_Produced_ie\"]['None']*100)\n",
    "\n",
    "print(np.mean(S1[\"Total_Produced_Photons\"][\"None\"]))\n",
    "np.mean(S1[\"Total_Produced_ie\"]['None'])\n",
    "\n",
    "plt.hist(S1[\"Total_Produced_Photons\"][\"None\"])"
   ]
  },
  {
   "cell_type": "code",
   "execution_count": null,
   "id": "d43f6ec4",
   "metadata": {},
   "outputs": [],
   "source": [
    "n"
   ]
  }
 ],
 "metadata": {
  "kernelspec": {
   "display_name": "Python 3 (ipykernel)",
   "language": "python",
   "name": "python3"
  },
  "language_info": {
   "codemirror_mode": {
    "name": "ipython",
    "version": 3
   },
   "file_extension": ".py",
   "mimetype": "text/x-python",
   "name": "python",
   "nbconvert_exporter": "python",
   "pygments_lexer": "ipython3",
   "version": "3.9.13"
  }
 },
 "nbformat": 4,
 "nbformat_minor": 5
}
