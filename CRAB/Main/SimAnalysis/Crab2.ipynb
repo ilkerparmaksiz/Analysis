{
 "cells": [
  {
   "cell_type": "code",
   "execution_count": 1,
   "metadata": {},
   "outputs": [],
   "source": [
    "\n",
    "import numpy             as np\n",
    "import matplotlib.pyplot as plt\n",
    "import glob\n",
    "import h5py as h\n",
    "import random\n",
    "%matplotlib inline"
   ]
  },
  {
   "cell_type": "code",
   "execution_count": 2,
   "metadata": {},
   "outputs": [],
   "source": [
    "def Hist2d(title,Energys,Times,binss,xlimit,ylimit):\n",
    "    fig,ax = plt.subplots(figsize=(8,8))\n",
    "    plt.hist2d(Energys,Times,bins=binss,cmap=plt.cm.BuGn_r)\n",
    "    plt.title(title)\n",
    "\n",
    "    plt.ylabel(\"Energy keV\",fontsize=26)\n",
    "    plt.xlabel(\"Time us\",fontsize=26)\n",
    "    plt.tick_params('both', length=10, width=2, which='major')\n",
    "    plt.tick_params('both', length=5, width=1, which='minor')\n",
    "    plt.xticks(fontsize=24)\n",
    "    plt.yticks(fontsize=24)\n",
    "    plt.xlim(xlimit)\n",
    "    plt.ylim(ylimit)\n",
    "    plt.grid(True)\n",
    "    plt.tight_layout()\n",
    "\n",
    "    ##plt.savefig('/home/ilker/Dropbox/nexus/build/source/'+title + '.png')\n",
    "    plt.show()\n",
    "    \n",
    "def Hist1d(title,Energys,Bins,xlimit,ylimit,limits=False):\n",
    "    fig, ax = plt.subplots(figsize=(8,8))\n",
    "    plt.hist(Energys,bins=Bins,alpha=0.3,density=True,stacked=True,label=title)\n",
    "    plt.ylabel(\"Counts\",fontsize=26)\n",
    "    plt.xlabel(\"Energy keV\",fontsize=26)\n",
    "    plt.tick_params('both', length=10, width=2, which='major')\n",
    "    plt.tick_params('both', length=5, width=1, which='minor')\n",
    "    plt.xticks(fontsize=24)\n",
    "    plt.yticks(fontsize=24)\n",
    "    plt.legend(loc='upper right',fontsize=24,shadow=True, fancybox=True)\n",
    "    #plt.semilogy()\n",
    "    if(limits):\n",
    "        plt.xlim(xlimit)\n",
    "        plt.ylim(ylimit)\n",
    "    plt.grid(True)\n",
    "    plt.tight_layout()\n",
    "\n",
    "    #plt.savefig('/Users/austinmcdonald/Desktop/'+title + '.png')\n",
    "    #plt.show()\n",
    "def Plot2d(title,x,y):\n",
    "    fig,ax = plt.subplots(figsize=(8,8))\n",
    "    plt.plot(x,y)\n",
    "    plt.scatter(x,y)\n",
    "    plt.title(title)\n",
    "    plt.ylabel(\"Z mm\",fontsize=26)\n",
    "    plt.xlabel(\"Y mm\",fontsize=26)\n",
    "    plt.tick_params('both', length=10, width=2, which='major')\n",
    "    plt.tick_params('both', length=5, width=1, which='minor')\n",
    "    plt.xticks(fontsize=24)\n",
    "    plt.yticks(fontsize=24)\n",
    "    plt.grid(True)\n",
    "    plt.tight_layout()\n",
    "    plt.show()\n",
    "\n",
    "def Circle(pltX,pltY,title):\n",
    "  \n",
    "    fig,ax = plt.subplots(figsize=(8,8))\n",
    "    plt.title(title)\n",
    "    plt.plot(pltX,pltY)\n",
    " \n",
    "\n",
    "    plt.scatter(pltX,pltY)\n",
    "    circle1 = plt.Circle((0, 0), 35, color='r',fill=False)\n",
    "    circle2 = plt.Circle((0, 0), 75, color='k',fill=False)\n",
    "    ax.add_patch(circle1)\n",
    "    ax.add_patch(circle2)\n",
    " \n",
    "    plt.xlim(-100,100)\n",
    "    plt.ylim(-100,100)\n",
    "\n",
    "    plt.ylabel(\"Z (mm)\",fontsize=26)\n",
    "    plt.xlabel(\"Y (mm)\",fontsize=26)\n",
    "    plt.tick_params('both', length=10, width=2, which='major')\n",
    "    plt.tick_params('both', length=5, width=1, which='minor')\n",
    "    plt.xticks(fontsize=24)\n",
    "    plt.yticks(fontsize=24)\n",
    "    plt.grid(True)\n",
    "    plt.tight_layout()\n",
    "    plt.show()\n"
   ]
  },
  {
   "cell_type": "code",
   "execution_count": null,
   "metadata": {},
   "outputs": [],
   "source": []
  },
  {
   "cell_type": "code",
   "execution_count": 3,
   "metadata": {},
   "outputs": [],
   "source": [
    "def EnergyAndTracks(file,EventLimit=0,particle=b'alpha',Mother=False,fudicalR=-1,AllEvents=False):\n",
    "    data = h.File(file,'r')\n",
    "    TotalEvents=int(data['MC']['configuration'][2][1])\n",
    "    if(EventLimit>0):\n",
    "        TotalEvents=EventLimit\n",
    "    \n",
    "    theEvents={}\n",
    "\n",
    "    for Current_Event in range(0,TotalEvents):\n",
    "        \n",
    "        Current_Hit_Mask = data[\"MC\"]['hits']['event_id'] == Current_Event \n",
    "\n",
    "        Current_Particle_Mask = data[\"MC\"]['particles']['event_id'] == Current_Event\n",
    "\n",
    "        Particle_Mask = data[\"MC\"]['particles'][Current_Particle_Mask]['particle_name'] == particle\n",
    "        \n",
    "        Particle_PIDS = data[\"MC\"]['particles'][Current_Particle_Mask][Particle_Mask]['particle_id']\n",
    "      \n",
    "        if(Mother):\n",
    "            Mother_PIDS = data[\"MC\"]['particles'][Current_Particle_Mask][Particle_Mask]['mother_id']\n",
    "            Mother_Mask = data[\"MC\"]['particles'][Current_Particle_Mask]['particle_name'] == Mother\n",
    "            Mother_PID  = data[\"MC\"]['particles'][Current_Particle_Mask][Mother_Mask]['particle_id']\n",
    "            SameMotherMask  = np.in1d( Mother_PIDS,Mother_PID)\n",
    "            Particle_PIDS = data[\"MC\"]['particles'][Current_Particle_Mask][Particle_Mask][SameMotherMask]['particle_id']\n",
    "        \n",
    "                  \n",
    "        A = data[\"MC\"]['hits'][Current_Hit_Mask]['particle_id']\n",
    "        Hit_Particle_Mask = np.in1d(A, Particle_PIDS)\n",
    "            \n",
    "        ElectronData=data[\"MC\"]['hits'][Current_Hit_Mask][Hit_Particle_Mask]\n",
    "        TotalEventEnergy=ElectronData[\"energy\"].sum()*1e3\n",
    "\n",
    "        Xhits=data[\"MC\"]['hits'][Current_Hit_Mask][Hit_Particle_Mask][\"x\"]\n",
    "        Yhits=data[\"MC\"]['hits'][Current_Hit_Mask][Hit_Particle_Mask][\"y\"]\n",
    "        Zhits=data[\"MC\"]['hits'][Current_Hit_Mask][Hit_Particle_Mask][\"z\"]\n",
    "\n",
    "        #Checking the Radius if in the boundaries\n",
    "        if(not fudicalR==-1):\n",
    "            fRadius=np.sqrt(Yhits*Yhits+Zhits*Zhits)\n",
    "            fRadius_Mask=fRadius<=fudicalR\n",
    "            TrksCntIntheFudi=np.count_nonzero(fRadius_Mask)\n",
    "        \n",
    "        Tracks=np.array([Xhits,Yhits,Zhits])\n",
    "        theEvents[Current_Event]=[Tracks,TotalEventEnergy]\n",
    "\n",
    "        \n",
    "    return theEvents\n",
    "\n",
    "def PlotRandomEvents(file,NPlots,particle,Energy,EventLimit=0):\n",
    "    theEvents=EnergyAndTracks(file,EventLimit=EventLimit,particle=particle,AllEvents=False)\n",
    "    QualfEnergys=[]    \n",
    "    for Event in theEvents:\n",
    "        if(theEvents[Event][1]>=Energy):\n",
    "            QualfEnergys.append(Event)\n",
    "\n",
    "    for plot in range(0,NPlots):\n",
    "        Event=random.choice(QualfEnergys)\n",
    "        print(Event)\n",
    "        title=\"Track with \" + str(theEvents[Event][1]) + \" keV\"\n",
    "        Circle(theEvents[Event][0][1],theEvents[Event][0][2],title)\n",
    "\n",
    "        \n",
    "def PlotEnergySpec(theEvents,title,binss=np.arange(1,5500,100)):\n",
    "    Energys=[]\n",
    "    for Event in theEvents:\n",
    "        Energys.append(theEvents[Event][1])\n",
    "        \n",
    "    print (len(Energys))    \n",
    "    Hist1d(title,Energys,binss,\"Counts\",\"Energy (keV)\")\n",
    "    \n",
    "def GetEnergySpec(theEvents):\n",
    "    Energys=[]\n",
    "    for Event in theEvents:\n",
    "        Energys.append(theEvents[Event][1])\n",
    "        \n",
    "    return Energys\n",
    "    "
   ]
  },
  {
   "cell_type": "code",
   "execution_count": 18,
   "metadata": {
    "scrolled": false
   },
   "outputs": [],
   "source": [
    "#file = \"/home/ilker/Dropbox/nexus/build/source/Cs137_2mm12.h5\"\n",
    "file=\"/home/ilker/Projects/latest_Nexus/alphas.h5\"\n",
    "#Alphas=EnergyAndTracks(file,EventLimit=1000,particle=b'alpha',AllEvents=False)\n",
    "#BetasFromBi210=EnergyAndTracks(file,EventLimit=100,particle=b'e-',Mother=b'Bi210',AllEvents=False)\n",
    "Betas=EnergyAndTracks(file,EventLimit=10000,particle=b'e-',Mother=b'Bi210',AllEvents=False)\n",
    "\n",
    "\n",
    "#gamma=EnergyAndTracks(file,EventLimit=1000,particle=b'gamma',AllEvents=False)"
   ]
  },
  {
   "cell_type": "code",
   "execution_count": 16,
   "metadata": {},
   "outputs": [],
   "source": [
    "Alphas=EnergyAndTracks(file,EventLimit=1000,particle=b'alpha',AllEvents=False)\n"
   ]
  },
  {
   "cell_type": "code",
   "execution_count": 20,
   "metadata": {},
   "outputs": [
    {
     "data": {
      "image/png": "[encoded data removed]",
      "text/plain": [
       "<Figure size 800x800 with 1 Axes>"
      ]
     },
     "metadata": {},
     "output_type": "display_data"
    }
   ],
   "source": [
    "Bins=np.arange(1,5500,200)\n",
    "limits=False\n",
    "fig, ax = plt.subplots(figsize=(8,8))\n",
    "#plt.hist(GetEnergySpec(Alphas),bins=Bins,alpha=0.7,density=True,stacked=True,label=\"Alphas\")\n",
    "plt.hist(GetEnergySpec(Betas),bins=Bins,alpha=0.7,density=True,stacked=True,label=\"Betas \")\n",
    "plt.hist(GetEnergySpec(Alphas),bins=Bins,alpha=0.7,density=True,stacked=True,label=\"Alphas \")\n",
    "\n",
    "#plt.hist(GetEnergySpec(gamma),bins=Bins,alpha=0.7,density=True,stacked=True,label=\"gamma\")\n",
    "\n",
    "\n",
    "plt.ylabel(\"Counts\",fontsize=26)\n",
    "plt.xlabel(\"Energy keV\",fontsize=26)\n",
    "plt.tick_params('both', length=10, width=2, which='major')\n",
    "plt.tick_params('both', length=5, width=1, which='minor')\n",
    "plt.xticks(fontsize=24)\n",
    "plt.yticks(fontsize=24)\n",
    "plt.legend(loc='upper right',fontsize=24,shadow=True, fancybox=True)\n",
    "#plt.semilogy()\n",
    "\n",
    "plt.grid(True)\n",
    "plt.tight_layout()"
   ]
  },
  {
   "cell_type": "code",
   "execution_count": 7,
   "metadata": {},
   "outputs": [
    {
     "ename": "NameError",
     "evalue": "name 'BetasFromPb210' is not defined",
     "output_type": "error",
     "traceback": [
      "\u001b[0;31m---------------------------------------------------------------------------\u001b[0m",
      "\u001b[0;31mNameError\u001b[0m                                 Traceback (most recent call last)",
      "Cell \u001b[0;32mIn [7], line 1\u001b[0m\n\u001b[0;32m----> 1\u001b[0m \u001b[38;5;28mprint\u001b[39m(\u001b[43mBetasFromPb210\u001b[49m[\u001b[38;5;241m99\u001b[39m][\u001b[38;5;241m1\u001b[39m])\n",
      "\u001b[0;31mNameError\u001b[0m: name 'BetasFromPb210' is not defined"
     ]
    }
   ],
   "source": [
    "print(BetasFromPb210[99][1])"
   ]
  },
  {
   "cell_type": "code",
   "execution_count": null,
   "metadata": {},
   "outputs": [],
   "source": [
    "Hist1d('Energy Spectrum of Cs137',E,np.arange(1,800,10),0,0)\n",
    "print(len(E))"
   ]
  },
  {
   "cell_type": "code",
   "execution_count": null,
   "metadata": {},
   "outputs": [],
   "source": [
    "file=\"/home/ilker/Dropbox/nexus/build/source/Ba133_2mm222.h5\"\n",
    "BaE=getEnergys(file)"
   ]
  },
  {
   "cell_type": "code",
   "execution_count": null,
   "metadata": {},
   "outputs": [],
   "source": [
    "Hist1d('Energy Spectrum of Ba133',BaE,np.arange(1,500,10),0,0)\n",
    "print(len(BaE))"
   ]
  },
  {
   "cell_type": "code",
   "execution_count": null,
   "metadata": {},
   "outputs": [],
   "source": [
    "file=\"/home/ilker/Dropbox/nexus/build/source/Cs137_2mm12.h5\"\n",
    "BaE2=getEnergys(file)"
   ]
  },
  {
   "cell_type": "code",
   "execution_count": null,
   "metadata": {},
   "outputs": [],
   "source": [
    "A=getTracks(\"/home/ilker/Dropbox/nexus/build/source/Cs137_2mm12.h5\",547)\n",
    "\n",
    "#B=dicEnergyAndTracks(\"/home/ilker/Dropbox/nexus/build/source/Cs137_2mm12.h5\",1000)\n"
   ]
  },
  {
   "cell_type": "code",
   "execution_count": null,
   "metadata": {},
   "outputs": [],
   "source": [
    "Plot2d(\"A Track\",A[2],A[1])\n",
    "Circle(A[2],A[1],\"test\")\n",
    "print (A[2])"
   ]
  },
  {
   "cell_type": "code",
   "execution_count": null,
   "metadata": {},
   "outputs": [],
   "source": [
    "PlotRandomEvents(\"/home/ilker/Dropbox/nexus/build/source/Cs137_2mm12.h5\",5,400,EventLimit=1000)"
   ]
  },
  {
   "cell_type": "code",
   "execution_count": null,
   "metadata": {},
   "outputs": [],
   "source": []
  }
 ],
 "metadata": {
  "kernelspec": {
   "display_name": "Python 3 (ipykernel)",
   "language": "python",
   "name": "python3"
  },
  "language_info": {
   "codemirror_mode": {
    "name": "ipython",
    "version": 3
   },
   "file_extension": ".py",
   "mimetype": "text/x-python",
   "name": "python",
   "nbconvert_exporter": "python",
   "pygments_lexer": "ipython3",
   "version": "3.10.4"
  }
 },
 "nbformat": 4,
 "nbformat_minor": 4
}
