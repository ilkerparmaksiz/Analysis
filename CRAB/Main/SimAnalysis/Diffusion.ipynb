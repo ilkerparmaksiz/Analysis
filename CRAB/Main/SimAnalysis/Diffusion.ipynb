{
 "cells": [
  {
   "cell_type": "code",
   "execution_count": 1,
   "id": "about-cedar",
   "metadata": {},
   "outputs": [],
   "source": [
    "import numpy as np\n",
    "import matplotlib.pyplot as plt\n",
    "#import uproot\n",
    "import h5py as h\n"
   ]
  },
  {
   "cell_type": "code",
   "execution_count": null,
   "id": "aquatic-walter",
   "metadata": {},
   "outputs": [],
   "source": []
  },
  {
   "cell_type": "code",
   "execution_count": 2,
   "id": "charming-feelings",
   "metadata": {},
   "outputs": [],
   "source": [
    "def Get_hit_array(file, Current_Event,particle):\n",
    "    data = h.File(file,'r')\n",
    "    TotalEvents=int(data['MC']['configuration'][2][1])\n",
    "    if(TotalEvents < Current_Event):\n",
    "        print('out of event range')\n",
    "\n",
    "    Current_Hit_Mask = data['MC']['hits']['event_id'] == Current_Event \n",
    "    Current_Particle_Mask = data[\"MC\"]['particles']['event_id'] == Current_Event\n",
    "    Hits_PIDs=data['MC']['hits'][Current_Hit_Mask]['particle_id'] \n",
    "    Current_Particles=data['MC']['particles'][Current_Particle_Mask]\n",
    "\n",
    "    Electron_Mask = Current_Particles['particle_name'] == particle\n",
    "\n",
    "    Electron_PIDS = data['MC']['particles'][Current_Particle_Mask][Electron_Mask]['particle_id']\n",
    "\n",
    "    Hit_Electron_Maks = np.in1d(Hits_PIDs, Electron_PIDS)\n",
    "    ElectronData=data['MC']['hits'][Current_Hit_Mask][Hit_Electron_Maks]\n",
    "\n",
    "    return ElectronData\n",
    "\n",
    "\n",
    "def Diffuser(HIT_ARRAY,ZOFFSET):\n",
    "    Etotal = 0\n",
    "    Diffused_X = np.array([])\n",
    "    Diffused_Y = np.array([])\n",
    "    Diffused_Z = np.array([])\n",
    "\n",
    "    for hit in HIT_ARRAY:\n",
    "        energy_deposit = hit['energy']\n",
    "        electron_loc_x = hit['x']/10\n",
    "        electron_loc_y = hit['y']/10\n",
    "    #     electron_loc_z = hit['z']/10 + Zoffset\n",
    "        electron_loc_z = ZOFFSET\n",
    "\n",
    "        Etotal += energy_deposit\n",
    "\n",
    "        Nelectron = int( (energy_deposit*1e6/GasProps.Wvalue) );\n",
    "\n",
    "        # Loop through the electrons \n",
    "        for electron in range(Nelectron):\n",
    "\n",
    "            # calculate drift time for diffusion \n",
    "            T_drift = electron_loc_z / GasProps.Vd\n",
    "            if (T_drift <=0):\n",
    "                print(\"Warnign T_drift is negative\")\n",
    "                continue\n",
    "            # electron lifetime\n",
    "            if (np.random.uniform() >= np.exp(-T_drift/GasProps.Life_Time)):\n",
    "                continue\n",
    "\n",
    "            # diffuse the electrons position\n",
    "            sigma_T = np.sqrt(2*GasProps.Dt*T_drift)\n",
    "            sigma_L = np.sqrt(2*GasProps.Dl*T_drift)\n",
    "            electron_x = np.random.normal(electron_loc_x,sigma_T)\n",
    "            electron_y = np.random.normal(electron_loc_y,sigma_T)\n",
    "            electron_z = np.random.normal(electron_loc_z,sigma_L)\n",
    "            Diffused_X=np.append(Diffused_X,electron_x)\n",
    "            Diffused_Y=np.append(Diffused_Y,electron_y)\n",
    "            Diffused_Z=np.append(Diffused_Z,electron_z)\n",
    "    print(\"evnet has {} MeV and made {} electrons\".format(round(Etotal,3), len(Diffused_X)))\n",
    "        \n",
    "        \n",
    "    return Diffused_X, Diffused_Y, Diffused_Z\n",
    "\n",
    "\n",
    "\n",
    "\n",
    "def Diffuserv2(HIT_ARRAY,ZOFFSET):\n",
    "    Etotal = 0\n",
    "    Diffused_X = []\n",
    "    Diffused_Y = []\n",
    "    Diffused_Z = []\n",
    "\n",
    "    for hit in HIT_ARRAY:\n",
    "        energy_deposit = hit[3]\n",
    "        electron_loc_x = hit[0]\n",
    "        electron_loc_y = hit[1]\n",
    "        #electron_loc_z = hit[2] + Zoffset\n",
    "        electron_loc_z = ZOFFSET\n",
    "\n",
    "        Etotal += energy_deposit\n",
    "\n",
    "       \n",
    "        # calculate drift time for diffusion \n",
    "        T_drift = electron_loc_z / GasProps.Vd\n",
    "        if (T_drift <=0):\n",
    "            print(\"Warnign T_drift is negative\")\n",
    "            continue\n",
    "        # electron lifetime\n",
    "        if (np.random.uniform() >= np.exp(-T_drift/GasProps.Life_Time)):\n",
    "            continue\n",
    "\n",
    "        # diffuse the electrons position\n",
    "        sigma_T = np.sqrt(2*GasProps.Dt*T_drift)\n",
    "        sigma_L = np.sqrt(2*GasProps.Dl*T_drift)\n",
    "        electron_x = np.random.normal(electron_loc_x,sigma_T)\n",
    "        electron_y = np.random.normal(electron_loc_y,sigma_T)\n",
    "        electron_z = np.random.normal(electron_loc_z,sigma_L)\n",
    "        Diffused_X.append(electron_x)\n",
    "        Diffused_Y.append(electron_y)\n",
    "        Diffused_Z.append(electron_z)\n",
    "    print(\"evnet has {} MeV and made {} electrons\".format(round(Etotal,3), len(Diffused_X)))\n",
    "        \n",
    "        \n",
    "    return Diffused_X, Diffused_Y, Diffused_Z\n",
    "\n",
    "\n",
    "def ionizationElectronPosition(data,mother,targetvolume='EL_GAP',EventLimit=2):\n",
    "    TotalEvents=int(data['configuration'][2][1])\n",
    "    values={}\n",
    "\n",
    "    \n",
    "    if(EventLimit>TotalEvents):\n",
    "        EventLimit=TotalEvents\n",
    "        \n",
    "    for EventID in range(0,EventLimit):\n",
    "        # obtain current event id\n",
    "        EventIDMask=data[\"particles\"][\"event_id\"]==EventID\n",
    "        \n",
    "        #store particle infor for this event\n",
    "        ParticlesTable=data[\"particles\"][EventIDMask]\n",
    "        # Create Mother mask for expected mother\n",
    "        MotherMask=ParticlesTable[\"particle_name\"]==mother\n",
    "        # Interested particles\n",
    "        IonizationElectronsMask=ParticlesTable[\"final_volume\"]==targetvolume\n",
    "        #obtain mother ids\n",
    "        IonizationElectronMotherID=ParticlesTable[\"mother_id\"][IonizationElectronsMask]\n",
    "        #Expected Mother IDs\n",
    "        ExpectedMotherID=ParticlesTable[\"particle_id\"][MotherMask]\n",
    "        # Find intersection of the motherIds of ie and Expected Mother\n",
    "        MotherIDMask=np.isin(IonizationElectronMotherID,ExpectedMotherID)\n",
    "        FinalPositions=[ParticlesTable[\"final_x\"][IonizationElectronsMask][MotherIDMask],ParticlesTable[\"final_y\"][IonizationElectronsMask][MotherIDMask],ParticlesTable[\"final_z\"][IonizationElectronsMask][MotherIDMask]]\n",
    "        values[EventID]=FinalPositions\n",
    "    return values\n",
    "        \n",
    "def getvalues(file):\n",
    "    data = h.File(file,'r')\n",
    "    return data['MC']\n",
    "                \n",
    "    \n",
    "class Gas_Properties():\n",
    "    # gas values for 500V/cm at 10 bar\n",
    "    # simulated from PyBoltz\n",
    "    def __init__(self):\n",
    "        #self.Wvalue = 22.1 # in eV\n",
    "        #self.Vd = 935000.0 # cm/s\n",
    "        #self.Dt = 6114.291 # cm**2/s\n",
    "        #self.Dl = 506.464  # cm**2/s\n",
    "        #self.Life_Time = 0.001 # in s\n",
    "        \n",
    "        self.Wvalue = 22.1 # in eV\n",
    "        self.Vd = 94000 # cm/s\n",
    "        self.Dt = 395.80 # cm**2/s\n",
    "        self.Dl = 61.15  # cm**2/s\n",
    "        self.Life_Time = 0.001 # in s\n",
    "        \n",
    "        \n",
    "        \n",
    "GasProps = Gas_Properties()"
   ]
  },
  {
   "cell_type": "raw",
   "id": "ac70c161",
   "metadata": {},
   "source": [
    "\n",
    "HITS = Get_hit_array(\"/media/ilker/Ilker/SimResults/Jan_20_2022/Alphas.h5\", 2,b'alpha')"
   ]
  },
  {
   "cell_type": "raw",
   "id": "dbcd85f6",
   "metadata": {},
   "source": [
    "ones=np.ones((1,300000))\n",
    "test=np.array([0,0,0,1])\n",
    "kk=np.meshgrid(test,ones)"
   ]
  },
  {
   "cell_type": "raw",
   "id": "07dd2a6d",
   "metadata": {},
   "source": [
    "print(HITS[\"x\"])"
   ]
  },
  {
   "cell_type": "raw",
   "id": "7376e9df",
   "metadata": {
    "scrolled": false
   },
   "source": [
    "HITS[\"x\"]=HITS[\"x\"]+16\n",
    "Diff_X, Diff_Y, Diff_Z = Diffuser(HITS, 5)"
   ]
  },
  {
   "cell_type": "code",
   "execution_count": null,
   "id": "adopted-drilling",
   "metadata": {},
   "outputs": [],
   "source": []
  },
  {
   "cell_type": "code",
   "execution_count": null,
   "id": "fixed-happening",
   "metadata": {},
   "outputs": [],
   "source": []
  },
  {
   "cell_type": "code",
   "execution_count": null,
   "id": "innovative-psychology",
   "metadata": {},
   "outputs": [],
   "source": []
  },
  {
   "cell_type": "raw",
   "id": "d12b1f7e",
   "metadata": {},
   "source": [
    "\n",
    "bins = [np.arange(-10, 10, 0.1), np.arange(-10, 10, 0.1)]\n",
    "cmap = plt.get_cmap('cividis')\n",
    "cmap = plt.get_cmap('afmhot')\n",
    "\n",
    "fig = plt.figure(figsize=(10,8))\n",
    "\n",
    "ax1 = fig.add_subplot(111)\n",
    "ax1.set_title(\"Austin's Code Diffusion at 5cm\")\n",
    "h1 = ax1.hist2d(Diff_X, Diff_Y, bins=bins, cmap=cmap)\n",
    "\n",
    "cbar1 = plt.colorbar(h1[3])\n",
    "cbar1.set_label('Electrons', fontsize=18)\n",
    "cbar1.ax.tick_params(labelsize=18)\n",
    "# cbar1.ax.set_title('Electrons',fontsize=18, rotation=270)\n",
    "\n",
    "ax1.set_ylabel(r'Y  [cm]',fontsize=18)\n",
    "ax1.set_xlabel(r'X  [cm]',fontsize=18)\n",
    "ax1.tick_params(labelsize=18)\n",
    "ax1.set_xlim(-1,1)\n",
    "ax1.set_ylim(-1,1)\n",
    "\n",
    "plt.tight_layout()\n",
    "# plt.savefig(\"Reco_Hist.png\",dpi=250,bbox_inches='tight')\n",
    "plt.show()"
   ]
  },
  {
   "cell_type": "raw",
   "id": "e4d0d76d",
   "metadata": {},
   "source": [
    "\n",
    "Diff_X, Diff_Y, Diff_Z = Diffuser(HITS, 5)\n"
   ]
  },
  {
   "cell_type": "raw",
   "id": "54d887bb",
   "metadata": {},
   "source": [
    "cell_size=0.0016\n",
    "\n"
   ]
  },
  {
   "cell_type": "raw",
   "id": "3e2b8135",
   "metadata": {},
   "source": [
    "print(Diff_X)"
   ]
  },
  {
   "cell_type": "raw",
   "id": "5baa29c8",
   "metadata": {},
   "source": [
    "#bins = [np.linspace(0, 512, 512), np.linspace(0, 512, 512)]\n",
    "bins = [np.linspace(0, 512, 512), np.linspace(0, 512, 512)]\n",
    "cmap = plt.get_cmap('cividis')\n",
    "cmap = plt.get_cmap('afmhot')\n",
    "\n",
    "fig = plt.figure(figsize=(10,8))\n",
    "ax1 = fig.add_subplot(111)\n",
    "\n",
    "h1 = ax1.hist2d(Diff_X, Diff_Y, bins=bins, cmap=cmap)\n",
    "\n",
    "cbar1 = plt.colorbar(h1[3])\n",
    "cbar1.set_label('Electrons', fontsize=18)\n",
    "cbar1.ax.tick_params(labelsize=18)\n",
    "# cbar1.ax.set_title('Electrons',fontsize=18, rotation=270)\n",
    "\n",
    "ax1.set_ylabel(r'Y  [cm]',fontsize=18)\n",
    "ax1.set_xlabel(r'X  [cm]',fontsize=18)\n",
    "ax1.tick_params(labelsize=18)\n",
    "\n",
    "plt.tight_layout()\n",
    "# plt.savefig(\"Reco_Hist.png\",dpi=250,bbox_inches='tight')\n",
    "plt.show()"
   ]
  },
  {
   "cell_type": "code",
   "execution_count": 3,
   "id": "1b0b6b51",
   "metadata": {},
   "outputs": [],
   "source": [
    "### GEANT4\n",
    "\n"
   ]
  },
  {
   "cell_type": "code",
   "execution_count": 4,
   "id": "e74e477c",
   "metadata": {},
   "outputs": [],
   "source": [
    "filePath=\"/media/ilker/Ilker/SimResults/Jan_20_2022/Alpha_Prediction.h5\"\n"
   ]
  },
  {
   "cell_type": "code",
   "execution_count": 5,
   "id": "dbd4ef1f",
   "metadata": {},
   "outputs": [],
   "source": [
    "data=getvalues(filePath)"
   ]
  },
  {
   "cell_type": "code",
   "execution_count": 6,
   "id": "f92cc454",
   "metadata": {},
   "outputs": [],
   "source": [
    "Alphaies=ionizationElectronPosition(data,b'alpha',b'EL_GAP',100)"
   ]
  },
  {
   "cell_type": "code",
   "execution_count": null,
   "id": "78e4f3fc",
   "metadata": {},
   "outputs": [],
   "source": []
  },
  {
   "cell_type": "code",
   "execution_count": null,
   "id": "a2691dc9",
   "metadata": {},
   "outputs": [],
   "source": []
  },
  {
   "cell_type": "code",
   "execution_count": 7,
   "id": "c0ffe242",
   "metadata": {},
   "outputs": [],
   "source": [
    "for Event in Alphaies.keys():\n",
    "    X=(Alphaies[Event][0])/10\n",
    "    Y=Alphaies[Event][1]/10\n",
    "    bins = [np.arange(-10, 10, 0.02), np.arange(-10, 10, 0.02)]\n",
    "    cmap = plt.get_cmap('cividis')\n",
    "    cmap = plt.get_cmap('afmhot')\n",
    "\n",
    "    fig = plt.figure(figsize=(10,10))\n",
    "    ax1 = fig.add_subplot(111)\n",
    "    #ax1.set_title(\"GEANT4 Diffusion at 5cm\")\n",
    "\n",
    "\n",
    "    h1 = ax1.hist2d(X, Y, bins=bins, cmap=cmap)\n",
    "\n",
    "    #cbar1 = plt.colorbar(h1[3])\n",
    "    #cbar1.set_label('Electrons', fontsize=18)\n",
    "    #cbar1.ax.tick_params(labelsize=18)\n",
    "    # cbar1.ax.set_title('Electrons',fontsize=18, rotation=270)\n",
    "\n",
    "    #ax1.set_ylabel(r'Y  [cm]',fontsize=18)\n",
    "    #ax1.set_xlabel(r'X  [cm]',fontsize=18)\n",
    "    #ax1.tick_params(labelsize=18)\n",
    "    ax1.set_xlim(-10,10)\n",
    "    ax1.set_ylim(-10,10)\n",
    "    plt.axis('off')\n",
    "    path=\"/media/ilker/Ilker/SimResults/Jan_20_2022/Particles/Predictions/Alpha/Alphas_\"+str(Event)+\".png\"\n",
    "    plt.tight_layout()\n",
    "    plt.savefig(path,dpi=300,bbox_inches='tight')\n",
    "    #plt.show()\n",
    "    plt.close()"
   ]
  },
  {
   "cell_type": "code",
   "execution_count": 8,
   "id": "6e6fe081",
   "metadata": {},
   "outputs": [],
   "source": [
    "filePath=\"/media/ilker/Ilker/SimResults/Jan_20_2022/Betas_Prediction.h5\"\n",
    "data=getvalues(filePath)"
   ]
  },
  {
   "cell_type": "code",
   "execution_count": 9,
   "id": "828892ac",
   "metadata": {},
   "outputs": [],
   "source": [
    "Betas=ionizationElectronPosition(data,b'e-',b'EL_GAP',500)"
   ]
  },
  {
   "cell_type": "code",
   "execution_count": 10,
   "id": "e7178a46",
   "metadata": {},
   "outputs": [
    {
     "name": "stdout",
     "output_type": "stream",
     "text": [
      "{0: [array([-10.244116 , -10.2984915,  -9.022798 , ...,  16.294918 ,\n",
      "        17.338102 ,  15.978047 ], dtype=float32), array([22.403166, 18.334742, 24.096018, ..., 21.890379, 22.468437,\n",
      "       20.279278], dtype=float32), array([-107.7635, -107.7635, -107.7635, ..., -107.7635, -107.7635,\n",
      "       -107.7635], dtype=float32)], 1: [array([-18.343676, -22.829424, -17.670145, ...,  -9.975636, -10.417984,\n",
      "       -10.409285], dtype=float32), array([3.6621323e+00, 7.7558886e-03, 1.1656480e+00, ..., 1.7361927e+01,\n",
      "       1.7876617e+01, 1.8234354e+01], dtype=float32), array([-107.7635, -107.7635, -107.7635, ..., -107.7635, -107.7635,\n",
      "       -107.7635], dtype=float32)], 2: [array([-6.241043  , -0.85274327, -7.238158  , ..., 24.84347   ,\n",
      "       12.840421  , 18.967314  ], dtype=float32), array([ -6.590375 ,  -0.9140872,  -3.0498865, ..., -17.062431 ,\n",
      "       -10.960075 , -18.058136 ], dtype=float32), array([-107.7635, -107.7635, -107.7635, ..., -107.7635, -107.7635,\n",
      "       -107.7635], dtype=float32)], 3: [array([-11.338842, -10.06401 , -12.514188, ..., -26.292736, -28.657625,\n",
      "       -27.682085], dtype=float32), array([-2.486513 , -4.5145497, -6.63546  , ..., 24.753141 , 26.025743 ,\n",
      "       23.077723 ], dtype=float32), array([-107.7635, -107.7635, -107.7635, ..., -107.7635, -107.7635,\n",
      "       -107.7635], dtype=float32)], 4: [array([-12.169641, -22.92997 , -17.982752, ...,   5.061346,   8.814411,\n",
      "         7.740679], dtype=float32), array([ -6.7300653 , -11.90819   , -10.961772  , ...,   0.81121224,\n",
      "         0.6873977 ,  -0.7824047 ], dtype=float32), array([-107.7635, -107.7635, -107.7635, ..., -107.7635, -107.7635,\n",
      "       -107.7635], dtype=float32)], 5: [array([ 6.938187 ,  2.8871372,  8.695978 , ..., 14.187357 , 15.977404 ,\n",
      "       14.539419 ], dtype=float32), array([-22.45193 , -16.463305, -22.01438 , ..., -35.145813, -36.76853 ,\n",
      "       -37.80539 ], dtype=float32), array([-107.7635, -107.7635, -107.7635, ..., -107.7635, -107.7635,\n",
      "       -107.7635], dtype=float32)], 6: [array([-18.480688, -11.088013, -14.010072, ...,  15.292066,  14.287633,\n",
      "        15.925303], dtype=float32), array([-1.1137403, -5.160268 , -5.2497926, ..., 10.406132 ,  7.528019 ,\n",
      "       13.099455 ], dtype=float32), array([-107.7635, -107.7635, -107.7635, ..., -107.7635, -107.7635,\n",
      "       -107.7635], dtype=float32)], 7: [array([-10.315415 ,   1.3550423,   5.260483 , ..., -36.492928 ,\n",
      "       -36.43076  , -37.83969  ], dtype=float32), array([  9.602068,   4.483954,   8.169258, ..., -13.154802, -10.665031,\n",
      "       -10.481296], dtype=float32), array([-107.7635, -107.7635, -107.7635, ..., -107.7635, -107.7635,\n",
      "       -107.7635], dtype=float32)], 8: [array([17.160946, 14.664706, 15.512435, ..., 32.642544, 34.290195,\n",
      "       34.61471 ], dtype=float32), array([ 0.98588467,  2.9773881 ,  2.9758706 , ..., 22.74352   ,\n",
      "       23.011969  , 17.500185  ], dtype=float32), array([-107.7635, -107.7635, -107.7635, ..., -107.7635, -107.7635,\n",
      "       -107.7635], dtype=float32)], 9: [array([13.849781, 11.824118, 14.722563, ...,  9.625515, 15.778416,\n",
      "       17.791111], dtype=float32), array([-10.141226,  -8.099445,  -9.240118, ..., -38.052334, -37.03965 ,\n",
      "       -36.79488 ], dtype=float32), array([-107.7635, -107.7635, -107.7635, ..., -107.7635, -107.7635,\n",
      "       -107.7635], dtype=float32)]}\n"
     ]
    }
   ],
   "source": [
    "print(Betas)\n"
   ]
  },
  {
   "cell_type": "code",
   "execution_count": null,
   "id": "d8bbfd59",
   "metadata": {},
   "outputs": [],
   "source": []
  },
  {
   "cell_type": "code",
   "execution_count": 11,
   "id": "ba8124da",
   "metadata": {},
   "outputs": [],
   "source": [
    "for Event in Betas.keys():\n",
    "    X=(Betas[Event][0])/10\n",
    "    Y=Betas[Event][1]/10\n",
    "    bins = [np.arange(-10, 10, 0.02), np.arange(-10, 10, 0.02)]\n",
    "    cmap = plt.get_cmap('cividis')\n",
    "    cmap = plt.get_cmap('afmhot')\n",
    "\n",
    "    fig = plt.figure(figsize=(10,10))\n",
    "    ax1 = fig.add_subplot(111)\n",
    "    #ax1.set_title(\"GEANT4 Diffusion at 5cm\")\n",
    "\n",
    "\n",
    "    h1 = ax1.hist2d(X, Y, bins=bins, cmap=cmap)\n",
    "\n",
    "    #cbar1 = plt.colorbar(h1[3])\n",
    "    #cbar1.set_label('Electrons', fontsize=18)\n",
    "    #cbar1.ax.tick_params(labelsize=18)\n",
    "    # cbar1.ax.set_title('Electrons',fontsize=18, rotation=270)\n",
    "\n",
    "    #ax1.set_ylabel(r'Y  [cm]',fontsize=18)\n",
    "    #ax1.set_xlabel(r'X  [cm]',fontsize=18)\n",
    "    #ax1.tick_params(labelsize=18)\n",
    "    ax1.set_xlim(-10,10)\n",
    "    ax1.set_ylim(-10,10)\n",
    "    plt.axis('off')\n",
    "    path=\"/media/ilker/Ilker/SimResults/Jan_20_2022/Particles/Predictions/Beta/Betas_\"+str(Event)+\".png\"\n",
    "    plt.tight_layout()\n",
    "    plt.savefig(path,dpi=300,bbox_inches='tight')\n",
    "    #plt.show()\n",
    "    plt.close()"
   ]
  },
  {
   "cell_type": "code",
   "execution_count": null,
   "id": "580a4577",
   "metadata": {},
   "outputs": [],
   "source": []
  },
  {
   "cell_type": "code",
   "execution_count": 12,
   "id": "27963e1d",
   "metadata": {},
   "outputs": [],
   "source": [
    "#### "
   ]
  },
  {
   "cell_type": "code",
   "execution_count": null,
   "id": "1ba34718",
   "metadata": {},
   "outputs": [],
   "source": []
  }
 ],
 "metadata": {
  "kernelspec": {
   "display_name": "Python 3 (ipykernel)",
   "language": "python",
   "name": "python3"
  },
  "language_info": {
   "codemirror_mode": {
    "name": "ipython",
    "version": 3
   },
   "file_extension": ".py",
   "mimetype": "text/x-python",
   "name": "python",
   "nbconvert_exporter": "python",
   "pygments_lexer": "ipython3",
   "version": "3.9.13"
  }
 },
 "nbformat": 4,
 "nbformat_minor": 5
}
