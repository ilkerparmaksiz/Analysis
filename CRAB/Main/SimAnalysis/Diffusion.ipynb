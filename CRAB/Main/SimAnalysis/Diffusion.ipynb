{
 "cells": [
  {
   "cell_type": "code",
   "execution_count": 1,
   "id": "about-cedar",
   "metadata": {},
   "outputs": [],
   "source": [
    "import numpy as np\n",
    "import matplotlib.pyplot as plt\n",
    "import uproot\n",
    "import h5py as h\n"
   ]
  },
  {
   "cell_type": "code",
   "execution_count": null,
   "id": "aquatic-walter",
   "metadata": {},
   "outputs": [],
   "source": []
  },
  {
   "cell_type": "code",
   "execution_count": 8,
   "id": "charming-feelings",
   "metadata": {},
   "outputs": [],
   "source": [
    "def Get_hit_array(file, Current_Event):\n",
    "    data = h.File(file,'r')\n",
    "    TotalEvents=int(data['MC']['configuration'][2][1])\n",
    "    if(TotalEvents < Current_Event):\n",
    "        print('out of event range')\n",
    "\n",
    "    Current_Hit_Mask = data['MC']['hits']['event_id'] == Current_Event \n",
    "    Current_Particle_Mask = data[\"MC\"]['particles']['event_id'] == Current_Event\n",
    "    Hits_PIDs=data['MC']['hits'][Current_Hit_Mask]['particle_id'] \n",
    "    Current_Particles=data['MC']['particles'][Current_Particle_Mask]\n",
    "\n",
    "    Electron_Mask = Current_Particles['particle_name'] == b'e-'\n",
    "\n",
    "    Electron_PIDS = data['MC']['particles'][Current_Particle_Mask][Electron_Mask]['particle_id']\n",
    "\n",
    "    Hit_Electron_Maks = np.in1d(Hits_PIDs, Electron_PIDS)\n",
    "    ElectronData=data['MC']['hits'][Current_Hit_Mask][Hit_Electron_Maks]\n",
    "\n",
    "    return ElectronData\n",
    "\n",
    "\n",
    "def Diffuser(HIT_ARRAY,ZOFFSET):\n",
    "    Etotal = 0\n",
    "    Diffused_X = []\n",
    "    Diffused_Y = []\n",
    "    Diffused_Z = []\n",
    "\n",
    "    for hit in HIT_ARRAY:\n",
    "        energy_deposit = hit['energy']\n",
    "        electron_loc_x = hit['x']/10\n",
    "        electron_loc_y = hit['y']/10\n",
    "    #     electron_loc_z = hit['z']/10 + Zoffset\n",
    "        electron_loc_z = ZOFFSET\n",
    "\n",
    "        Etotal += energy_deposit\n",
    "\n",
    "        Nelectron = int( (energy_deposit*1e6/GasProps.Wvalue) );\n",
    "\n",
    "        # Loop through the electrons \n",
    "        for electron in range(Nelectron):\n",
    "\n",
    "            # calculate drift time for diffusion \n",
    "            T_drift = electron_loc_z / GasProps.Vd\n",
    "            if (T_drift <=0):\n",
    "                print(\"Warnign T_drift is negative\")\n",
    "                continue\n",
    "            # electron lifetime\n",
    "            if (np.random.uniform() >= np.exp(-T_drift/GasProps.Life_Time)):\n",
    "                continue\n",
    "\n",
    "            # diffuse the electrons position\n",
    "            sigma_T = np.sqrt(2*GasProps.Dt*T_drift)\n",
    "            sigma_L = np.sqrt(2*GasProps.Dl*T_drift)\n",
    "            electron_x = np.random.normal(electron_loc_x,sigma_T)\n",
    "            electron_y = np.random.normal(electron_loc_y,sigma_T)\n",
    "            electron_z = np.random.normal(electron_loc_z,sigma_L)\n",
    "            Diffused_X.append(electron_x)\n",
    "            Diffused_Y.append(electron_y)\n",
    "            Diffused_Z.append(electron_z)\n",
    "    print(\"evnet has {} MeV and made {} electrons\".format(round(Etotal,3), len(Diffused_X)))\n",
    "        \n",
    "        \n",
    "    return Diffused_X, Diffused_Y, Diffused_Z\n",
    "\n",
    "\n",
    "\n",
    "\n",
    "def Diffuserv2(HIT_ARRAY,ZOFFSET):\n",
    "    Etotal = 0\n",
    "    Diffused_X = []\n",
    "    Diffused_Y = []\n",
    "    Diffused_Z = []\n",
    "\n",
    "    for hit in HIT_ARRAY:\n",
    "        energy_deposit = hit[3]\n",
    "        electron_loc_x = hit[0]\n",
    "        electron_loc_y = hit[1]\n",
    "        #electron_loc_z = hit[2] + Zoffset\n",
    "        electron_loc_z = ZOFFSET\n",
    "\n",
    "        Etotal += energy_deposit\n",
    "\n",
    "       \n",
    "        # calculate drift time for diffusion \n",
    "        T_drift = electron_loc_z / GasProps.Vd\n",
    "        if (T_drift <=0):\n",
    "            print(\"Warnign T_drift is negative\")\n",
    "            continue\n",
    "        # electron lifetime\n",
    "        if (np.random.uniform() >= np.exp(-T_drift/GasProps.Life_Time)):\n",
    "            continue\n",
    "\n",
    "        # diffuse the electrons position\n",
    "        sigma_T = np.sqrt(2*GasProps.Dt*T_drift)\n",
    "        sigma_L = np.sqrt(2*GasProps.Dl*T_drift)\n",
    "        electron_x = np.random.normal(electron_loc_x,sigma_T)\n",
    "        electron_y = np.random.normal(electron_loc_y,sigma_T)\n",
    "        electron_z = np.random.normal(electron_loc_z,sigma_L)\n",
    "        Diffused_X.append(electron_x)\n",
    "        Diffused_Y.append(electron_y)\n",
    "        Diffused_Z.append(electron_z)\n",
    "    print(\"evnet has {} MeV and made {} electrons\".format(round(Etotal,3), len(Diffused_X)))\n",
    "        \n",
    "        \n",
    "    return Diffused_X, Diffused_Y, Diffused_Z\n",
    "\n",
    "\n",
    "class Gas_Properties():\n",
    "    # gas values for 500V/cm at 10 bar\n",
    "    # simulated from PyBoltz\n",
    "    def __init__(self):\n",
    "        #self.Wvalue = 22.1 # in eV\n",
    "        #self.Vd = 935000.0 # cm/s\n",
    "        #self.Dt = 6114.291 # cm**2/s\n",
    "        #self.Dl = 506.464  # cm**2/s\n",
    "        #self.Life_Time = 0.001 # in s\n",
    "        \n",
    "        self.Wvalue = 22.1 # in eV\n",
    "        self.Vd = 935000.0 # cm/s\n",
    "        self.Dt = 6114.291 # cm**2/s\n",
    "        self.Dl = 506.464  # cm**2/s\n",
    "        self.Life_Time = 0.001 # in s\n",
    "        \n",
    "        \n",
    "        \n",
    "GasProps = Gas_Properties()"
   ]
  },
  {
   "cell_type": "code",
   "execution_count": 3,
   "id": "settled-manner",
   "metadata": {},
   "outputs": [],
   "source": [
    "#HITS = Get_hit_array(\"/media/ilker/writable/DATA/Sr90Encl_5mm_4_8_offset_nov2.h5\", 200)"
   ]
  },
  {
   "cell_type": "code",
   "execution_count": 4,
   "id": "wired-courtesy",
   "metadata": {},
   "outputs": [],
   "source": [
    "ones=np.ones((1,300000))\n",
    "test=np.array([0,0,0,1])\n",
    "kk=np.meshgrid(test,ones)"
   ]
  },
  {
   "cell_type": "code",
   "execution_count": 15,
   "id": "resistant-haven",
   "metadata": {
    "scrolled": false
   },
   "outputs": [
    {
     "name": "stdout",
     "output_type": "stream",
     "text": [
      "evnet has 300000 MeV and made 296842 electrons\n"
     ]
    }
   ],
   "source": [
    "Diff_X, Diff_Y, Diff_Z = Diffuserv2(kk[0], 10)"
   ]
  },
  {
   "cell_type": "code",
   "execution_count": null,
   "id": "adopted-drilling",
   "metadata": {},
   "outputs": [],
   "source": []
  },
  {
   "cell_type": "code",
   "execution_count": null,
   "id": "fixed-happening",
   "metadata": {},
   "outputs": [],
   "source": []
  },
  {
   "cell_type": "code",
   "execution_count": null,
   "id": "innovative-psychology",
   "metadata": {},
   "outputs": [],
   "source": []
  },
  {
   "cell_type": "code",
   "execution_count": 16,
   "id": "consistent-syria",
   "metadata": {},
   "outputs": [
    {
     "data": {
      "image/png": "[encoded data removed]",
      "text/plain": [
       "<Figure size 720x576 with 2 Axes>"
      ]
     },
     "metadata": {
      "needs_background": "light"
     },
     "output_type": "display_data"
    }
   ],
   "source": [
    "bins = [np.arange(-10, 10, 0.1), np.arange(-10, 10, 0.1)]\n",
    "cmap = plt.get_cmap('cividis')\n",
    "cmap = plt.get_cmap('afmhot')\n",
    "\n",
    "fig = plt.figure(figsize=(10,8))\n",
    "ax1 = fig.add_subplot(111)\n",
    "\n",
    "h1 = ax1.hist2d(Diff_X, Diff_Y, bins=bins, cmap=cmap)\n",
    "\n",
    "cbar1 = plt.colorbar(h1[3])\n",
    "cbar1.set_label('Electrons', fontsize=18)\n",
    "cbar1.ax.tick_params(labelsize=18)\n",
    "# cbar1.ax.set_title('Electrons',fontsize=18, rotation=270)\n",
    "\n",
    "ax1.set_ylabel(r'Y  [cm]',fontsize=18)\n",
    "ax1.set_xlabel(r'X  [cm]',fontsize=18)\n",
    "ax1.tick_params(labelsize=18)\n",
    "ax1.set_xlim(-10,10)\n",
    "ax1.set_ylim(-10,10)\n",
    "\n",
    "plt.tight_layout()\n",
    "# plt.savefig(\"Reco_Hist.png\",dpi=250,bbox_inches='tight')\n",
    "plt.show()"
   ]
  }
 ],
 "metadata": {
  "kernelspec": {
   "display_name": "Python 3",
   "language": "python",
   "name": "python3"
  },
  "language_info": {
   "codemirror_mode": {
    "name": "ipython",
    "version": 3
   },
   "file_extension": ".py",
   "mimetype": "text/x-python",
   "name": "python",
   "nbconvert_exporter": "python",
   "pygments_lexer": "ipython3",
   "version": "3.9.7"
  }
 },
 "nbformat": 4,
 "nbformat_minor": 5
}
