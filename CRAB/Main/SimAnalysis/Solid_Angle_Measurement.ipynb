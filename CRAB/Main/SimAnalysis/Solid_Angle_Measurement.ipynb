{
 "cells": [
  {
   "cell_type": "code",
   "execution_count": null,
   "id": "0d4bcedf",
   "metadata": {},
   "outputs": [],
   "source": []
  },
  {
   "cell_type": "code",
   "execution_count": 13,
   "id": "f7eb5b82",
   "metadata": {},
   "outputs": [],
   "source": [
    "### Photons\n",
    "\n",
    "## point Source\n",
    "Point_SolidAngle=lambda r,R:(r**2/(4*R**2))\n",
    "\n",
    "## Disk Source\n",
    "Disk_SolidAngle=lambda A,B:(B**2/4)*(1-3/4*(A**2+B**2)+15/8*(1/3*(A**4+B**4)+(A*B)**2)-35/16*(1/4*(A**6+B**6)+3/2*(A*B)**2*(A**2+B**2)))"
   ]
  },
  {
   "cell_type": "code",
   "execution_count": 15,
   "id": "5708e33e",
   "metadata": {},
   "outputs": [],
   "source": [
    "d=35\n",
    "Point=266559*970*0.7*0.105*Point_SolidAngle(0.5,d)\n",
    "Disk=266559*970*0.7*0.105*Point_SolidAngle(0.5,10.8)*Disk_SolidAngle(0.5/2.2,1.27/2.2)"
   ]
  },
  {
   "cell_type": "code",
   "execution_count": 16,
   "id": "ad47d6f3",
   "metadata": {},
   "outputs": [
    {
     "name": "stdout",
     "output_type": "stream",
     "text": [
      "969.6083624999999\n",
      "655.4734541783117\n"
     ]
    }
   ],
   "source": [
    "print(Point)\n",
    "print(Disk)\n"
   ]
  }
 ],
 "metadata": {
  "kernelspec": {
   "display_name": "Python 3 (ipykernel)",
   "language": "python",
   "name": "python3"
  },
  "language_info": {
   "codemirror_mode": {
    "name": "ipython",
    "version": 3
   },
   "file_extension": ".py",
   "mimetype": "text/x-python",
   "name": "python",
   "nbconvert_exporter": "python",
   "pygments_lexer": "ipython3",
   "version": "3.10.6"
  }
 },
 "nbformat": 4,
 "nbformat_minor": 5
}
