{
 "cells": [
  {
   "cell_type": "code",
   "execution_count": 1,
   "id": "f6c3e474",
   "metadata": {},
   "outputs": [],
   "source": [
    "import pandas as pd\n",
    "import glob\n",
    "import os\n",
    "import argparse\n",
    "import pickle\n",
    "import datetime\n",
    "import csv\n",
    "import matplotlib.pyplot as plt\n",
    "import numpy as np\n",
    "from matplotlib import colors\n",
    "from random import random\n",
    "from scipy.optimize import curve_fit\n",
    "from scipy.stats import norm"
   ]
  },
  {
   "cell_type": "code",
   "execution_count": 2,
   "id": "7b64c459",
   "metadata": {},
   "outputs": [],
   "source": [
    "os.chdir('/Users/ivana/Programming/Research/EL_PMT_Characterization/10barXe/Data')"
   ]
  },
  {
   "cell_type": "code",
   "execution_count": 3,
   "id": "601fc799",
   "metadata": {},
   "outputs": [],
   "source": [
    "\n",
    "PMTData = []\n",
    "with open(\"F1EL++14kV.csv\") as csvfile:\n",
    "    next(csvfile)\n",
    "    next(csvfile)\n",
    "    next(csvfile)\n",
    "    next(csvfile)\n",
    "    next(csvfile)\n",
    "    reader = csv.reader(csvfile, quoting=csv.QUOTE_NONNUMERIC) # change contents to floats\n",
    "    for row in reader: # each row is a list\n",
    "        PMTData.append(row)\n",
    "\n",
    "PMTHits = []\n",
    "PMTVals = []\n",
    "for x in PMTData:\n",
    "    PMTHits.append(x[1])\n",
    "    PMTVals.append(x[0])"
   ]
  },
  {
   "cell_type": "code",
   "execution_count": 4,
   "id": "0ea945b8",
   "metadata": {},
   "outputs": [
    {
     "name": "stdout",
     "output_type": "stream",
     "text": [
      "50\n",
      "50\n"
     ]
    }
   ],
   "source": [
    "#Let's see how much data there is\n",
    "\n",
    "print(len(PMTHits))\n",
    "print(len(PMTVals))"
   ]
  },
  {
   "cell_type": "code",
   "execution_count": 5,
   "id": "ddfb2c88",
   "metadata": {},
   "outputs": [],
   "source": [
    "PMTHits = [number / 300 for number in PMTHits]"
   ]
  },
  {
   "cell_type": "code",
   "execution_count": 6,
   "id": "4be15259",
   "metadata": {},
   "outputs": [],
   "source": [
    "def gaussgauss(x, amp, mu, sigma, amp2, mu2, sigma2):\n",
    "    \n",
    "    #see formula for normalized gaussian at https://en.wikipedia.org/wiki/Gaussian_function \n",
    "    #I cleaned up the formula so the arithmatic is clear\n",
    "\n",
    "    return ((amp/(sigma*np.sqrt(2*np.pi))) * np.exp((-0.5*((x-mu)**2.))/(2*(sigma**2.)))) + ((amp2/(sigma2*np.sqrt(2*np.pi))) * np.exp((-0.5*((x-mu2)**2.))/(2*(sigma2**2.))))\n",
    "\n",
    "def expgauss(x, a0, tau, amp, mu, sigma):\n",
    "    return a0 * np.exp(x/tau) + amp/(2*np.pi)**.5/sigma * np.exp(-0.5*(x-mu)**2./sigma**2.)\n",
    "\n",
    "\n",
    "def fit(func, x, y, fit_range=None, **kwargs):\n",
    "    vals, cov = curve_fit(func, x, y, absolute_sigma = True, bounds = ((0,-1,0,0,-0.3,0),(10,0,1,10,-0.1,1)), **kwargs)\n",
    "    \n",
    "    return vals"
   ]
  },
  {
   "cell_type": "code",
   "execution_count": 7,
   "id": "b1bcba1d",
   "metadata": {},
   "outputs": [
    {
     "data": {
      "text/plain": [
       "(-1.48e-10, 4.8e-11)"
      ]
     },
     "execution_count": 7,
     "metadata": {},
     "output_type": "execute_result"
    }
   ],
   "source": [
    "min(PMTVals),max(PMTVals)"
   ]
  },
  {
   "cell_type": "code",
   "execution_count": 8,
   "id": "7d8f72cc",
   "metadata": {},
   "outputs": [
    {
     "name": "stdout",
     "output_type": "stream",
     "text": [
      "(-2.96, 0.9600000000000001)\n",
      "[ 3.19705545 -0.86062691  0.28535587  2.08832949 -0.14646092  0.06010641]\n"
     ]
    },
    {
     "data": {
      "text/plain": [
       "[<matplotlib.lines.Line2D at 0x11c930700>]"
      ]
     },
     "execution_count": 8,
     "metadata": {},
     "output_type": "execute_result"
    },
    {
     "data": {
      "image/png": "[encoded data removed]",
      "text/plain": [
       "<Figure size 720x432 with 1 Axes>"
      ]
     },
     "metadata": {},
     "output_type": "display_data"
    }
   ],
   "source": [
    "### First, hist the data\n",
    "\n",
    "plt.figure(figsize=(10, 6),facecolor='w') \n",
    "plt.hist(PMTVals, bins = 50, weights = PMTHits, color = 'cornflowerblue', edgecolor='black')\n",
    "#plt.xlim(-1.5e-10,0.5e-10 )\n",
    "plt.ylabel('Counts/sec',fontsize=14)\n",
    "plt.xlabel('Charge',fontsize=14)\n",
    "plt.title('EL++ 14kV 10bar Xe',fontsize=16)\n",
    "plt.tight_layout()\n",
    "plt.plot()\n",
    "\n",
    "\n",
    "### Now the fit, just like in the\n",
    "### example\n",
    "\n",
    "\n",
    "### We need an extra step: For our fit,\n",
    "### we need to define the x-values.\n",
    "### Let's use the max and min of the\n",
    "### x data (PMTVals)\n",
    "\n",
    "\n",
    "PMTVals_upscaled = np.array(PMTVals)*(2e10)\n",
    "\n",
    "print((min(PMTVals_upscaled),max(PMTVals_upscaled)))\n",
    "\n",
    "x = np.linspace(min(PMTVals_upscaled),max(PMTVals_upscaled),1000)\n",
    "\n",
    "fitparams=fit(gaussgauss,PMTVals_upscaled,PMTHits)\n",
    "print(fitparams)\n",
    "\n",
    "\n",
    "shrink_x_back = np.linspace(min(PMTVals),max(PMTVals),1000)\n",
    "\n",
    "y2 = gaussgauss(x, fitparams[0],fitparams[1],fitparams[2],fitparams[3],fitparams[4],fitparams[5])\n",
    "\n",
    "\n",
    "\n",
    "plt.plot(shrink_x_back,y2,color='tomato',zorder=5,lw=5)\n"
   ]
  },
  {
   "cell_type": "code",
   "execution_count": 9,
   "id": "6f70c3d3",
   "metadata": {},
   "outputs": [
    {
     "data": {
      "text/plain": [
       "(-1.48e-10, 4.8e-11)"
      ]
     },
     "execution_count": 9,
     "metadata": {},
     "output_type": "execute_result"
    }
   ],
   "source": [
    "min(shrink_x_back),max(shrink_x_back)"
   ]
  },
  {
   "cell_type": "code",
   "execution_count": 10,
   "id": "a6cba3dc",
   "metadata": {},
   "outputs": [
    {
     "name": "stdout",
     "output_type": "stream",
     "text": [
      "4.000000000000012e-12\n",
      "0.08000000000000007\n",
      "0.003923923923923933\n"
     ]
    }
   ],
   "source": [
    "print(abs(PMTVals[0]-PMTVals[1]))\n",
    "    \n",
    "print(abs(PMTVals_upscaled[0]-PMTVals_upscaled[1]))\n",
    "\n",
    "print(abs(x[0]-x[1]))\n",
    "\n",
    "rescale_factor = abs(PMTVals[0]-PMTVals[1]) / abs(x[0]-x[1])"
   ]
  },
  {
   "cell_type": "code",
   "execution_count": null,
   "id": "cd7ea500",
   "metadata": {},
   "outputs": [],
   "source": []
  },
  {
   "cell_type": "code",
   "execution_count": null,
   "id": "f1f1cca4",
   "metadata": {},
   "outputs": [],
   "source": []
  }
 ],
 "metadata": {
  "kernelspec": {
   "display_name": "Python 3",
   "language": "python",
   "name": "python3"
  },
  "language_info": {
   "codemirror_mode": {
    "name": "ipython",
    "version": 3
   },
   "file_extension": ".py",
   "mimetype": "text/x-python",
   "name": "python",
   "nbconvert_exporter": "python",
   "pygments_lexer": "ipython3",
   "version": "3.9.7"
  }
 },
 "nbformat": 4,
 "nbformat_minor": 5
}
