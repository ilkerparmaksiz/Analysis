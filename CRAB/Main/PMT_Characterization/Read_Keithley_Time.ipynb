{
 "cells": [
  {
   "cell_type": "code",
   "execution_count": 1,
   "metadata": {},
   "outputs": [],
   "source": [
    "import pyvisa                                     # Required to talk to Keithley\n",
    "import serial                                   # Required to connect to USB Devices\n",
    "import msvcrt                                   # required to detect keyboard press\n",
    "import time                                     # Required to sleep\n",
    "import os                                       # Required to change directory\n",
    "import datetime                                 # Required to figure out current system time\n",
    "import math                                     # Required to do complex math\n",
    "import csv                                      # Required to save to .csv files\n",
    "import numpy as np                              # Required for arrays \n",
    "import pandas as pd                             # Required for Data Frames\n",
    "from tkinter import *                           #\n",
    "from tkinter.filedialog import askopenfilename  # Required for choosing file location\n",
    "from tkinter.filedialog import askdirectory     #\n",
    "from matplotlib import pyplot as plt            # Required for plots\n",
    "import matplotlib.ticker as ticker              # Required for grid on plots\n",
    "import datetime                                 # Required to log time of errors\n",
    "#%matplotlib"
   ]
  },
  {
   "cell_type": "code",
   "execution_count": 2,
   "metadata": {},
   "outputs": [
    {
     "name": "stdout",
     "output_type": "stream",
     "text": [
      "\n",
      "\n",
      "#############################################################\n",
      "###                                                       ###\n",
      "###    Press ENTER to choose the folder for where the     ###\n",
      "###            lifetime_test current measurement          ###\n",
      "###                 data will be stored.                  ###\n",
      "###                                                       ###\n",
      "#############################################################\n",
      "\n"
     ]
    }
   ],
   "source": [
    "print(\"\\n\")\n",
    "print(\"#############################################################\")\n",
    "print(\"###                                                       ###\")\n",
    "print(\"###    Press ENTER to choose the folder for where the     ###\")\n",
    "print(\"###            lifetime_test current measurement          ###\")\n",
    "print(\"###                 data will be stored.                  ###\")\n",
    "print(\"###                                                       ###\")\n",
    "print(\"#############################################################\")\n",
    "file = input(\"\")            # Waits for user to press enter before File \n",
    "foldername = askdirectory() # Opens File Explorer to choose and save file location\n",
    "os.chdir(foldername)        # Changes the directory to chosen file location\n",
    "Tk().destroy()             # Closes the main Tk wiindow"
   ]
  },
  {
   "cell_type": "code",
   "execution_count": 3,
   "metadata": {},
   "outputs": [
    {
     "data": {
      "text/plain": [
       "('TCPIP0::129.107.83.133::inst0::INSTR',\n",
       " 'ASRL1::INSTR',\n",
       " 'ASRL2::INSTR',\n",
       " 'ASRL4::INSTR',\n",
       " 'ASRL6::INSTR',\n",
       " 'ASRL7::INSTR',\n",
       " 'ASRL8::INSTR')"
      ]
     },
     "execution_count": 3,
     "metadata": {},
     "output_type": "execute_result"
    }
   ],
   "source": [
    "rm=pyvisa.ResourceManager()\n",
    "rm.list_resources()"
   ]
  },
  {
   "cell_type": "code",
   "execution_count": 4,
   "metadata": {},
   "outputs": [
    {
     "name": "stdout",
     "output_type": "stream",
     "text": [
      "KEITHLEY INSTRUMENTS INC.,MODEL 6485,4125305,C01   Jun 23 2010 12:22:00/A02  /J\n"
     ]
    }
   ],
   "source": [
    "my_instrument = rm.open_resource('ASRL7::INSTR',read_termination='\\r')\n",
    "time.sleep(5)\n",
    "print(my_instrument.query(\"*IDN?\"))"
   ]
  },
  {
   "cell_type": "code",
   "execution_count": null,
   "metadata": {},
   "outputs": [
    {
     "name": "stdout",
     "output_type": "stream",
     "text": [
      "Press Enter in the command prompt to exit the data acquisition\n"
     ]
    }
   ],
   "source": [
    "time.sleep(5)\n",
    "my_instrument.write(\"TRAC:CLE\")\n",
    "my_instrument.write(\"ARM:SOUR IMM\")\n",
    "my_instrument.write(\"ARM:COUN 1\")\n",
    "my_instrument.write(\"TRIG:SOUR IMM\")\n",
    "my_instrument.write(\"TRIG:COUN 1\")\n",
    "Sum = 0\n",
    "k = 0\n",
    "file_num = 0\n",
    "Start = float(my_instrument.query(\"READ?\").split(\",\")[1].replace(\"+\", \"\"))\n",
    "print(\"Press Enter in the command prompt to exit the data acquisition\")\n",
    "while (1):\n",
    "    Time = []\n",
    "    Current = []\n",
    "    for i in range(0,100):\n",
    "        my_instrument.write(\"TRAC:CLE\")\n",
    "        X = my_instrument.query(\"READ?\")\n",
    "        curr=float(X.split(\",\")[0].replace(\"+\", \"\").replace(\"A\",\"\"))\n",
    "        tim=float(X.split(\",\")[1].replace(\"+\", \"\"))\n",
    "        if(curr < 1.0*10**-11 or curr > 2.0*10**-11):\n",
    "            Log = open(\"Error_Log.txt\", \"a\")\n",
    "            Log.write(\"{} {}\\n\".format(curr,datetime.datetime.now()))\n",
    "            Log.close()\n",
    "        Sum += curr\n",
    "        if(i != 0 or k>0):\n",
    "            if(k==0):\n",
    "                Avg = Sum/i\n",
    "            else:\n",
    "                Avg = Sum/(i+(k-1))\n",
    "        Current.append(curr)\n",
    "        Time.append(tim - Start)\n",
    "        time.sleep(1)\n",
    "        if(i == 99):\n",
    "            k = k+i+1\n",
    "            plt.figure(figsize = (12,8))\n",
    "            plt.xlim(Time[0],Time[len(Time)-1]+2.5)\n",
    "            plt.plot(Time, Current)\n",
    "            plt.savefig('Keithley_Time_Current_{}.png'.format(file_num))\n",
    "            plt.close()\n",
    "            Save = np.array(pd.concat([pd.DataFrame(Current), pd.DataFrame(Time)], axis=1))\n",
    "            np.savetxt('current_time{}.txt'.format(file_num), Save)\n",
    "            Avg_log = open(\"Current Avg Log.txt\", \"a\")\n",
    "            Avg_log.write(\"{} {}\\n\".format(Avg, datetime.datetime.now()))\n",
    "            Avg_log.close()\n",
    "    file_num = file_num + 1\n",
    "    for i in range (0,100):\n",
    "        enter_key=0\n",
    "        #print(enter_key)\n",
    "        if msvcrt.kbhit():\n",
    "            if ord(msvcrt.getch()) == 13:\n",
    "                enter_key = ord(msvcrt.getch())\n",
    "                break\n",
    "        time.sleep(3)\n",
    "    if (enter_key == 13):\n",
    "        break "
   ]
  },
  {
   "cell_type": "code",
   "execution_count": null,
   "metadata": {},
   "outputs": [],
   "source": [
    "time.sleep(2)\n",
    "rm.close()"
   ]
  },
  {
   "cell_type": "code",
   "execution_count": null,
   "metadata": {},
   "outputs": [],
   "source": [
    "msvcrt.getch()"
   ]
  },
  {
   "cell_type": "code",
   "execution_count": null,
   "metadata": {},
   "outputs": [],
   "source": []
  },
  {
   "cell_type": "code",
   "execution_count": null,
   "metadata": {},
   "outputs": [],
   "source": []
  }
 ],
 "metadata": {
  "kernelspec": {
   "display_name": "Python 3 (ipykernel)",
   "language": "python",
   "name": "python3"
  },
  "language_info": {
   "codemirror_mode": {
    "name": "ipython",
    "version": 3
   },
   "file_extension": ".py",
   "mimetype": "text/x-python",
   "name": "python",
   "nbconvert_exporter": "python",
   "pygments_lexer": "ipython3",
   "version": "3.9.12"
  }
 },
 "nbformat": 4,
 "nbformat_minor": 2
}
