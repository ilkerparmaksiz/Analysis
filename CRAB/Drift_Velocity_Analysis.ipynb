{
 "cells": [
  {
   "cell_type": "code",
   "execution_count": 1,
   "id": "37dc766b",
   "metadata": {},
   "outputs": [],
   "source": [
    "import pickle\n",
    "import numpy as np\n",
    "import matplotlib \n",
    "import matplotlib.pyplot as plt\n",
    "import statistics as st\n",
    "import os\n",
    "import glob\n",
    "import scipy.optimize as opt\n",
    "import pandas as pd\n",
    "import datetime\n",
    "import pyarrow as pyarr\n",
    "import warnings\n",
    "\n",
    "%matplotlib inline\n",
    "\n",
    "%matplotlib inline\n",
    "warnings.filterwarnings('ignore')\n",
    "\n",
    "font = {'family' : 'Ubuntu',\n",
    "        'weight' : 'bold',\n",
    "        'size'   : 30}\n",
    "\n",
    "matplotlib.rc('font', **font)"
   ]
  },
  {
   "cell_type": "code",
   "execution_count": null,
   "id": "7c68d521",
   "metadata": {},
   "outputs": [],
   "source": []
  },
  {
   "cell_type": "code",
   "execution_count": 2,
   "id": "a8ab2424",
   "metadata": {},
   "outputs": [],
   "source": [
    "def ListofFiles(path):\n",
    "    filelist=[]\n",
    "    for root, dirs, files in os.walk(path):\n",
    "        for file in files:\n",
    "             if(file[:2]==\"C2\" or file[:2]==\"C1\" ):\n",
    "                filelist.append(os.path.join(root,file))\n",
    "    return filelist\n",
    "\n",
    "def getValues(files,skip,nFiles=-1,findex=0,single=False):\n",
    "    theone={}\n",
    "    if(single):\n",
    "        values={\"Time\":np.array([]),\"Ampl\":np.array([])}\n",
    "        with open(files[findex]) as f:\n",
    "            for i in range(0,skip):\n",
    "                try:\n",
    "                    next(f)\n",
    "                except:\n",
    "                    continue\n",
    "            lines=f.readlines()\n",
    "            for line in lines:\n",
    "                splitline=line.split(\",\")\n",
    "                values[\"Time\"]=np.append(values[\"Time\"],float(splitline[0]))\n",
    "                values[\"Ampl\"]=np.append(values[\"Ampl\"],float(splitline[1]))\n",
    "        theone[0]=values\n",
    "        f.close()\n",
    "        \n",
    "    else:\n",
    "        count=0\n",
    "        for k in files:\n",
    "            values={\"Time\":np.array([]),\"Ampl\":np.array([])}\n",
    "            with open(k) as f:\n",
    "                for i in range(0,skip):\n",
    "                    try:\n",
    "                        next(f)\n",
    "                    except:\n",
    "                        continue\n",
    "                lines=f.readlines()\n",
    "                for line in lines:\n",
    "                    splitline=line.split(\",\")\n",
    "                    values[\"Time\"]=np.append(values[\"Time\"],float(splitline[0]))\n",
    "                    values[\"Ampl\"]=np.append(values[\"Ampl\"],float(splitline[1]))\n",
    "            theone[count]=values\n",
    "            count+=1\n",
    "            f.close()\n",
    "            if(nFiles==count): \n",
    "                break\n",
    "\n",
    "    return theone\n",
    "\n",
    "def getMultiEventValues(files,nFiles=-1,EventLim=-1):\n",
    "    theone={}\n",
    "    EventCount=1\n",
    "    PointCount=1\n",
    "    FileCount=0\n",
    "    for k in files:\n",
    "        values={}\n",
    "        with open(k) as f:\n",
    "            lines=f.readlines()\n",
    "            info={}\n",
    "            for line in lines:\n",
    "                splitline=line.strip().split(\",\")\n",
    "                if(splitline[0]==\"Segments\"):\n",
    "                    info[splitline[0]]=int(splitline[1])\n",
    "                    info[splitline[2]]=int(splitline[3])\n",
    "                    continue\n",
    "\n",
    "                if(\"Time\" in values.keys()):\n",
    "                    values[\"Time\"]=np.append(values[\"Time\"],float(splitline[0]))\n",
    "                    values[\"Ampl\"]=np.append(values[\"Ampl\"],float(splitline[1]))\n",
    "                    \n",
    "                    if(PointCount==info[\"SegmentSize\"]):\n",
    "                        theone[EventCount]=values.copy()\n",
    "                        \n",
    "                        values[\"Time\"]=np.array([])\n",
    "                        values[\"Ampl\"]=np.array([])\n",
    "                        EventCount+=1\n",
    "                        PointCount=0\n",
    "                    \n",
    "                    PointCount+=1\n",
    "                else:\n",
    "                    if (splitline[0]==\"Time\"):\n",
    "                        values[\"Time\"]=np.array([])\n",
    "                        values[\"Ampl\"]=np.array([])\n",
    "                        \n",
    "                        print(f\"Collecting data from {FileCount} \")\n",
    "                    continue;\n",
    "                if (EventCount==EventLim or (EventLim!=-1 and EventCount>EventLim)):\n",
    "                    break\n",
    "                    \n",
    "                    \n",
    "        FileCount+=1\n",
    "        f.close()\n",
    "        if(nFiles==FileCount): \n",
    "            break\n",
    "\n",
    "    return theone\n",
    "\n",
    "def Smoothing(data,itteration):\n",
    "    S_time=np.zeros(len(data[\"Time\"]))\n",
    "    S_amp=np.zeros(len(data[\"Ampl\"]))\n",
    "    for t in range(len(data[\"Time\"])):\n",
    "        if(t<itteration):\n",
    "            S_time[t]=np.mean(data[\"Time\"][:t+1])\n",
    "            S_amp[t]=np.mean(data[\"Ampl\"][:t+1])\n",
    "        else:\n",
    "            #S_amp[t]=np.sum(data[\"voltage\"][t-itteration:t])/itteration\n",
    "            #S_time[t]=np.sum(data[\"time\"][t-itteration:t])/itteration\n",
    "            S_amp[t]=np.mean(data[\"Ampl\"][t-itteration:t])\n",
    "            S_time[t]=np.mean(data[\"Time\"][t-itteration:t])\n",
    "    return S_amp,S_time\n",
    "\n",
    "\n",
    "\n",
    "## Peak Finder for Osiloscope info\n",
    "def PeakFinder(data,step=1e-9,threshold=-0.01):\n",
    "    \n",
    "    print(\"Running Peak Finder Algorithm ..\")\n",
    "    ## First Get the lenth of the time\n",
    "    Length=len(data[\"Ampl\"])\n",
    "    VoltageProfile=np.array([])\n",
    "    TimeProfile=np.array([])\n",
    "    AllTime=np.array([])\n",
    "    ## Obtain the max and min time\n",
    "    MinTime=np.min(data[\"Time\"])\n",
    "    MaxTime=np.max(data[\"Time\"])\n",
    "    \n",
    "    \n",
    "    #Start Time\n",
    "    TempTime=MinTime\n",
    "    \n",
    "    print(f\"Max time is {MaxTime}\")\n",
    "    print(f\"Min time is {MinTime}\")\n",
    "    print(f\"Event Length is {Length}\")\n",
    "\n",
    "    for i in range(0, Length):\n",
    "        if(TempTime>MaxTime):\n",
    "            print(\"Max Time is reached\")\n",
    "            break\n",
    "            \n",
    "        TimeMask=(data[\"Time\"]>=TempTime) & (data[\"Time\"]<TempTime+step ) \n",
    "        \n",
    "        ## Check if there is any peak here\n",
    "        if(np.sum(TimeMask)==0):\n",
    "            TempTime=TempTime+step\n",
    "            continue\n",
    "         \n",
    "        ## Obtain the minum\n",
    "        Min=np.min(data[\"Ampl\"][TimeMask])\n",
    "        VoltageMask=data[\"Ampl\"][TimeMask]==Min\n",
    "        AllTime=np.append(AllTime,data[\"Time\"][TimeMask][VoltageMask])\n",
    "        ## Only Negative Pulse\n",
    "        if(Min<threshold and (not Min>0)):\n",
    "            TimeProfile=np.append(TimeProfile,data[\"Time\"][TimeMask][VoltageMask])\n",
    "            VoltageProfile=np.append(VoltageProfile,data[\"Ampl\"][TimeMask][VoltageMask])\n",
    "\n",
    "        TempTime=TempTime+step \n",
    "    print(f\"Number of Peaks is {len(TimeProfile)}\")\n",
    "    return TimeProfile,VoltageProfile,AllTime\n",
    "\n",
    "\n",
    "\n",
    "def PeaksPerUnitTime(TProf,StartTime,EndTime):\n",
    "    Mask=(TProf>=StartTime) & (TProf<EndTime)\n",
    "    return np.sum(Mask)\n",
    "    \n",
    "### Get Number of peaks per unit time\n",
    "\n",
    "def gaussian1d(x,A,mu,sigma):\n",
    "    return A*np.exp( - (x - mu)**2 / (2 * sigma**2))\n",
    "\n",
    "def MultiPeakFit(values,step,threshold):\n",
    "    mean=np.array([])\n",
    "    std=np.array([])\n",
    "    for value in values:\n",
    "        v=PeakFinder(value,step,threshold)\n",
    "        h1=np.histogram(vv[0],bins=40)\n",
    "\n",
    "        p0=np.max(h1[1]),1e-5,1e-6\n",
    "        xx=np.linspace(np.min(h1[1]),np.max(h1[1]),len(h1[0]))\n",
    "        popt, pcov = opt.curve_fit(gaussian1d,xx,h1[0],p0,maxfev=10000)\n",
    "        \n",
    "        mean=np.append(mean,popt[1])\n",
    "        std=np.append(std,popt[2])\n",
    "    return mean,stdkk\n",
    "\n",
    "\n",
    "def PickleITDump(data,fileName):\n",
    "    print(\"Saving waveforms ..\")\n",
    "    startTime=datetime.datetime.now()\n",
    "    with open(fileName,'wb') as f:\n",
    "        pickle.dump(data,f)\n",
    "    endTime=datetime.datetime.now()\n",
    "    print(f\"Total Time is {endTime-startTime}\")    \n",
    "\n",
    "def PickleITRead(fileName):\n",
    "    print(\"Reading waveforms ..\")\n",
    "    startTime=datetime.datetime.now()\n",
    "    with open(fileName,'rb') as f:\n",
    "        data=pickle.load(f)\n",
    "    endTime=datetime.datetime.now()\n",
    "    print(f\"Total Time is {endTime-startTime}\")\n",
    "\n",
    "    return data\n",
    "def getValuesWithPanda(files,nFiles=-1):\n",
    "    fthones={}\n",
    "    cnt=0\n",
    "    print(\"Reading Waveforms ..\")\n",
    "    if(nFiles!=-1):\n",
    "        print(f\"Collecting {nFiles}\")\n",
    "    else:\n",
    "        print(f\"Collecting {len(files)} \")\n",
    "    startTime=datetime.datetime.now()\n",
    "    for file in files:\n",
    "        if (nFiles>0 and nFiles<cnt ):\n",
    "            break\n",
    "        fvalue=pd.read_csv(file,skiprows=4)\n",
    "        fthones[cnt]=fvalue\n",
    "        cnt=cnt+1\n",
    "    endTime=datetime.datetime.now()\n",
    "    \n",
    "    print(f\"Total Time is {endTime-startTime}\")\n",
    "    return fthones\n",
    "def getValuesWithPyArrrow(files,nFiles=-1):\n",
    "    fthones={}\n",
    "    cnt=0\n",
    "    print(\"Reading Waveforms ..\")\n",
    "    if(nFiles!=-1):\n",
    "        print(f\"Collecting {nFiles}\")\n",
    "    else:\n",
    "        print(f\"Collecting {len(files)} \")\n",
    "    startTime=datetime.datetime.now()\n",
    "    read_options=pyarr.csv.ReadOptions(skip_rows=4)\n",
    "    for file in files:\n",
    "        if (nFiles>0 and nFiles<cnt ):\n",
    "            break\n",
    "        \n",
    "        fvalue=pyarr.csv.read_csv(file,read_options=read_options)\n",
    "        fthones[cnt]=fvalue\n",
    "        cnt=cnt+1\n",
    "    endTime=datetime.datetime.now()\n",
    "    \n",
    "    print(f\"Total Time is {endTime-startTime}\")\n",
    "    return fthones\n",
    "            \n",
    "## read files with pandas or pyarrow            \n",
    "def ConvertToPickleFile(fPath,engine=\"pandas\"):\n",
    "    print(f\"Converting {fPath} waveforms into picklefile\")\n",
    "    files=ListofFiles(fPath)\n",
    "    if(engine==\"pandas\"):\n",
    "        fvalues=getValuesWithPanda(files)\n",
    "    if(engine==\"pyarrow\"):\n",
    "        fvalues=getValuesWithPyArrrow(files)\n",
    "    PickleITDump(fvalues,fPath+\"all_files.p\")\n",
    "    return fvalues"
   ]
  },
  {
   "cell_type": "code",
   "execution_count": 3,
   "id": "f9ce7afc",
   "metadata": {},
   "outputs": [],
   "source": [
    "user=os.getenv('USER')\n",
    "#Path=\"/media/\"+user+\"/Ilker_SSD/10_07bar_6_21_23/Osiloscope/13.57k_4.57k_4k/vel/\"\n",
    "Path=\"../data/CRAB_9_17_2023_Osiloscope/17k_8k_7k/velocity/\""
   ]
  },
  {
   "cell_type": "code",
   "execution_count": 4,
   "id": "aca545d4",
   "metadata": {},
   "outputs": [],
   "source": [
    "#values=ConvertToPickleFile(Path)\n",
    "#del values"
   ]
  },
  {
   "cell_type": "code",
   "execution_count": null,
   "id": "421468bd",
   "metadata": {},
   "outputs": [],
   "source": []
  },
  {
   "cell_type": "code",
   "execution_count": null,
   "id": "b848bd3a",
   "metadata": {},
   "outputs": [],
   "source": []
  },
  {
   "cell_type": "code",
   "execution_count": 5,
   "id": "daa76509",
   "metadata": {},
   "outputs": [
    {
     "name": "stdout",
     "output_type": "stream",
     "text": [
      "Reading waveforms ..\n",
      "Total Time is 0:00:01.739985\n"
     ]
    }
   ],
   "source": [
    "values=PickleITRead(Path+\"all_files.p\")\n"
   ]
  },
  {
   "cell_type": "raw",
   "id": "7958f34c",
   "metadata": {},
   "source": [
    "count=0\n",
    "peaks=np.array([])\n",
    "for vv in values:\n",
    "    kk=PeakFinder(values[vv],step=1e-7,threshold=-0.0001)\n",
    "    peaks=np.append(peaks,kk[1])\n",
    "    count=count+1\n"
   ]
  },
  {
   "cell_type": "raw",
   "id": "0738022e",
   "metadata": {},
   "source": [
    "plt.hist(peaks,bins=500)"
   ]
  },
  {
   "cell_type": "code",
   "execution_count": 6,
   "id": "66f3b0dc",
   "metadata": {},
   "outputs": [],
   "source": [
    "## Event Selection\n",
    "sevent=values[30]\n",
    "event=sevent.copy()\n",
    "## DC offset Remove\n",
    "Dc_upperLim=np.min(event[\"Time\"])*0.9\n",
    "DC_Offset=np.mean(event[\"Ampl\"][(event[\"Time\"]>np.min(event[\"Time\"])) & (event[\"Time\"]<(Dc_upperLim))])\n",
    "event[\"Ampl\"]=event[\"Ampl\"]-DC_Offset\n",
    "\n",
    "#time shift\n",
    "minTime=abs(np.min(event[\"Time\"]))\n",
    "event[\"Time\"]=event[\"Time\"]+minTime"
   ]
  },
  {
   "cell_type": "code",
   "execution_count": 7,
   "id": "7225ce91",
   "metadata": {},
   "outputs": [],
   "source": [
    "# Smooth it , result of smooting  0 is voltage profile, and s1[1] time  profile\n"
   ]
  },
  {
   "cell_type": "code",
   "execution_count": 8,
   "id": "44121a93",
   "metadata": {
    "scrolled": true
   },
   "outputs": [
    {
     "name": "stdout",
     "output_type": "stream",
     "text": [
      "Running Peak Finder Algorithm ..\n",
      "Max time is 0.00017460399730000002\n",
      "Min time is 0.0\n",
      "Event Length is 43652\n",
      "Max Time is reached\n",
      "Number of Peaks is 1\n",
      "Running Peak Finder Algorithm ..\n",
      "Max time is 0.000200003997\n",
      "Min time is 0.0001746079973\n",
      "Event Length is 6350\n",
      "Max Time is reached\n",
      "Number of Peaks is 98\n"
     ]
    }
   ],
   "source": [
    "s1=Smoothing(event,1000)\n",
    "#Create Mask for min voltage and max time \n",
    "VoltMinMask=s1[0]==np.min(s1[0])\n",
    "s1=Smoothing(event,2000)\n",
    "TimeMaxMask=s1[1]==np.max(s1[1])\n",
    "TimeMask=(s1[1]>s1[1][TimeMaxMask]*(0.99))\n",
    "PulseMean=np.average(s1[1][TimeMask])\n",
    "## Find the Leading Edge\n",
    "LaggingEdge=s1[1][VoltMinMask]*(0.95)\n",
    "LeadingEdge=s1[1][VoltMinMask]*(1.05)\n",
    "\n",
    "#Find the S2 Edge\n",
    "EdgeMask=(s1[0]<-0.0001) & ((s1[1]>LaggingEdge) & (s1[1]<LeadingEdge))\n",
    "### Values for time and voltage , step in seconds and threshold in mv\n",
    "\n",
    "## Seperating Events to S1 and S2 region\n",
    "EventTime=np.array(event[\"Time\"])\n",
    "S1_Region={\"Time\":event[\"Time\"][EventTime<LaggingEdge],\"Ampl\":event[\"Ampl\"][EventTime<LaggingEdge]}\n",
    "S2_Region={\"Time\":event[\"Time\"][EventTime>=LaggingEdge],\"Ampl\":event[\"Ampl\"][EventTime>=LaggingEdge]}\n",
    "\n",
    "## Find Peaks in each region\n",
    "S1Peaks=PeakFinder(S1_Region,step=1e-6,threshold=-0.001)\n",
    "S2Peaks=PeakFinder(S2_Region,step=1e-7,threshold=-0.001)\n",
    "#PeaksPerUnitTime(kk[0],-2e-5,-1.2e-5)\n"
   ]
  },
  {
   "cell_type": "code",
   "execution_count": 9,
   "id": "e57cd660",
   "metadata": {},
   "outputs": [],
   "source": [
    "def TimeDifference(S1Peaks,S2Peaks):\n",
    "    difs=np.array([])\n",
    "    for time in S1Peaks[0]:\n",
    "        difs=np.append(difs,S2Peaks[0][0]-time)\n",
    "    return difs\n",
    "        \n",
    "    "
   ]
  },
  {
   "cell_type": "code",
   "execution_count": 29,
   "id": "4d6b8c9d",
   "metadata": {
    "scrolled": false
   },
   "outputs": [
    {
     "data": {
      "image/png": "[encoded data removed]",
      "text/plain": [
       "<Figure size 1800x1800 with 1 Axes>"
      ]
     },
     "metadata": {},
     "output_type": "display_data"
    }
   ],
   "source": [
    "\n",
    "## Plot Waveforms\n",
    "plt.figure(figsize=(18,18))\n",
    "plt.title(\"Single Pulse\")\n",
    "plt.xlabel(\"Time (s)\")\n",
    "plt.ylabel(\"Amp (v)\")\n",
    "xtick=np.linspace(np.min(event[\"Time\"]),np.max(event[\"Time\"]),4)\n",
    "plt.plot(event[\"Time\"],event[\"Ampl\"],label=\"Raw\",alpha=0.6)\n",
    "plt.xticks(xtick)\n",
    "#plt.plot(s1[1],s1[0],label=\"smooted\",color=\"brown\")\n",
    "#plt.axvline(np.min(s1[1]),-1,color=\"red\",label=\"Min Time\")\n",
    "#plt.axvline(s1[1][VoltMinMask],-1,color=\"purple\",label=\"Min Voltage\")\n",
    "#plt.axvline(s1[1][TimeMaxMask],-1,color=\"yellow\",label=\"Max Time\")\n",
    "#plt.axvline(LaggingEdge,-1,color=\"green\",label=\"S2 Low Limit\")\n",
    "#plt.axvline(LeadingEdge,-1,color=\"green\",label=\"S2 High Limit\")\n",
    "#plt.axvline(np.min(s1[1][EdgeMask]),-1,color=\"aqua\",label=\"Lagging Edge\")\n",
    "#plt.axvline(np.max(s1[1][EdgeMask]),-1,color=\"aqua\",label=\"Leading Edge\")\n",
    "\n",
    "#plt.axvline(Dc_upperLim,-1,label=(\"DC_UpperLimit\"),color=\"orange\")\n",
    "#plt.axvline(,-1,color=\"yellow\",label=\"Negative Slope\")\n",
    "#plt.axvline(PulseMean,-1,color=\"aqua\",label=\"Mean\")\n",
    "#plt.scatter(S1Peaks[0],S1Peaks[1],marker=\"^\",color=\"red\",s=100,label=\"S1 Peaks\")\n",
    "#plt.scatter(S2Peaks[0],S2Peaks[1],marker=\"^\",color=\"orange\",s=100,label=\"S2 Peaks\")\n",
    "\n",
    "p0=np.min(s1[0]),np.mean(s1[1][VoltMinMask]),1e-6\n",
    "popt, pcov = opt.curve_fit(gaussian1d,s1[1],s1[0],p0,maxfev=10000)\n",
    "#plt.plot(s1[1],gaussian1d(s1[1],*popt),color=\"black\",label=\"Fit to Smoothed Event\")\n",
    "#plt.scatter(s1[1][EdgeMask],s1[0][EdgeMask],color=\"aqua\",label=\"Edged_Trigger\")\n",
    "\n",
    "plt.legend()\n",
    "plt.show()\n"
   ]
  },
  {
   "cell_type": "code",
   "execution_count": 11,
   "id": "bab42b4d",
   "metadata": {},
   "outputs": [
    {
     "data": {
      "text/plain": [
       "[<matplotlib.lines.Line2D at 0x7fa8da91a8c0>]"
      ]
     },
     "execution_count": 11,
     "metadata": {},
     "output_type": "execute_result"
    },
    {
     "data": {
      "image/png": "[encoded data removed]",
      "text/plain": [
       "<Figure size 640x480 with 1 Axes>"
      ]
     },
     "metadata": {},
     "output_type": "display_data"
    }
   ],
   "source": [
    "plt.scatter(S1Peaks[0],S1Peaks[1],color=\"aqua\",label=\"EdgedTrigger\")\n",
    "plt.scatter(S2Peaks[0],S2Peaks[1],color=\"aqua\",label=\"EdgedTrigger\")\n",
    "plt.plot(s1[1],gaussian1d(s1[1],*popt),color=\"black\",label=\"Fit to Smoothed Event\")\n"
   ]
  },
  {
   "cell_type": "code",
   "execution_count": null,
   "id": "e8952cc2",
   "metadata": {},
   "outputs": [],
   "source": []
  },
  {
   "cell_type": "raw",
   "id": "9804d624",
   "metadata": {},
   "source": [
    "multivalue=getMultiEventValues([\"/media/ilker/Ilker_SSD/10_07bar_6_21_23/Osiloscope/15k_8k_7k/seq/C1--S2_141m-00000--00001_velocity--00000.csv\"],EventLim=100)"
   ]
  },
  {
   "cell_type": "code",
   "execution_count": null,
   "id": "2346da8b",
   "metadata": {},
   "outputs": [],
   "source": []
  },
  {
   "cell_type": "raw",
   "id": "bf0746be",
   "metadata": {},
   "source": [
    "vk=multivalue[25]\n",
    "### Values for time and voltage , step in seconds and threshold in mv\n",
    "mk=PeakFinder(vk,step=6e-8,threshold=-0.0002)\n",
    "    \n"
   ]
  },
  {
   "cell_type": "raw",
   "id": "eec6c72c",
   "metadata": {},
   "source": [
    "plt.figure(figsize=(15,15))\n",
    "s1=Smoothing(vk,10)\n",
    "plt.title(\"Single Pulse\")\n",
    "plt.xlabel(\"Time (s)\")\n",
    "plt.ylabel(\"Amp (v)\")\n",
    "plt.plot(vk[\"time\"],vk[\"voltage\"],label=\"actual\",alpha=0.5)\n",
    "plt.plot(s1[1],s1[0],label=\"smooted\")\n",
    "plt.scatter(mk[0],mk[1],marker=\"^\",color=\"red\",s=100)\n",
    "p0=np.min(s1[0]),1e-5,1e-6\n",
    "popt, pcov = opt.curve_fit(gaussian1d,s1[1],s1[0],p0,maxfev=10000) \n",
    "print(popt)\n",
    "plt.plot(s1[1],gaussian1d(s1[1],popt[0],popt[1],popt[2]),label=\"Fitted\")\n",
    "#print(np.mean(vv))\n",
    "plt.legend()\n",
    "plt.show()"
   ]
  },
  {
   "cell_type": "code",
   "execution_count": 12,
   "id": "f468308b",
   "metadata": {},
   "outputs": [],
   "source": [
    "def MultiGausianFit(multival,mn=None,sg=None,maxfev=10000,SIteration=1200,vmin=-0.001,isplot=True):\n",
    "    fmeans=np.array([])\n",
    "    fstds=np.array([])\n",
    "    counter=0\n",
    "    pltlim=5\n",
    "    for single in multival:\n",
    "        ss=Smoothing(multival[single],SIteration)\n",
    "        if((np.min(ss[0])>vmin) or (np.mean(ss[1])>=-0.5*np.min(ss[1]) and np.mean(ss[1])<=0.5*np.max(ss[1])) ) :\n",
    "            continue\n",
    "        if(mn==None and sg==None):    \n",
    "            p0=np.min(ss[0]),np.mean(ss[1]),np.std(ss[1])\n",
    "        else:\n",
    "            p0=np.min(ss[0]),mn,sg\n",
    "        try:\n",
    "            popt, pcov = opt.curve_fit(gaussian1d,ss[1],ss[0],p0,maxfev=maxfev)\n",
    "        except:\n",
    "            continue\n",
    "        fmeans=np.append(fmeans,popt[1])\n",
    "        fstds=np.append(fstds,popt[2])\n",
    "        if(isplot and pltlim>counter):\n",
    "            \n",
    "            plt.plot(ss[1],ss[0],label=\"smooted\")\n",
    "            plt.plot(ss[1],gaussian1d(ss[1],*popt),label=\"Fitted\")\n",
    "            plt.legend()\n",
    "            plt.show()\n",
    "            \n",
    "            \n",
    "        counter+=1\n",
    "    \n",
    "    return fmeans,fstds"
   ]
  },
  {
   "cell_type": "code",
   "execution_count": null,
   "id": "7baf0e04",
   "metadata": {},
   "outputs": [],
   "source": []
  },
  {
   "cell_type": "code",
   "execution_count": 13,
   "id": "40dffd93",
   "metadata": {},
   "outputs": [],
   "source": [
    "#files=ListofFiles(\"/media/ilker/Ilker_SSD/10_07bar_6_21_23/Osiloscope/11_3k_2.3k_2k/pulse_width/\")\n",
    "#multivalue=getValues(files,nFiles=-1,skip=5)"
   ]
  },
  {
   "cell_type": "raw",
   "id": "16b606e2",
   "metadata": {},
   "source": [
    "#PickleITDump(multivalue,\"/media/ilker/Ilker_SSD/10_07bar_6_21_23/Osiloscope/11_3k_2.3k_2k/pulse_width/all.p\")\n",
    "multivalue=PickleITRead(\"/media/\"+user+\"/Ilker_SSD/10_07bar_6_21_23/Osiloscope/11_3k_2.3k_2k/pulse_width/all.p\")"
   ]
  },
  {
   "cell_type": "raw",
   "id": "76d45fc3",
   "metadata": {},
   "source": [
    "mval=MultiGausianFit(multivalue)"
   ]
  },
  {
   "cell_type": "raw",
   "id": "cdefaa89",
   "metadata": {},
   "source": [
    "plt.hist(mval[1],bins=np.arange(-3e-6,3e-6,1e-7))\n"
   ]
  },
  {
   "cell_type": "code",
   "execution_count": null,
   "id": "47f0e5ea",
   "metadata": {},
   "outputs": [],
   "source": []
  }
 ],
 "metadata": {
  "kernelspec": {
   "display_name": "Python 3 (ipykernel)",
   "language": "python",
   "name": "python3"
  },
  "language_info": {
   "codemirror_mode": {
    "name": "ipython",
    "version": 3
   },
   "file_extension": ".py",
   "mimetype": "text/x-python",
   "name": "python",
   "nbconvert_exporter": "python",
   "pygments_lexer": "ipython3",
   "version": "3.10.9"
  }
 },
 "nbformat": 4,
 "nbformat_minor": 5
}
