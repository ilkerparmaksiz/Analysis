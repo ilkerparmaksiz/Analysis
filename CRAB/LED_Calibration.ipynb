{
 "cells": [
  {
   "cell_type": "code",
   "execution_count": 2,
   "id": "c7f071c4",
   "metadata": {},
   "outputs": [],
   "source": [
    "from multiprocessing import Pool,Process,Manager,cpu_count\n",
    "import numpy as np\n",
    "import matplotlib\n",
    "import matplotlib.pyplot as plt\n",
    "import os\n",
    "import pickle\n",
    "from PIL import Image,ImageFilter\n",
    "import warnings\n",
    "import scipy.optimize as opt\n",
    "import scipy as sp\n",
    "import cmath\n",
    "import time \n",
    "import math\n",
    "\n",
    "%matplotlib inline\n",
    "warnings.filterwarnings('ignore')\n",
    "\n",
    "font = {'family' : 'Ubuntu',\n",
    "        'weight' : 'bold',\n",
    "        'size'   : 30}\n",
    "\n",
    "matplotlib.rc('font', **font)\n",
    "\n",
    "from tabulate import tabulate as tb"
   ]
  },
  {
   "cell_type": "code",
   "execution_count": 3,
   "id": "4ecaff7b",
   "metadata": {},
   "outputs": [],
   "source": [
    "def ListofFiles(path):\n",
    "    filelist=[]\n",
    "    for root, dirs, files in os.walk(path):\n",
    "        for file in files:\n",
    "             filelist.append(os.path.join(root,file))\n",
    "    return filelist\n",
    "\n",
    "def getImageValues(Files,EventLimit=1):\n",
    "    if(type(Files) is list or type(Files) is np.ndarray):\n",
    "        values={}\n",
    "        count=0\n",
    "        for file in Files:\n",
    "            img1=Image.open(file)\n",
    "            imgArray=np.array(img1)\n",
    "            values[count]=imgArray\n",
    "            count+=1\n",
    "            if(EventLimit==count):\n",
    "                break\n",
    "        print(f\" {count} frames in dictinary \")\n",
    "    else:\n",
    "        img1=Image.open(Files)\n",
    "        values=np.array(img1)\n",
    "    return values\n",
    "\n",
    "def PickleITDump(data,fileName):\n",
    "    with open(fileName,'wb') as f:\n",
    "        pickle.dump(data,f)\n",
    "        \n",
    "def PickleITRead(fileName):\n",
    "    with open(fileName,'rb') as f:\n",
    "        data=pickle.load(f)\n",
    "    return data\n",
    "\n",
    "def MaskCreate(pixel,radius,center,plot=False,sp=\"Circle\"):\n",
    "    XPixel,YPixel=pixel\n",
    "    centerX,centerY=center\n",
    "    x=np.arange(0,XPixel,1)\n",
    "    y=np.arange(0,YPixel,1)\n",
    "    xx,yy=np.meshgrid(x,y)\n",
    "    rr=np.sqrt((xx-centerX)**2+(yy-centerY)**2)\n",
    "    mask=0\n",
    "    values=np.zeros(rr.shape)\n",
    "    if(sp==\"Rectangle\"):\n",
    "        rr[centerX-radius[0] :centerX+radius[0],centerY-radius[1] :centerY+radius[1]]=-1\n",
    "        mask=rr==-1\n",
    "        mask=mask.transpose()\n",
    "    else:\n",
    "        mask=rr<radius\n",
    "        \n",
    "    values[mask]=1       \n",
    "    \n",
    "    if(plot):\n",
    "        plt.figure(figsize=(12,8),dpi=300)\n",
    "        plt.title(\"Mask Position\")\n",
    "        plt.xlabel(\"PixelX\")\n",
    "        plt.ylabel(\"PixelY\")\n",
    "        plt.imshow(values,cmap=\"gray\",origin=\"lower\",vmin=values.min(),vmax=values.max())\n",
    "        plt.show()\n",
    "    \n",
    "    return mask,values,[centerX,centerY]\n",
    "    "
   ]
  },
  {
   "cell_type": "code",
   "execution_count": 8,
   "id": "8f86044d",
   "metadata": {},
   "outputs": [],
   "source": [
    "## Average the images\n",
    "def AvergImage(II,rangex,Single=True,start=0):\n",
    "    img=np.zeros(II[0].shape)\n",
    "    if (rangex>len(II.keys())):\n",
    "        rangex=len(II.keys())\n",
    "    # Average only one set\n",
    "    if(Single):\n",
    "        for i in range(start,rangex+start):\n",
    "            img+=II[i]\n",
    "        img=img/rangex\n",
    "        return img\n",
    "    else: # Average Multiple Sets of Images\n",
    "        cnt=0\n",
    "        fImages=[]\n",
    "        while(cnt<=len(II.keys())-1):\n",
    "            img+=II[cnt]\n",
    "            if (cnt%(rangex)==0 and cnt>0):\n",
    "                fImages.append(img/rangex)\n",
    "                img=np.zeros(II[0].shape)\n",
    "            cnt=cnt+1\n",
    "        return fImages\n",
    "    "
   ]
  },
  {
   "cell_type": "code",
   "execution_count": 33,
   "id": "375e20bd",
   "metadata": {},
   "outputs": [
    {
     "name": "stdout",
     "output_type": "stream",
     "text": [
      " 41347 frames in dictinary \n"
     ]
    }
   ],
   "source": [
    "Path=\"/media/argon/CRAB/LED_Calibration/Middle_II_0.8/Middle/\" #(For Slides)\n",
    "#Path=\"/media/argon/Data/CRAB_NEW_II/data/6bar/22ms\"\n",
    "Path=\"/media/argon/CRAB/LED_Calibration/Middle_II_0.8/Middle/\" #(For Slides)\n",
    "\n",
    "Images=getImageValues(ListofFiles(Path),-1)\n"
   ]
  },
  {
   "cell_type": "code",
   "execution_count": 17,
   "id": "4beb1fc0",
   "metadata": {},
   "outputs": [],
   "source": [
    "AveragedImages=AvergImage(Images,600,Single=True)"
   ]
  },
  {
   "cell_type": "code",
   "execution_count": null,
   "id": "d5afa95b",
   "metadata": {},
   "outputs": [
    {
     "data": {
      "text/plain": [
       "Text(0, 0.5, 'X')"
      ]
     },
     "execution_count": 34,
     "metadata": {},
     "output_type": "execute_result"
    }
   ],
   "source": [
    "plt.figure(figsize=(15,15),dpi=300)\n",
    "plt.title(\"LED\")\n",
    "plt.imshow(AveragedImages,origin=\"lower\")\n",
    "plt.xlabel(\"X\")\n",
    "plt.ylabel(\"X\")"
   ]
  },
  {
   "cell_type": "code",
   "execution_count": null,
   "id": "631408bf",
   "metadata": {},
   "outputs": [],
   "source": [
    "Path=\"/media/argon/CRAB/LED_Calibration/Middle_II_0.8/EL+ +/1s\" #(For Slides)\n",
    "Images=getImageValues(ListofFiles(Path),-1)\n"
   ]
  },
  {
   "cell_type": "code",
   "execution_count": null,
   "id": "5c27026b",
   "metadata": {},
   "outputs": [],
   "source": [
    "AveragedImages=AvergImage(Images,600,Single=True)"
   ]
  },
  {
   "cell_type": "code",
   "execution_count": null,
   "id": "c567bd0f",
   "metadata": {},
   "outputs": [],
   "source": [
    "plt.figure(figsize=(15,15),dpi=300)\n",
    "plt.title(\"LED\")\n",
    "plt.imshow(AveragedImages,origin=\"lower\")\n",
    "plt.xlabel(\"X\")\n",
    "plt.ylabel(\"X\")"
   ]
  },
  {
   "cell_type": "code",
   "execution_count": null,
   "id": "ad4795b5",
   "metadata": {},
   "outputs": [],
   "source": [
    "Path=\"/media/argon/CRAB/LED_Calibration/Middle_II_0.8/EL+/1s\" #(For Slides)\n",
    "Images=getImageValues(ListofFiles(Path),-1)\n",
    "AveragedImages=AvergImage(Images,600,Single=True)"
   ]
  },
  {
   "cell_type": "code",
   "execution_count": null,
   "id": "7a43c946",
   "metadata": {},
   "outputs": [],
   "source": [
    "plt.figure(figsize=(15,15),dpi=300)\n",
    "plt.title(\"LED\")\n",
    "plt.imshow(AveragedImages,origin=\"lower\")\n",
    "plt.xlabel(\"X\")\n",
    "plt.ylabel(\"X\")"
   ]
  },
  {
   "cell_type": "code",
   "execution_count": null,
   "id": "176587bb",
   "metadata": {},
   "outputs": [],
   "source": []
  }
 ],
 "metadata": {
  "kernelspec": {
   "display_name": "Python 3 (ipykernel)",
   "language": "python",
   "name": "python3"
  },
  "language_info": {
   "codemirror_mode": {
    "name": "ipython",
    "version": 3
   },
   "file_extension": ".py",
   "mimetype": "text/x-python",
   "name": "python",
   "nbconvert_exporter": "python",
   "pygments_lexer": "ipython3",
   "version": "3.10.9"
  }
 },
 "nbformat": 4,
 "nbformat_minor": 5
}
