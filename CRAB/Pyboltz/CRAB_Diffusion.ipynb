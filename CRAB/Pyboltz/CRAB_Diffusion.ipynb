{
 "cells": [
  {
   "cell_type": "code",
   "execution_count": 1,
   "id": "fifty-toyota",
   "metadata": {},
   "outputs": [],
   "source": [
    "import numpy as np\n",
    "import pylab\n",
    "import time\n",
    "from pathlib import Path\n",
    "import numpy as np\n",
    "from PyBoltz.PyBoltzRun import *"
   ]
  },
  {
   "cell_type": "code",
   "execution_count": 2,
   "id": "54ed9e30",
   "metadata": {},
   "outputs": [],
   "source": [
    "\n",
    "### Simulation for Pressure range\n",
    "Pressure = np.arange(750.062,8250.68,750.062)"
   ]
  },
  {
   "cell_type": "code",
   "execution_count": null,
   "id": "39bf67e6",
   "metadata": {},
   "outputs": [],
   "source": []
  },
  {
   "cell_type": "code",
   "execution_count": 3,
   "id": "hundred-knife",
   "metadata": {},
   "outputs": [],
   "source": [
    "# Set up helper object\n",
    "PBRun=PyBoltzRun()"
   ]
  },
  {
   "cell_type": "code",
   "execution_count": 4,
   "id": "conditional-bumper",
   "metadata": {},
   "outputs": [
    {
     "name": "stdout",
     "output_type": "stream",
     "text": [
      "CF4 1\n",
      "ARGON 2\n",
      "HELIUM4 3\n",
      "HELIUM3 4\n",
      "NEON 5\n",
      "KRYPTON 6\n",
      "XENON 7\n",
      "CH4 8\n",
      "ETHANE 9\n",
      "PROPANE 10\n",
      "ISOBUTANE 11\n",
      "CO2 12\n",
      "H2O 14\n",
      "OXYGEN 15\n",
      "NITROGEN 16\n",
      "HYDROGEN 21\n",
      "DEUTERIUM 22\n",
      "DME 25\n"
     ]
    }
   ],
   "source": [
    "# Show list of available gases\n",
    "PBRun.ListGases()"
   ]
  },
  {
   "cell_type": "code",
   "execution_count": 5,
   "id": "speaking-series",
   "metadata": {},
   "outputs": [],
   "source": [
    "# Configure settings for our simulation\n",
    "MySettings   ={'Gases'                 :['XENON'],\n",
    "               'Fractions'             :[100],\n",
    "               'Max_collisions'        :4e8,\n",
    "               'EField_Vcm'            :500,\n",
    "               'Max_electrpylabon_energy'   :0,\n",
    "               'Temperature_C'         :23,\n",
    "               'Pressure_Torr'         :7500.62,\n",
    "               'BField_Tesla'          :0,\n",
    "               'BField_angle'          :0,\n",
    "               'Angular_dist_model'    :1,\n",
    "               'Enable_penning'        :0,\n",
    "               'Enable_thermal_motion' :1,\n",
    "               'ConsoleOutputFlag'     :0}"
   ]
  },
  {
   "cell_type": "code",
   "execution_count": 6,
   "id": "thousand-variation",
   "metadata": {},
   "outputs": [],
   "source": [
    "# Create empty lists to store outputs\n",
    "DriftVels=[]\n",
    "DriftVels_err=[]\n",
    "DTs=[]\n",
    "DLs=[]\n",
    "DT1s=[]\n",
    "DL1s=[]\n",
    "DTs_err=[]\n",
    "DLs_err=[]\n",
    "DT1s_err=[]\n",
    "DL1s_err=[]\n"
   ]
  },
  {
   "cell_type": "code",
   "execution_count": 7,
   "id": "wired-turkish",
   "metadata": {},
   "outputs": [
    {
     "name": "stdout",
     "output_type": "stream",
     "text": [
      "Running with E Field 100 V/cm With Pressure 750.062 tor\n",
      "Input Max_electron_energy not set, using default 0\n",
      "Input Decor_Colls not set, using default 0\n",
      "Input Decor_LookBacks not set, using default 0\n",
      "Input Decor_Step not set, using default 0\n",
      "Input NumSamples not set, using default 10\n",
      "\n"
     ]
    },
    {
     "ename": "KeyboardInterrupt",
     "evalue": "",
     "output_type": "error",
     "traceback": [
      "\u001b[0;31m---------------------------------------------------------------------------\u001b[0m",
      "\u001b[0;31mKeyboardInterrupt\u001b[0m                         Traceback (most recent call last)",
      "Cell \u001b[0;32mIn [7], line 29\u001b[0m\n\u001b[1;32m     27\u001b[0m MySettings[\u001b[38;5;124m'\u001b[39m\u001b[38;5;124mEField_Vcm\u001b[39m\u001b[38;5;124m'\u001b[39m]\u001b[38;5;241m=\u001b[39mE\n\u001b[1;32m     28\u001b[0m MySettings[\u001b[38;5;124m'\u001b[39m\u001b[38;5;124mPressure_Torr\u001b[39m\u001b[38;5;124m'\u001b[39m]\u001b[38;5;241m=\u001b[39mP\n\u001b[0;32m---> 29\u001b[0m Output\u001b[38;5;241m=\u001b[39m\u001b[43mPBRun\u001b[49m\u001b[38;5;241;43m.\u001b[39;49m\u001b[43mRun\u001b[49m\u001b[43m(\u001b[49m\u001b[43mMySettings\u001b[49m\u001b[43m)\u001b[49m\n\u001b[1;32m     31\u001b[0m DriftVel[E]\u001b[38;5;241m=\u001b[39mnp\u001b[38;5;241m.\u001b[39mappend(DriftVel[E],Output[\u001b[38;5;124m'\u001b[39m\u001b[38;5;124mDrift_vel\u001b[39m\u001b[38;5;124m'\u001b[39m]\u001b[38;5;241m.\u001b[39mval[\u001b[38;5;241m2\u001b[39m])\n\u001b[1;32m     33\u001b[0m DriftVelErr[E]\u001b[38;5;241m=\u001b[39mnp\u001b[38;5;241m.\u001b[39mappend(DriftVelErr[E],Output[\u001b[38;5;124m'\u001b[39m\u001b[38;5;124mDrift_vel\u001b[39m\u001b[38;5;124m'\u001b[39m]\u001b[38;5;241m.\u001b[39merr[\u001b[38;5;241m2\u001b[39m])\n",
      "File \u001b[0;32m~/.local/lib/python3.10/site-packages/PyBoltz/PyBoltzRun.py:137\u001b[0m, in \u001b[0;36mPyBoltzRun.Run\u001b[0;34m(self, MySettings)\u001b[0m\n\u001b[1;32m    135\u001b[0m Status\u001b[38;5;241m=\u001b[39m\u001b[38;5;28mself\u001b[39m\u001b[38;5;241m.\u001b[39mProcessInputs(MBObject,MySettings)\n\u001b[1;32m    136\u001b[0m \u001b[38;5;28;01mif\u001b[39;00m(Status):\n\u001b[0;32m--> 137\u001b[0m     \u001b[43mMBObject\u001b[49m\u001b[38;5;241;43m.\u001b[39;49m\u001b[43mStart\u001b[49m\u001b[43m(\u001b[49m\u001b[43m)\u001b[49m\n\u001b[1;32m    138\u001b[0m Outputs \u001b[38;5;241m=\u001b[39m \u001b[38;5;28mself\u001b[39m\u001b[38;5;241m.\u001b[39mProcessOutputs(MBObject)\n\u001b[1;32m    139\u001b[0m \u001b[38;5;28;01mreturn\u001b[39;00m Outputs\n",
      "\u001b[0;31mKeyboardInterrupt\u001b[0m: "
     ]
    }
   ],
   "source": [
    "\n",
    "\n",
    "# Run for each E field\n",
    "\n",
    "#EFields=[436.7,476.2,20000]\n",
    "EFields=[100,300,500]\n",
    "\n",
    "DriftVel={}\n",
    "DriftVelErr={}\n",
    "DT={}\n",
    "DT_err={}\n",
    "DL={}\n",
    "\n",
    "DL_err={}\n",
    "\n",
    "\n",
    "for E in  EFields:\n",
    "    DriftVel[E]=np.array([])\n",
    "    DriftVelErr[E]=np.array([])\n",
    "    DT[E]=np.array([])\n",
    "    DT_err[E]=np.array([])\n",
    "    DL[E]=np.array([])\n",
    "    DL_err[E]=np.array([])\n",
    "t1=time.time()\n",
    "for E in EFields:\n",
    "    for P in Pressure:\n",
    "        print(\"Running with E Field \" +str(E) + \" V/cm With Pressure \" + str(P) + \" tor\")\n",
    "\n",
    "        MySettings['EField_Vcm']=E\n",
    "        MySettings['Pressure_Torr']=P\n",
    "        Output=PBRun.Run(MySettings)\n",
    "\n",
    "        DriftVel[E]=np.append(DriftVel[E],Output['Drift_vel'].val[2])\n",
    "\n",
    "        DriftVelErr[E]=np.append(DriftVelErr[E],Output['Drift_vel'].err[2])\n",
    "\n",
    "        DT[E]=np.append(DT[E],Output['DT'].val)\n",
    "        DT_err[E]=np.append(DT_err[E],Output['DT'].err)\n",
    "\n",
    "        DL[E]=np.append(DL[E],Output['DT'].val)\n",
    "        DL_err[E]=np.append(DL_err[E],Output['DT'].err)\n",
    "\n",
    "\n",
    "t2=time.time()\n",
    "\n",
    "print(\"Time elapsed:\" +str(t2-t1))"
   ]
  },
  {
   "cell_type": "code",
   "execution_count": null,
   "id": "602da617",
   "metadata": {},
   "outputs": [],
   "source": []
  },
  {
   "cell_type": "code",
   "execution_count": null,
   "id": "2b127d2a",
   "metadata": {},
   "outputs": [],
   "source": []
  },
  {
   "cell_type": "code",
   "execution_count": null,
   "id": "daa79c78",
   "metadata": {},
   "outputs": [],
   "source": [
    "# Plot drift vel\n",
    "pylab.figure(figsize=(8,8))\n",
    "pylab.title(\"Drift_Velocity\")\n",
    "pylab.errorbar(DriftVel[100],(Pressure/750.062),DriftVelErr[100],capsize=5,fmt='o',color=\"g\",label=\"100 V/cm\")\n",
    "pylab.errorbar(DriftVel[300],(Pressure/750.062),DriftVelErr[300],capsize=5,fmt='o',color=\"b\",label=\"300 V/cm\")\n",
    "pylab.errorbar(DriftVel[500],(Pressure/750.062),DriftVelErr[500],capsize=5,fmt='o',color=\"r\",label=\"500 V/cm\")\n",
    "\n",
    "pylab.ylabel(\"Pressure (bar)\")\n",
    "pylab.xlabel(r\"Drift Velocity (mm/$\\mu$ s)\")\n",
    "pylab.legend()"
   ]
  },
  {
   "cell_type": "code",
   "execution_count": null,
   "id": "bc0f9f22",
   "metadata": {},
   "outputs": [],
   "source": [
    "# Plot Diffusion in Einstein units\n",
    "pylab.figure(figsize=(8,8))\n",
    "pylab.title(\"Transverse\")\n",
    "pylab.errorbar(x=DT[100],y=Pressure/750.062,xerr=DT_err[100],capsize=5,fmt='o',color=\"g\",label=\"100 V/cm\")\n",
    "pylab.errorbar(x=DT[300],y=(Pressure/750.062),xerr=DT_err[300],capsize=5,fmt='o',color=\"b\",label=\"300 V/cm\")\n",
    "pylab.errorbar(x=DT[500],y=(Pressure/750.062),xerr=DT_err[500],capsize=5,fmt='o',color=\"r\",label=\"500 V/cm\")\n",
    "pylab.ylabel(\"Pressure (bar)\")\n",
    "pylab.xlabel(r\"Diffusion (cm$^2$ s$^{-1}$)\")\n",
    "pylab.legend()"
   ]
  },
  {
   "cell_type": "code",
   "execution_count": null,
   "id": "4a5c14ce",
   "metadata": {},
   "outputs": [],
   "source": []
  },
  {
   "cell_type": "code",
   "execution_count": null,
   "id": "a56992ff",
   "metadata": {},
   "outputs": [],
   "source": [
    "pylab.figure(figsize=(8,8))\n",
    "pylab.title(\"Longitudinal\")\n",
    "pylab.errorbar(x=DL[100],y=(Pressure/750.062),xerr=DL_err[100],capsize=5,fmt='o',color=\"g\",label=\"100 V/cm\")\n",
    "pylab.errorbar(x=DL[300],y=(Pressure/750.062),xerr=DL_err[300],capsize=5,fmt='o',color=\"b\",label=\"300 V/cm\")\n",
    "pylab.errorbar(x=DL[500],y=(Pressure/750.062),xerr=DL_err[500],capsize=5,fmt='o',color=\"r\",label=\"500 V/cm\")\n",
    "pylab.ylabel(\"Pressure (bar)\")\n",
    "pylab.xlabel(r\"Diffusion (cm$^2$ s$^{-1}$)\")\n",
    "pylab.legend()"
   ]
  },
  {
   "cell_type": "code",
   "execution_count": null,
   "id": "5758bbff",
   "metadata": {},
   "outputs": [],
   "source": []
  },
  {
   "cell_type": "code",
   "execution_count": null,
   "id": "b174b863",
   "metadata": {},
   "outputs": [],
   "source": []
  },
  {
   "cell_type": "code",
   "execution_count": null,
   "id": "electronic-council",
   "metadata": {},
   "outputs": [],
   "source": [
    "# Lets look a what output info we have\n",
    "print(Output.keys())\n"
   ]
  },
  {
   "cell_type": "code",
   "execution_count": null,
   "id": "79add7be",
   "metadata": {},
   "outputs": [],
   "source": [
    "print(\"----- Drift Velocities -----\")\n",
    "print(DriftVel)\n",
    "\n",
    "print(\"----- DL -----\")\n",
    "print(DL)\n",
    "\n",
    "print(\"----- DT -----\")\n",
    "\n",
    "print(DT)"
   ]
  },
  {
   "cell_type": "code",
   "execution_count": null,
   "id": "2269e3fa",
   "metadata": {},
   "outputs": [],
   "source": [
    "values={\"DVel\":[DriftVel,DriftVelErr],\"DL\":[DL,DL_err],\"DT\":[DT,DT_err],\"Pressure\":Pressure/750.062}"
   ]
  },
  {
   "cell_type": "code",
   "execution_count": null,
   "id": "e4eae4ff",
   "metadata": {},
   "outputs": [],
   "source": [
    "print(values)"
   ]
  },
  {
   "cell_type": "code",
   "execution_count": null,
   "id": "60b1797d",
   "metadata": {},
   "outputs": [],
   "source": [
    "import pickle\n",
    "def PickleITDump(data,fileName):\n",
    "    with open(fileName,'wb') as f:\n",
    "        pickle.dump(data,f)\n",
    "        \n",
    "def PickleITRead(fileName):\n",
    "    \n",
    "    with open(fileName,'rb') as f:\n",
    "        data=pickle.load(f)\n",
    "    return data"
   ]
  },
  {
   "cell_type": "code",
   "execution_count": null,
   "id": "b82b9c7e",
   "metadata": {},
   "outputs": [],
   "source": [
    "PickleITDump(values,\"/media/ilker/Ilker/CRAB/Analysis/Dec_12_2022/Analysis/CRAB/Main/SimAnalysis/DiffusionValues.p\")"
   ]
  }
 ],
 "metadata": {
  "kernelspec": {
   "display_name": "Python 3 (ipykernel)",
   "language": "python",
   "name": "python3"
  },
  "language_info": {
   "codemirror_mode": {
    "name": "ipython",
    "version": 3
   },
   "file_extension": ".py",
   "mimetype": "text/x-python",
   "name": "python",
   "nbconvert_exporter": "python",
   "pygments_lexer": "ipython3",
   "version": "3.10.6"
  }
 },
 "nbformat": 4,
 "nbformat_minor": 5
}
