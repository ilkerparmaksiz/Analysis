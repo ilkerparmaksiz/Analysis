{
 "cells": [
  {
   "cell_type": "code",
   "execution_count": 1,
   "id": "fifty-toyota",
   "metadata": {},
   "outputs": [],
   "source": [
    "import numpy as np\n",
    "import pylab\n",
    "import time\n",
    "from pathlib import Path\n",
    "\n",
    "from PyBoltz.PyBoltzRun import *"
   ]
  },
  {
   "cell_type": "code",
   "execution_count": 2,
   "id": "hundred-knife",
   "metadata": {},
   "outputs": [],
   "source": [
    "# Set up helper object\n",
    "PBRun=PyBoltzRun()"
   ]
  },
  {
   "cell_type": "code",
   "execution_count": 3,
   "id": "conditional-bumper",
   "metadata": {},
   "outputs": [
    {
     "name": "stdout",
     "output_type": "stream",
     "text": [
      "CF4 1\n",
      "ARGON 2\n",
      "HELIUM4 3\n",
      "HELIUM3 4\n",
      "NEON 5\n",
      "KRYPTON 6\n",
      "XENON 7\n",
      "CH4 8\n",
      "ETHANE 9\n",
      "PROPANE 10\n",
      "ISOBUTANE 11\n",
      "CO2 12\n",
      "H2O 14\n",
      "OXYGEN 15\n",
      "NITROGEN 16\n",
      "HYDROGEN 21\n",
      "DEUTERIUM 22\n",
      "DME 25\n"
     ]
    }
   ],
   "source": [
    "# Show list of available gases\n",
    "PBRun.ListGases()"
   ]
  },
  {
   "cell_type": "code",
   "execution_count": 4,
   "id": "speaking-series",
   "metadata": {},
   "outputs": [],
   "source": [
    "# Configure settings for our simulation\n",
    "MySettings   ={'Gases'                 :['XENON'],\n",
    "               'Fractions'             :[100],\n",
    "               'Max_collisions'        :4e8,\n",
    "               'EField_Vcm'            :500,\n",
    "               'Max_electron_energy'   :0,\n",
    "               'Temperature_C'         :23,\n",
    "               'Pressure_Torr'         :7500.62,\n",
    "               'BField_Tesla'          :0,\n",
    "               'BField_angle'          :0,\n",
    "               'Angular_dist_model'    :1,\n",
    "               'Enable_penning'        :0,\n",
    "               'Enable_thermal_motion' :1,\n",
    "               'ConsoleOutputFlag'     :0}"
   ]
  },
  {
   "cell_type": "code",
   "execution_count": 5,
   "id": "thousand-variation",
   "metadata": {},
   "outputs": [],
   "source": [
    "# Create empty lists to store outputs\n",
    "DriftVels=[]\n",
    "DriftVels_err=[]\n",
    "DTs=[]\n",
    "DLs=[]\n",
    "DT1s=[]\n",
    "DL1s=[]\n",
    "DTs_err=[]\n",
    "DLs_err=[]\n",
    "DT1s_err=[]\n",
    "DL1s_err=[]"
   ]
  },
  {
   "cell_type": "code",
   "execution_count": 6,
   "id": "wired-turkish",
   "metadata": {},
   "outputs": [
    {
     "name": "stdout",
     "output_type": "stream",
     "text": [
      "Running with E Field 438\n",
      "Input Decor_Colls not set, using default 0\n",
      "Input Decor_LookBacks not set, using default 0\n",
      "Input Decor_Step not set, using default 0\n",
      "Input NumSamples not set, using default 10\n",
      "\n",
      "Running with E Field 476\n",
      "\n",
      "Running with E Field 500\n",
      "\n",
      "Time elapsed:1380.4733214378357\n"
     ]
    }
   ],
   "source": [
    "\n",
    "# Run for each E field\n",
    "\n",
    "#EFields=[436.7,476.2,20000]\n",
    "EFields=[438,476,500]\n",
    "t1=time.time()\n",
    "for E in EFields:\n",
    "    print(\"Running with E Field \" +str(E))\n",
    "\n",
    "    MySettings['EField_Vcm']=E\n",
    "    \n",
    "    Output=PBRun.Run(MySettings)\n",
    "\n",
    "    DriftVels.append(Output['Drift_vel'].val[2])\n",
    "    DriftVels_err.append(Output['Drift_vel'].err[2])\n",
    "\n",
    "    DTs.append(Output['DT'].val)\n",
    "    DTs_err.append(Output['DT'].err)\n",
    "    \n",
    "    DLs.append(Output['DL'].val)\n",
    "    DLs_err.append(Output['DL'].err)\n",
    "    \n",
    "    DT1s.append(Output['DT1'].val)\n",
    "    DT1s_err.append(Output['DT1'].err)\n",
    "\n",
    "    DL1s.append(Output['DL1'].val)\n",
    "    DL1s_err.append(Output['DL1'].err)\n",
    "t2=time.time()\n",
    "\n",
    "print(\"Time elapsed:\" +str(t2-t1))"
   ]
  },
  {
   "cell_type": "code",
   "execution_count": 7,
   "id": "electronic-council",
   "metadata": {},
   "outputs": [
    {
     "name": "stdout",
     "output_type": "stream",
     "text": [
      "dict_keys(['Drift_vel', 'DT', 'DL', 'DT1', 'DL1', 'MeanEnergy', 'DTensor', 'ReducedIonization', 'ReducedAttachment', 'AlphaSST'])\n"
     ]
    }
   ],
   "source": [
    "# Lets look a what output info we have\n",
    "print(Output.keys())"
   ]
  },
  {
   "cell_type": "code",
   "execution_count": 8,
   "id": "combined-syndication",
   "metadata": {},
   "outputs": [
    {
     "name": "stdout",
     "output_type": "stream",
     "text": [
      "\n",
      " TDiffusion cm^2/s^2\n",
      "\n",
      "[383.9905670910257, 395.7970043845769, 381.38315221822734]\n",
      "\n",
      " DTs error \n",
      "[13.157461760230598, 16.287789349001667, 12.939819145788926]\n",
      "\n",
      " LDiffusion cm^2/s^2\n",
      "\n",
      "[66.262017755919, 61.15029422787139, 60.29072975701495]\n",
      "Error\n",
      "[1.8266044039730105, 1.434434719431793, 1.3224135369669128]\n",
      "\n",
      "Drift Velocity mm/us\n",
      "\n",
      "[0.9499443921712526, 0.9459665724227121, 0.9801242487113394]\n",
      "Error\n",
      "[0.01070075500573733, 0.009620623723793015, 0.010164616065732825]\n",
      "\n",
      "TDiffusion mm*sqrt(cm)\n",
      "\n",
      "Transverse Diffusion\n",
      "[0.89913765 0.91477303 0.88217589]\n",
      "Error\n",
      "[0.01621558 0.0193886  0.01564903]\n",
      "\n",
      "LDiffusion mm*sqrt(cm)\n",
      "\n",
      "Long Diffusion\n",
      "DL\n",
      "[0.37350656 0.35956415 0.35075163]\n",
      "DL_err\n",
      "[0.00556135 0.00459654 0.00425499]\n"
     ]
    }
   ],
   "source": [
    "print(\"\\n TDiffusion cm^2/s^2\\n\")\n",
    "print(DTs)\n",
    "print(\"\\n DTs error \")\n",
    "print(DTs_err)\n",
    "print(\"\\n LDiffusion cm^2/s^2\\n\")\n",
    "print(DLs)\n",
    "print(\"Error\")\n",
    "print(DLs_err)\n",
    "print(\"\\nDrift Velocity mm/us\\n\")\n",
    "print(DriftVels)\n",
    "print(\"Error\")\n",
    "print(DriftVels_err)\n",
    "print(\"\\nTDiffusion mm*sqrt(cm)\\n\")\n",
    "DT=np.array(DT1s)/1000\n",
    "DT_err=np.array(DT1s_err)/1000\n",
    "\n",
    "print(\"Transverse Diffusion\")\n",
    "print(DT)\n",
    "\n",
    "print(\"Error\")\n",
    "print(DT_err)\n",
    "print(\"\\nLDiffusion mm*sqrt(cm)\\n\")\n",
    "\n",
    "print (\"Long Diffusion\")\n",
    "DL=np.array(DL1s)/1000\n",
    "DL_err=np.array(DL1s_err)/1000\n",
    "print(\"DL\")\n",
    "print(DL)\n",
    "print(\"DL_err\")\n",
    "print(DL_err)\n"
   ]
  }
 ],
 "metadata": {
  "kernelspec": {
   "display_name": "Python 3 (ipykernel)",
   "language": "python",
   "name": "python3"
  },
  "language_info": {
   "codemirror_mode": {
    "name": "ipython",
    "version": 3
   },
   "file_extension": ".py",
   "mimetype": "text/x-python",
   "name": "python",
   "nbconvert_exporter": "python",
   "pygments_lexer": "ipython3",
   "version": "3.9.13"
  }
 },
 "nbformat": 4,
 "nbformat_minor": 5
}
