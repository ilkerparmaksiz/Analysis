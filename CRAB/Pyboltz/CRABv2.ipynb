{
 "cells": [
  {
   "cell_type": "code",
   "execution_count": 1,
   "metadata": {},
   "outputs": [],
   "source": [
    "import numpy as np\n",
    "import pylab\n",
    "import time\n",
    "from pathlib import Path\n",
    "\n",
    "from PyBoltz.PyBoltzRun import *"
   ]
  },
  {
   "cell_type": "code",
   "execution_count": 2,
   "metadata": {},
   "outputs": [
    {
     "data": {
      "text/plain": [
       "['/media/ilker/Ilker/CRAB/Analysis/Dec_12_2022/Analysis/CRAB/Pyboltz',\n",
       " '/home/ilker/Programs/root_install/lib',\n",
       " '/home/ilker/anaconda3/lib/python39.zip',\n",
       " '/home/ilker/anaconda3/lib/python3.9',\n",
       " '/home/ilker/anaconda3/lib/python3.9/lib-dynload',\n",
       " '',\n",
       " '/home/ilker/.local/lib/python3.9/site-packages',\n",
       " '/home/ilker/anaconda3/lib/python3.9/site-packages',\n",
       " '/home/ilker/anaconda3/lib/python3.9/site-packages/IPython/extensions',\n",
       " '/home/ilker/.ipython',\n",
       " '../hdf5_python',\n",
       " '../hdf5_python',\n",
       " '../hdf5_python',\n",
       " '../hdf5_python',\n",
       " '../hdf5_python',\n",
       " '../hdf5_python',\n",
       " '../hdf5_python',\n",
       " '../hdf5_python',\n",
       " '../hdf5_python',\n",
       " '../hdf5_python',\n",
       " '../hdf5_python',\n",
       " '../hdf5_python',\n",
       " '../hdf5_python',\n",
       " '../hdf5_python',\n",
       " '../hdf5_python',\n",
       " '../hdf5_python',\n",
       " '../hdf5_python',\n",
       " '../hdf5_python',\n",
       " '../hdf5_python']"
      ]
     },
     "execution_count": 2,
     "metadata": {},
     "output_type": "execute_result"
    }
   ],
   "source": [
    "import sys\n",
    "sys.path"
   ]
  },
  {
   "cell_type": "code",
   "execution_count": null,
   "metadata": {},
   "outputs": [],
   "source": []
  },
  {
   "cell_type": "code",
   "execution_count": 3,
   "metadata": {},
   "outputs": [],
   "source": [
    "# Set up helper object\n",
    "PBRun=PyBoltzRun()"
   ]
  },
  {
   "cell_type": "code",
   "execution_count": 4,
   "metadata": {},
   "outputs": [
    {
     "name": "stdout",
     "output_type": "stream",
     "text": [
      "CF4 1\n",
      "ARGON 2\n",
      "HELIUM4 3\n",
      "HELIUM3 4\n",
      "NEON 5\n",
      "KRYPTON 6\n",
      "XENON 7\n",
      "CH4 8\n",
      "ETHANE 9\n",
      "PROPANE 10\n",
      "ISOBUTANE 11\n",
      "CO2 12\n",
      "H2O 14\n",
      "OXYGEN 15\n",
      "NITROGEN 16\n",
      "HYDROGEN 21\n",
      "DEUTERIUM 22\n",
      "DME 25\n"
     ]
    }
   ],
   "source": [
    "# Show list of available gases\n",
    "PBRun.ListGases()"
   ]
  },
  {
   "cell_type": "code",
   "execution_count": 5,
   "metadata": {},
   "outputs": [],
   "source": [
    "# Configure settings for our simulation\n",
    "MySettings   ={'Gases'                 :['XENON'],\n",
    "               'Fractions'             :[100],\n",
    "               'Max_collisions'        :4e8,\n",
    "               'EField_Vcm'            :438,\n",
    "               'Max_electron_energy'   :0,\n",
    "               'Temperature_C'         :23,\n",
    "               'Pressure_Torr'         :750.62,\n",
    "               'BField_Tesla'          :0,\n",
    "               'BField_angle'          :0,\n",
    "               'Angular_dist_model'    :1,\n",
    "               'Enable_penning'        :0,\n",
    "               'Enable_thermal_motion' :1,\n",
    "               'ConsoleOutputFlag'     :0}"
   ]
  },
  {
   "cell_type": "code",
   "execution_count": 6,
   "metadata": {},
   "outputs": [],
   "source": [
    "# Create empty lists to store outputs\n",
    "DriftVels=[]\n",
    "DriftVels_err=[]\n",
    "DTs=[]\n",
    "DLs=[]\n",
    "DT1s=[]\n",
    "DL1s=[]\n",
    "DTs_err=[]\n",
    "DLs_err=[]\n",
    "DT1s_err=[]\n",
    "DL1s_err=[]"
   ]
  },
  {
   "cell_type": "code",
   "execution_count": null,
   "metadata": {},
   "outputs": [
    {
     "name": "stdout",
     "output_type": "stream",
     "text": [
      "[100, 300, 500]\n",
      "Running with E Field 100\n",
      "Input Decor_Colls not set, using default 0\n",
      "Input Decor_LookBacks not set, using default 0\n",
      "Input Decor_Step not set, using default 0\n",
      "Input NumSamples not set, using default 10\n"
     ]
    }
   ],
   "source": [
    "\n",
    "# Run for each E field\n",
    "\n",
    "EFields=[100,300,500]\n",
    "\n",
    "print(EFields)\n",
    "t1=time.time()\n",
    "for E in EFields:\n",
    "    print(\"Running with E Field \" +str(E))\n",
    "\n",
    "    MySettings['EField_Vcm']=E\n",
    "    \n",
    "    Output=PBRun.Run(MySettings)\n",
    "\n",
    "    DriftVels.append(Output['Drift_vel'].val[2])\n",
    "    DriftVels_err.append(Output['Drift_vel'].err[2])\n",
    "\n",
    "    DTs.append(Output['DT'].val)\n",
    "    DTs_err.append(Output['DT'].err)\n",
    "    \n",
    "    DLs.append(Output['DL'].val)\n",
    "    DLs_err.append(Output['DL'].err)\n",
    "    \n",
    "    DT1s.append(Output['DT1'].val)\n",
    "    DT1s_err.append(Output['DT1'].err)\n",
    "\n",
    "    DL1s.append(Output['DL1'].val)\n",
    "    DL1s_err.append(Output['DL1'].err)\n",
    "t2=time.time()\n",
    "\n",
    "print(\"Time elapsed:\" +str(t2-t1))"
   ]
  },
  {
   "cell_type": "code",
   "execution_count": null,
   "metadata": {},
   "outputs": [],
   "source": [
    "# Lets look a what output info we have\n",
    "print(Output.keys())"
   ]
  },
  {
   "cell_type": "code",
   "execution_count": null,
   "metadata": {},
   "outputs": [],
   "source": [
    "print(DriftVels)\n",
    "print(\"... DTs ...\")\n",
    "print(DTs)\n",
    "print(\"... DLs ...\")\n",
    "print(DLs)\n",
    "#print(DT1s)\n",
    "#print(DL1s)"
   ]
  },
  {
   "cell_type": "code",
   "execution_count": null,
   "metadata": {},
   "outputs": [],
   "source": [
    "# Plot drift vel\n",
    "pylab.figure(figsize=(5,5))\n",
    "pylab.errorbar(EFields,DriftVels,DriftVels_err,capsize=5,fmt='o')\n",
    "pylab.xlabel(\"Electric Field (V/cm)\")\n",
    "pylab.ylabel(r\"Drift Velocity (mm/$\\mu$ s)\")"
   ]
  },
  {
   "cell_type": "code",
   "execution_count": null,
   "metadata": {},
   "outputs": [],
   "source": [
    "# Plot Diffusion in Einstein units\n",
    "pylab.figure(figsize=(5,5))\n",
    "pylab.errorbar(EFields,DTs,DTs_err,capsize=5,fmt='o',label=\"Transverse\")\n",
    "pylab.errorbar(EFields,DLs,DLs_err,capsize=5,fmt='o',label=\"Longitudinal\")\n",
    "pylab.xlabel(\"Electric Field (V/cm)\")\n",
    "pylab.ylabel(r\"Diffusion (cm$^2$ s$^{-1}$)\")"
   ]
  },
  {
   "cell_type": "code",
   "execution_count": null,
   "metadata": {},
   "outputs": [],
   "source": [
    "# Plot Diffusion in TPC units\n",
    "pylab.figure(figsize=(5,5))\n",
    "pylab.errorbar(EFields,DT1s,DT1s_err,capsize=5,fmt='o',label=\"Transverse\")\n",
    "pylab.errorbar(EFields,DL1s,DL1s_err,capsize=5,fmt='o',label=\"Longitudinal\")\n",
    "pylab.xlabel(\"Electric Field (V/cm)\")\n",
    "pylab.ylabel(r\"Diffusion ($\\mu$m cm$^{-\\frac{1}{2}}$)\")"
   ]
  },
  {
   "cell_type": "code",
   "execution_count": null,
   "metadata": {},
   "outputs": [],
   "source": [
    "print(DTs)"
   ]
  },
  {
   "cell_type": "code",
   "execution_count": null,
   "metadata": {},
   "outputs": [],
   "source": []
  }
 ],
 "metadata": {
  "kernelspec": {
   "display_name": "Python 3 (ipykernel)",
   "language": "python",
   "name": "python3"
  },
  "language_info": {
   "codemirror_mode": {
    "name": "ipython",
    "version": 3
   },
   "file_extension": ".py",
   "mimetype": "text/x-python",
   "name": "python",
   "nbconvert_exporter": "python",
   "pygments_lexer": "ipython3",
   "version": "3.9.13"
  }
 },
 "nbformat": 4,
 "nbformat_minor": 2
}
