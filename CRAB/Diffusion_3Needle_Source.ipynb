{
 "cells": [
  {
   "cell_type": "code",
   "execution_count": 1,
   "id": "about-cedar",
   "metadata": {},
   "outputs": [
    {
     "data": {
      "text/html": [
       "<style>.container { width:90% !important; }</style>"
      ],
      "text/plain": [
       "<IPython.core.display.HTML object>"
      ]
     },
     "metadata": {},
     "output_type": "display_data"
    }
   ],
   "source": [
    "import numpy as np\n",
    "import matplotlib.pyplot as plt\n",
    "#import uproot\n",
    "import h5py as h\n",
    "import numpy as np\n",
    "import matplotlib\n",
    "import matplotlib.pyplot as plt\n",
    "import matplotlib.transforms as transforms\n",
    "import statistics as st\n",
    "import os\n",
    "import pickle\n",
    "import glob\n",
    "from scipy import stats\n",
    "%matplotlib inline\n",
    "import random\n",
    "import seaborn as sn\n",
    "from IPython.display import display, HTML\n",
    "from scipy.stats import norm\n",
    "import pandas as pd\n",
    "import scipy.optimize as opt\n",
    "display(HTML(\"<style>.container { width:90% !important; }</style>\"))\n",
    "\n",
    "font = {'family' : 'Ubuntu',\n",
    "        'weight' : 'bold',\n",
    "        'size'   : 20}\n",
    "\n",
    "matplotlib.rc('font', **font)\n"
   ]
  },
  {
   "cell_type": "code",
   "execution_count": null,
   "id": "6c6f4bf1",
   "metadata": {},
   "outputs": [],
   "source": []
  },
  {
   "cell_type": "code",
   "execution_count": null,
   "id": "aquatic-walter",
   "metadata": {},
   "outputs": [],
   "source": []
  },
  {
   "cell_type": "code",
   "execution_count": 2,
   "id": "3c1a4fbc",
   "metadata": {},
   "outputs": [],
   "source": [
    "def Get_hit_array(file, Current_Event,particle):\n",
    "    data = h.File(file,'r')\n",
    "    TotalEvents=int(data['MC']['configuration'][2][1])\n",
    "    if(TotalEvents < Current_Event):\n",
    "        print('out of event range')\n",
    "\n",
    "    Current_Hit_Mask = data['MC']['hits']['event_id'] == Current_Event \n",
    "    Current_Particle_Mask = data[\"MC\"]['particles']['event_id'] == Current_Event\n",
    "    Hits_PIDs=data['MC']['hits'][Current_Hit_Mask]['particle_id'] \n",
    "    Current_Particles=data['MC']['particles'][Current_Particle_Mask]\n",
    "\n",
    "    Electron_Mask = Current_Particles['particle_name'] == particle\n",
    "\n",
    "    Electron_PIDS = data['MC']['particles'][Current_Particle_Mask][Electron_Mask]['particle_id']         \n",
    "\n",
    "\n",
    "    Hit_Electron_Maks = np.in1d(Hits_PIDs, Electron_PIDS)\n",
    "    ElectronData=data['MC']['hits'][Current_Hit_Mask][Hit_Electron_Maks]\n",
    "\n",
    "    return ElectronData\n",
    "\n",
    "\n",
    "def Diffuser(HIT_ARRAY,ZOFFSET):\n",
    "    Etotal = 0\n",
    "    Diffused_X = np.array([])\n",
    "    Diffused_Y = np.array([])\n",
    "    Diffused_Z = np.array([])\n",
    "    GasProps.RegularUnits()\n",
    "    for hit in HIT_ARRAY:\n",
    "        energy_deposit = hit['energy']\n",
    "        electron_loc_x = hit['x']/10\n",
    "        electron_loc_y = hit['y']/10\n",
    "        #electron_loc_z = hit['z']/10 + Zoffset\n",
    "        electron_loc_z = ZOFFSET\n",
    "\n",
    "        Etotal += energy_deposit\n",
    "\n",
    "        Nelectron = int( (energy_deposit*1e6/GasProps.Wvalue) );\n",
    "\n",
    "        # Loop through the electrons \n",
    "        for electron in range(Nelectron):\n",
    "\n",
    "            # calculate drift time for diffusion \n",
    "            T_drift = electron_loc_z / GasProps.Vd\n",
    "            if (T_drift <=0):\n",
    "                print(\"Warnign T_drift is negative\")\n",
    "                continue\n",
    "            # electron lifetime\n",
    "            if (np.random.uniform() >= np.exp(-T_drift/GasProps.Life_Time)):\n",
    "                continue\n",
    "\n",
    "            # diffuse the electrons position\n",
    "            sigma_T = np.sqrt(2*GasProps.Dt*T_drift)\n",
    "            sigma_L = np.sqrt(2*GasProps.Dl*T_drift)\n",
    "            electron_x = np.random.normal(electron_loc_x,sigma_T)\n",
    "            electron_y = np.random.normal(electron_loc_y,sigma_T)\n",
    "            electron_z = np.random.normal(electron_loc_z,sigma_L)\n",
    "            Diffused_X=np.append(Diffused_X,electron_x)\n",
    "            Diffused_Y=np.append(Diffused_Y,electron_y)\n",
    "            Diffused_Z=np.append(Diffused_Z,electron_z)\n",
    "    print(\"evnet has {} MeV and made {} electrons\".format(round(Etotal,3), len(Diffused_X)))\n",
    "        \n",
    "        \n",
    "    return Diffused_X, Diffused_Y, Diffused_Z\n",
    "\n",
    "\n",
    "\n",
    "\n",
    "def Diffuserv2(HIT_ARRAY,ZOFFSET):\n",
    "    Etotal = 0\n",
    "    Diffused_X = []\n",
    "    Diffused_Y = []\n",
    "    Diffused_Z = []\n",
    "\n",
    "    for hit in HIT_ARRAY:\n",
    "        energy_deposit = hit[3]\n",
    "        electron_loc_x = hit[0]\n",
    "        electron_loc_y = hit[1]\n",
    "        #electron_loc_z = hit[2] + Zoffset\n",
    "        electron_loc_z = ZOFFSET\n",
    "\n",
    "        Etotal += energy_deposit\n",
    "\n",
    "       \n",
    "        # calculate drift time for diffusion \n",
    "        T_drift = electron_loc_z / GasProps.Vd\n",
    "        if (T_drift <=0):\n",
    "            print(\"Warnign T_drift is negative\")\n",
    "            continue\n",
    "        # electron lifetime\n",
    "        if (np.random.uniform() >= np.exp(-T_drift/GasProps.Life_Time)):\n",
    "            continue\n",
    "\n",
    "        # diffuse the electrons position\n",
    "        sigma_T = np.sqrt(2*GasProps.Dt*T_drift)\n",
    "        sigma_L = np.sqrt(2*GasProps.Dl*T_drift)\n",
    "        electron_x = np.random.normal(electron_loc_x,sigma_T)\n",
    "        electron_y = np.random.normal(electron_loc_y,sigma_T)\n",
    "        electron_z = np.random.normal(electron_loc_z,sigma_L)\n",
    "        Diffused_X.append(electron_x)\n",
    "        Diffused_Y.append(electron_y)\n",
    "        Diffused_Z.append(electron_z)\n",
    "    print(\"evnet has {} MeV and made {} electrons\".format(round(Etotal,3), len(Diffused_X)))\n",
    "        \n",
    "        \n",
    "    return Diffused_X, Diffused_Y, Diffused_Z\n",
    "\n",
    "\n",
    "def ionizationElectronPosition(data,mother,targetvolume='EL_GAP',EventLimit=2):\n",
    "    TotalEvents=int(data['configuration'][2][1])\n",
    "    values={}\n",
    "\n",
    "    \n",
    "    if(EventLimit>TotalEvents):\n",
    "        EventLimit=TotalEvents\n",
    "        \n",
    "    for EventID in range(0,EventLimit):\n",
    "        # obtain current event id\n",
    "        EventIDMask=data[\"particles\"][\"event_id\"]==EventID\n",
    "        \n",
    "        #store particle infor for this event\n",
    "        ParticlesTable=data[\"particles\"][EventIDMask]\n",
    "        # Create Mother mask for expected mother\n",
    "        MotherMask=ParticlesTable[\"particle_name\"]==mother\n",
    "        # Interested particles\n",
    "        IonizationElectronsMask=ParticlesTable[\"final_volume\"]==targetvolume\n",
    "        #obtain mother idsprint(ParticlesInInterest[\"particle_name\"][IonizationElectronsMask][MotherIDMask])\n",
    "        IonizationElectronMotherID=ParticlesTable[\"mother_id\"][IonizationElectronsMask]\n",
    "        #Expected Mother IDs\n",
    "        ExpectedMotherID=ParticlesTable[\"particle_id\"][MotherMask]\n",
    "        # Find intersection of the motherIds of ie and Expected Mother\n",
    "        MotherIDMask=np.isin(IonizationElectronMotherID,ExpectedMotherID)\n",
    "        FinalPositions=[ParticlesTable[\"final_x\"][IonizationElectronsMask][MotherIDMask],ParticlesTable[\"final_y\"][IonizationElectronsMask][MotherIDMask],ParticlesTable[\"final_z\"][IonizationElectronsMask][MotherIDMask]]\n",
    "        values[EventID]=FinalPositions\n",
    "    return values\n",
    "        \n",
    "def getvalues(file):\n",
    "    data = h.File(file,'r')\n",
    "    return data['MC']\n",
    "                \n",
    "    \n",
    "class Gas_Properties():\n",
    "    # gas values for 500V/cm at 10 bar\n",
    "    # simulated from PyBoltz\n",
    "    def __init__(self):\n",
    "        #self.Wvalue = 22.1 # in eV\n",
    "        #self.Vd = 935000.0 # cm/s\n",
    "        #self.Dt = 6114.291 # cm**2/s\n",
    "        #self.Dl = 506.464  # cm**2/s\n",
    "        #self.Life_Time = 0.001 # in s\n",
    "        \n",
    "        self.Wvalue = 22.1 # in eV\n",
    "        self.Life_Time = 0.001 # in s\n",
    "\n",
    "    def RegularUnits(self):\n",
    "        self.Vd = 94000 # cm/s\n",
    "        self.Dt = 395.80 # cm**2/s\n",
    "        self.Dl = 61.15  # cm**2/s\n",
    "        \n",
    "    def NextUnits(self):\n",
    "        self.Vd = 0.9 # mm/us\n",
    "        self.Dt = 0.92 # mm/sqrt(cm)\n",
    "        self.Dl = 0.36  # mm/sqrt(cm)\n",
    "    \n",
    "    def Print(self):\n",
    "        print(f\"Wvalue is {self.Wvalue}\")\n",
    "        print(f\"Electron LifeTime is {self.Life_Time}\")\n",
    "        print(f\"Drift Velocity is {self.Vd}\")\n",
    "        print(f\"Transverse Dif is {self.Dt}\")\n",
    "        print(f\"Drift Velocity is {self.Vd}\")\n",
    "        print(f\"Longitutional Dif is {self.Dl}\")\n",
    "\n",
    "        \n",
    "        \n",
    "        \n",
    "GasProps = Gas_Properties()\n",
    "\n",
    "\n",
    "def PickleITDump(data,fileName):\n",
    "    with open(fileName,'wb') as f:\n",
    "        pickle.dump(data,f)\n",
    "        \n",
    "def PickleITRead(fileName):\n",
    "    with open(fileName,'rb') as f:\n",
    "        data=pickle.load(f)    \n",
    "    return data\n",
    "\n",
    "\n",
    "def MultiFileIonizationElectronPosition(files,mother,TargetVolume=b'EL_GAP',TargetParticle=b'opticalphoton',EventLimit=2,FileName=\"Optical.p\"):\n",
    "    count=0\n",
    "    values={}\n",
    "    \n",
    "    if(EventLimit==-1):\n",
    "        EventLimit=len(files)\n",
    "    filecount=0\n",
    "    for file in files:\n",
    "        print(f\"Analyzing following  file --> {file}\\n\" )\n",
    "        data = getvalues(file)\n",
    "        TotalEvents=int(data['configuration'][2][1])\n",
    "        FinalPosition={\"particle_name\":[],\"x\":[],\"y\":[],\"z\":[]}\n",
    "    \n",
    "        for EventID in range(0,TotalEvents):\n",
    "            #Obtain current event id\n",
    "            EventIDMask=data[\"particles\"][\"event_id\"]==EventID\n",
    "            \n",
    "            #Store particle infor for this event\n",
    "            ParticlesTable=data[\"particles\"][EventIDMask]\n",
    "            \n",
    "            #Create Mother mask for expected mother\n",
    "            MotherMask=ParticlesTable[\"particle_name\"]==mother\n",
    "            \n",
    "            ## Particle Name Mask\n",
    "            \n",
    "            #Interested particles\n",
    "            ParticleNameMask=ParticlesTable[\"particle_name\"]==TargetParticle\n",
    "            ParticlesInInterest=ParticlesTable[ParticleNameMask]\n",
    "            if(TargetVolume!=None):\n",
    "                IonizationElectronsMask=ParticlesInInterest[\"final_volume\"]==TargetVolume\n",
    "                ParticlesInInterest=ParticlesInInterest[IonizationElectronsMask]\n",
    "           \n",
    "            IonizationElectronMotherID=ParticlesInInterest[\"mother_id\"]\n",
    "\n",
    "            #Expected Mother IDs\n",
    "            ExpectedMotherID=ParticlesTable[\"particle_id\"][MotherMask]\n",
    "            \n",
    "            #Find intersection of the motherIds of ie and Expected Mother\n",
    "            MotherIDMask=np.isin(IonizationElectronMotherID,ExpectedMotherID)\n",
    "            FinalPosition[\"particle_name\"]=ParticlesInInterest[\"particle_name\"][MotherIDMask]\n",
    "            FinalPosition[\"x\"]=ParticlesInInterest[\"final_x\"][MotherIDMask]\n",
    "            FinalPosition[\"y\"]=ParticlesInInterest[\"final_y\"][MotherIDMask]\n",
    "            FinalPosition[\"z\"]=ParticlesInInterest[\"final_z\"][MotherIDMask]\n",
    "            values[count]=FinalPosition\n",
    "            count=count+1\n",
    "            \n",
    "        if(filecount>=EventLimit):\n",
    "            break\n",
    "        filecount=filecount+1\n",
    "    if(FileName==\"\"):\n",
    "        PickleITDump(values,\"Electrons.p\")\n",
    "    else:\n",
    "        PickleITDump(values,FileName+\".p\")\n",
    "    print(\"Events are saved!\")\n",
    "    return values\n",
    "\n",
    "\n",
    "\n",
    "def DiffuserNextunit(HIT_ARRAY,ZOFFSET):\n",
    "    Etotal = 0\n",
    "    Diffused_X = np.array([])\n",
    "    Diffused_Y = np.array([])\n",
    "    Diffused_Z = np.array([])\n",
    "    GasProps.NextUnits()\n",
    "    GasProps.Print()\n",
    "    Counters=[0,0]    \n",
    "    \n",
    "    for hit in HIT_ARRAY:\n",
    "        energy_deposit = hit['energy']\n",
    "        electron_loc_x = hit['x']\n",
    "        electron_loc_y = hit['y']\n",
    "        #electron_loc_z = hit['z']/10 + Zoffset\n",
    "        electron_loc_z = ZOFFSET\n",
    "\n",
    "        Etotal += energy_deposit\n",
    "\n",
    "        Nelectron = int( (energy_deposit*1e6/GasProps.Wvalue) );\n",
    "\n",
    "        # Loop through the electrons \n",
    "        for electron in range(Nelectron):\n",
    "\n",
    "            # calculate drift time for diffusion \n",
    "            T_drift = ((electron_loc_z) / (GasProps.Vd*1e5))\n",
    "            if (T_drift <=0):\n",
    "                print(\"Warnign T_drift is negative\")\n",
    "                continue\n",
    "            # electron lifetime\n",
    "            \n",
    "            random=np.random.uniform()\n",
    "            #if (T_drift>-GasProps.Life_Time*np.log(random)):\n",
    "                #Counters[1]=Counters[1]+1\n",
    "\n",
    "            if (random >= np.exp(-T_drift/GasProps.Life_Time)):\n",
    "                Counters[0]=Counters[0]+1\n",
    "                continue\n",
    "\n",
    "            # diffuse the electrons position\n",
    "            sigma_T = ((GasProps.Dt)*np.sqrt(ZOFFSET))\n",
    "            sigma_L = ((GasProps.Dl)*np.sqrt(ZOFFSET))/GasProps.Vd\n",
    "            electron_x = np.random.normal(electron_loc_x,sigma_T)\n",
    "            electron_y = np.random.normal(electron_loc_y,sigma_T)\n",
    "            electron_z = np.random.normal(0,sigma_L)\n",
    "            Diffused_X=np.append(Diffused_X,electron_x)\n",
    "            Diffused_Y=np.append(Diffused_Y,electron_y)\n",
    "            Diffused_Z=np.append(Diffused_Z,electron_z)\n",
    "    print(\"evnet has {} MeV and made {} and lost {} many electrons\".format(round(Etotal,3), len(Diffused_X),Counters[0]))\n",
    "        \n",
    "        \n",
    "    return Diffused_X, Diffused_Y, Diffused_Z\n",
    "\n",
    "def TwoDGaussianEllipticalFlat(xy,Amp,x0,sigmax,y0,sigmay,theta,Shift):\n",
    "    x,y=xy\n",
    "    a=np.cos(theta)**2/(2*sigmax**2)+np.sin(theta)**2/(2*sigmay)\n",
    "    b=-np.sin(2*theta)**2/(4*sigmax**2)+np.sin(2*theta)**2/(4*sigmay)\n",
    "    c=np.cos(theta)**2/(2*sigmay**2)+np.sin(theta)**2/(2*sigmax)\n",
    "\n",
    "    value=Shift+Amp*np.exp(-(a*(x-x0)**2+2*b*(x-x0)*(y-y0)+c*(y-y0)**2))\n",
    "    return value.ravel()\n",
    "\n",
    "def gaussian1d(mu,sigma,bins):\n",
    "    return 1/(sigma * np.sqrt(2 * np.pi)) *np.exp( - (bins - mu)**2 / (2 * sigma**2))\n",
    "\n",
    "\n",
    "def TwoDGaussian(xy,Amp,x0,sigmax,y0,sigmay=None):\n",
    "    x,y=xy\n",
    "    if(sigmay==None):\n",
    "        sigmay=sigmaxMakeELPhotonsSimple\n",
    "    value=Amp*np.exp(-((x-x0)**2/(2*sigmax**2)+(y-y0)**2/(2*sigmay**2)))\n",
    "    return value\n",
    "\n",
    "def MaskCreate(pixel,radius,center,plot=False):\n",
    "    XPixel,YPixel=pixel\n",
    "    centerX,centerY=center\n",
    "    x=np.arange(0,XPixel,1)\n",
    "    y=np.arange(0,YPixel,1)\n",
    "    xx,yy=np.meshgrid(x,y)\n",
    "    rr=np.sqrt((xx-centerX)**2+(yy-centerY)**2)\n",
    "    mask=rr<=radius\n",
    "    values=np.ones(rr.shape)\n",
    "    values[mask]=0\n",
    "    if(plot):\n",
    "        plt.figure(figsize=(12,8),dpi=300)\n",
    "        plt.title(\"Mask Position\")\n",
    "        plt.xlabel(\"PixelX\")\n",
    "        plt.ylabel(\"PixelY\")\n",
    "        plt.imshow(values,cmap=\"gray\",origin=\"lower\")\n",
    "        plt.show()\n",
    "    \n",
    "    return mask,values,[centerX,centerY]"
   ]
  },
  {
   "cell_type": "code",
   "execution_count": null,
   "id": "892d1cc6",
   "metadata": {},
   "outputs": [],
   "source": []
  },
  {
   "cell_type": "code",
   "execution_count": 3,
   "id": "c6eebef2",
   "metadata": {},
   "outputs": [],
   "source": [
    "x=[5.46,10.58,15.55]"
   ]
  },
  {
   "cell_type": "code",
   "execution_count": 4,
   "id": "997ceb64",
   "metadata": {},
   "outputs": [],
   "source": [
    "files=glob.glob(\"/media/ilker/Ilker/SimResults/Mar11_2023/Updated_NoS1/output/*.h5\",recursive=True)"
   ]
  },
  {
   "cell_type": "code",
   "execution_count": 5,
   "id": "aa62cd39",
   "metadata": {
    "scrolled": true
   },
   "outputs": [],
   "source": [
    "#ie=MultiFileIonizationElectronPosition(files,mother=b'alpha',TargetVolume=None,TargetParticle=b'ie-',EventLimit=-1,FileName=\"ionizationElectrons.p\")\n",
    "#Op=MultiFileIonizationElectronPosition(files,mother=b'alpha',TargetVolume=None,TargetParticle=b'opticalphoton',EventLimit=-1,FileName=\"Optical.p\")\n",
    "#ieNoS1=MultiFileIonizationElectronPosition(files,mother=b'alpha',TargetVolume=None,TargetParticle=b'ie-',EventLimit=-1,FileName=\"ionizationElectronsWithNoS1.p\")\n"
   ]
  },
  {
   "cell_type": "raw",
   "id": "1586d7f8",
   "metadata": {},
   "source": [
    "NumPhoton=np.array([])\n",
    "NumE=np.array([])\n",
    "NumEv2=np.array([])\n",
    "\n",
    "for o in Op:\n",
    "    NumPhoton=np.append(NumPhoton,len(Op[o][\"particle_name\"]))\n",
    "\n",
    "for p in ie:\n",
    "    NumE=np.append(NumE,len(ie[p][\"particle_name\"]))\n",
    "\n",
    "\n",
    "for k in ieNoS1:\n",
    "    NumEv2=np.append(NumEv2,len(ieNoS1[k][\"particle_name\"]))\n",
    "        "
   ]
  },
  {
   "cell_type": "markdown",
   "id": "a92609c5",
   "metadata": {},
   "source": [
    "binns=np.linspace(239000,242000,20)\n",
    "plt.hist(NumE,bins=binns,stacked=True,density=True,label=\"With S1\")\n",
    "plt.hist(NumEv2,bins=binns,stacked=True,density=True,label=\"With No S1\")\n",
    "plt.legend()\n",
    "plt.show()"
   ]
  },
  {
   "cell_type": "raw",
   "id": "0c9d5235",
   "metadata": {},
   "source": [
    "\n",
    "AlphaHITS1 = Get_hit_array(\"/media/argon/Ilker_SSD/SimResults/Jan_20_2022/Alphas.h5\", 0,b'alpha')\n",
    "AlphaHITS2 = Get_hit_array(\"/media/argon/Ilker_SSD/SimResults/Jan_20_2022/Alphas.h5\", 1,b'alpha')\n",
    "AlphaHITS3 = Get_hit_array(\"/media/argon/Ilker_SSD/SimResults/Jan_20_2022/Alphas.h5\", 2,b'alpha')"
   ]
  },
  {
   "cell_type": "raw",
   "id": "dbcd85f6",
   "metadata": {},
   "source": [
    "ones=np.ones((1,300000))\n",
    "test=np.array([0,0,0,1])\n",
    "kk=np.meshgrid(test,ones)"
   ]
  },
  {
   "cell_type": "raw",
   "id": "65ec2267",
   "metadata": {},
   "source": [
    "    PixelShape=theImage.shape\n",
    "CenterPoint=(214,270)\n",
    "Needle15cm_Mask=MaskCreate(PixelShape,20,CenterPoint)\n",
    "plt.scatter(*CenterPoint,s=100,color=\"y\",marker=\"o\") ##  15cm\n",
    "\n",
    "CenterPoint=(295,297)\n",
    "Needle10cm_Mask=MaskCreate(PixelShape,20,CenterPoint)\n",
    "plt.scatter(*CenterPoint,s=100,color=\"r\",marker=\"o\") ##  10cm\n",
    "\n",
    "CenterPoint=(254,191)\n",
    "\n",
    "Needle5cm_Mask=MaskCreate(PixelShape,20,CenterPoint)\n",
    "plt.scatter(*CenterPoint,s=100,color=\"k\",marker=\"o\") ##  5cm\n"
   ]
  },
  {
   "cell_type": "raw",
   "id": "05018681",
   "metadata": {},
   "source": [
    "## Alpha 1\n",
    "AlphaHITS1[\"x\"]=(AlphaHITS1[\"x\"]-np.max(AlphaHITS1[\"x\"]))+40\n",
    "AlphaHITS1[\"y\"]=(AlphaHITS1[\"y\"]-np.max(AlphaHITS1[\"y\"]))+40\n",
    "\n",
    "## Alpha 2\n",
    "AlphaHITS2[\"x\"]=(AlphaHITS2[\"x\"]-np.max(AlphaHITS2[\"x\"]))+40\n",
    "AlphaHITS2[\"y\"]=(AlphaHITS2[\"y\"]-np.max(AlphaHITS2[\"y\"]))+40\n",
    "\n",
    "## Alpha 3\n",
    "AlphaHITS3[\"x\"]=(AlphaHITS3[\"x\"]-np.max(AlphaHITS3[\"x\"]))+40\n",
    "AlphaHITS3[\"y\"]=(AlphaHITS3[\"y\"]-np.max(AlphaHITS3[\"y\"]))+40\n",
    "\n"
   ]
  },
  {
   "cell_type": "code",
   "execution_count": 6,
   "id": "adopted-drilling",
   "metadata": {},
   "outputs": [],
   "source": [
    "#Alpha1Diff_X, Alpha1Diff_Y, Alpha1Diff_Z = DiffuserNextunit(AlphaHITS1,5.46) #cm\n",
    "#Alpha2Diff_X, Alpha2Diff_Y, Alpha2Diff_Z = DiffuserNextunit(AlphaHITS2,10.58)\n",
    "#Alpha3Diff_X, Alpha3Diff_Y, Alpha3Diff_Z = DiffuserNextunit(AlphaHITS3,15.55)"
   ]
  },
  {
   "cell_type": "code",
   "execution_count": 7,
   "id": "33232c58",
   "metadata": {},
   "outputs": [],
   "source": [
    "#Alphas={\"Alpha1\":[Alpha1Diff_X,Alpha1Diff_Y,Alpha1Diff_Z],\"Alpha2\":[Alpha2Diff_X,Alpha2Diff_Y,Alpha2Diff_Z],\"Alpha3\":[Alpha3Diff_X,Alpha3Diff_Y,Alpha3Diff_Z]}"
   ]
  },
  {
   "cell_type": "code",
   "execution_count": 8,
   "id": "e93471c6",
   "metadata": {},
   "outputs": [],
   "source": [
    "#PickleITDump(Alphas,\"3NeedleDiff.p\")\n",
    "Alphas=PickleITRead(\"3NeedleDiff.p\")"
   ]
  },
  {
   "cell_type": "code",
   "execution_count": 9,
   "id": "f681e655",
   "metadata": {},
   "outputs": [
    {
     "name": "stdout",
     "output_type": "stream",
     "text": [
      "dict_keys(['Alpha1', 'Alpha2', 'Alpha3'])\n"
     ]
    }
   ],
   "source": [
    "print(Alphas.keys())"
   ]
  },
  {
   "cell_type": "code",
   "execution_count": 10,
   "id": "92c9944c",
   "metadata": {},
   "outputs": [
    {
     "name": "stdout",
     "output_type": "stream",
     "text": [
      "[array([39.95951639, 37.98282647, 40.98078721, ..., 38.76054432,\n",
      "       38.69177831, 38.36449787]), array([46.52991352, 40.36415291, 38.29278853, ..., 37.81207026,\n",
      "       40.21329234, 40.74372645]), array([ 0.5431499 ,  0.77074875, -0.64806461, ..., -1.34552085,\n",
      "        1.11216255,  0.65561256])]\n"
     ]
    }
   ],
   "source": [
    "print(Alphas[\"Alpha1\"])"
   ]
  },
  {
   "cell_type": "code",
   "execution_count": 11,
   "id": "fixed-happening",
   "metadata": {},
   "outputs": [],
   "source": [
    "def ConvertToDiffusion(SigmaX,SigmaY,distance,pixelSize,Magnefication,DT=0.92):\n",
    "    DTX=round((SigmaX/np.sqrt(distance))*pixelSize*Magnefication,2)\n",
    "    DTY=round((SigmaY/np.sqrt(distance))*pixelSize*Magnefication,2)\n",
    "    value=round((DTX+DTY)/2,2)\n",
    "    Error=round(abs(DT-value)/DT,2)\n",
    "    print(f\"Needle Distance is {distance} cm\")\n",
    "    print(f\"DT is {value} mm/sqrt(cm) error is {Error*100} %\")\n",
    "\n",
    "def GetTransVerseDiffusion(Fit,pixelSize,mag):\n",
    "    DTs=np.array([])\n",
    "    SigmaXs=np.array([])\n",
    "    SigmaYs=np.array([])\n",
    "    positions=[2,7,12]\n",
    "    \n",
    "    for i in positions:\n",
    "        DTX=round(Fit[3][i]*pixelSize,2)\n",
    "        DTY=round(Fit[3][i+2]*pixelSize,2)\n",
    "        DT=round((DTX+DTY)/2,2)*mag\n",
    "        \n",
    "        DTs=np.append(DTs,DT)\n",
    "        SigmaXs=np.append(SigmaXs,Fit[3][i])\n",
    "        SigmaYs=np.append(SigmaYs,Fit[3][i+2])\n",
    "        \n",
    "    #Error=round(abs(DT-value)/DT,2)\n",
    "    return DTs,SigmaXs,SigmaYs\n",
    "def Sumsof3Gaussian(xy,*initials):\n",
    "    fit1=initials[0:5]\n",
    "    fit2=initials[5:10]\n",
    "    fit3=initials[10:15]\n",
    "    offset=initials[-1:]\n",
    "    Sum=TwoDGaussian(xy,*fit1)+TwoDGaussian(xy,*fit2)+TwoDGaussian(xy,*fit3)+offset\n",
    "    return Sum.ravel()\n",
    "\n",
    "def FitSumsof3Gaussian(img,fit1,fit2,fit3,offset,it=15000):\n",
    "    x = np.linspace(0,img.shape[0],img.shape[0])\n",
    "    xx, yy = np.meshgrid(x, x)\n",
    "    flattened=img.ravel()\n",
    "    popt, pcov = opt.curve_fit(Sumsof3Gaussian, (xx, yy),flattened , p0=(*fit1,*fit2,*fit3,offset),maxfev=it,method=\"lm\")\n",
    "    #print(popt)\n",
    "    data_fitted = Sumsof3Gaussian((xx, yy),*popt)\n",
    "    return flattened.reshape(512,512),data_fitted.reshape(512,512),[xx,yy],popt\n",
    "\n",
    "def SingleFitImage(AverageImage,c1,c2,c3):\n",
    "    distance=5\n",
    "    pixelSize=16e-3 #mm\n",
    "    Magnefication=11\n",
    "    \n",
    "    NeedleDistances=np.array([5.46,10.58,15.55]) #cm\n",
    "    PixelShape=AverageImage.shape\n",
    "\n",
    "    #Estimating the Amplitudes\n",
    "    \n",
    "   \n",
    "    Needle15cm_Mask=MaskCreate(PixelShape,20,c1)\n",
    "\n",
    "    Needle10cm_Mask=MaskCreate(PixelShape,20,c2)\n",
    "\n",
    "    Needle5cm_Mask=MaskCreate(PixelShape,20,c3)\n",
    "    \n",
    "    #providing initial values\n",
    "    initialGuess_needle_15cm=np.mean(AverageImage[Needle15cm_Mask[0]]), Needle15cm_Mask[2][0], 18, Needle15cm_Mask[2][1],18\n",
    "    initialGuess_needle_10cm=np.mean(AverageImage[Needle10cm_Mask[0]]), Needle10cm_Mask[2][0], 22, Needle10cm_Mask[2][1],22\n",
    "    initialGuess_needle_5cm=np.mean(AverageImage[Needle5cm_Mask[0]]), Needle5cm_Mask[2][0], 22, Needle5cm_Mask[2][1],22\n",
    "    offset=0.1\n",
    "    \n",
    "    #Fitting with initial values\n",
    "    Fit_3Gaussian=FitSumsof3Gaussian(AverageImage,initialGuess_needle_5cm,initialGuess_needle_10cm,initialGuess_needle_15cm,offset)\n",
    "    \n",
    "    #Converting from pixel to mm\n",
    "    Diffusion=GetTransVerseDiffusion(Fit_3Gaussian,pixelSize,Magnefication)\n",
    "    \n",
    "    ## Getting the slope\n",
    "    slope, intercept = np.polyfit(NeedleDistances, Diffusion[0]**2, 1)\n",
    "    \n",
    "\n",
    "    DT=np.round(np.sqrt(slope),2)\n",
    "    Intercept=np.round(np.sqrt(intercept),2)\n",
    "    return DT,Intercept,Diffusion[0]**2,Fit_3Gaussian\n"
   ]
  },
  {
   "cell_type": "code",
   "execution_count": null,
   "id": "innovative-psychology",
   "metadata": {},
   "outputs": [],
   "source": []
  },
  {
   "cell_type": "code",
   "execution_count": 12,
   "id": "3fed1442",
   "metadata": {
    "scrolled": false
   },
   "outputs": [
    {
     "name": "stdout",
     "output_type": "stream",
     "text": [
      "[[0. 0. 0. ... 0. 0. 0.]\n",
      " [0. 0. 0. ... 0. 0. 0.]\n",
      " [0. 0. 0. ... 0. 0. 0.]\n",
      " ...\n",
      " [0. 0. 0. ... 0. 0. 0.]\n",
      " [0. 0. 0. ... 0. 0. 0.]\n",
      " [0. 0. 0. ... 0. 0. 0.]]\n"
     ]
    },
    {
     "data": {
      "image/png": "[encoded data removed]",
      "text/plain": [
       "<Figure size 1000x800 with 2 Axes>"
      ]
     },
     "metadata": {},
     "output_type": "display_data"
    },
    {
     "data": {
      "image/png": "[encoded data removed]",
      "text/plain": [
       "<Figure size 1200x1200 with 1 Axes>"
      ]
     },
     "metadata": {},
     "output_type": "display_data"
    }
   ],
   "source": [
    "    \n",
    "pixelSize=16e-3 #mm\n",
    "Magnefication=16\n",
    "\n",
    "size=513\n",
    "bins = [np.linspace(0, size,size), np.linspace(0, size,size)]\n",
    "#bins=300\n",
    "cmap = plt.get_cmap('cividis')\n",
    "cmap = plt.get_cmap('jet')\n",
    "\n",
    "fig = plt.figure(figsize=(10,8))\n",
    "\n",
    "ax1 = fig.add_subplot(111)\n",
    "title=f\"Simulation\"\n",
    "ax1.set_title(title)\n",
    "Shift=[92,92]\n",
    "PixelX=(Alphas[\"Alpha1\"][0]/(pixelSize*Magnefication)-10+Shift[0])\n",
    "PixelY=(Alphas[\"Alpha1\"][1]/(pixelSize*Magnefication)-63+Shift[1])    \n",
    "h1 = ax1.hist2d(PixelX, PixelY, bins=bins, cmap=cmap,alpha=0.5)\n",
    "\n",
    "PixelX=(Alphas[\"Alpha2\"][0]/(pixelSize*Magnefication)+15+Shift[0])\n",
    "PixelY=(Alphas[\"Alpha2\"][1]/(pixelSize*Magnefication)+55+Shift[1])    \n",
    "h2 = ax1.hist2d(PixelX, PixelY, bins=bins, cmap=cmap,alpha=0.5)\n",
    "\n",
    "PixelX=(Alphas[\"Alpha3\"][0]/(pixelSize*Magnefication)-43+Shift[0])\n",
    "PixelY=(Alphas[\"Alpha3\"][1]/(pixelSize*Magnefication)+22+Shift[1])\n",
    "h3 = ax1.hist2d(PixelX, PixelY, bins=bins, cmap=cmap,alpha=0.5)\n",
    "\n",
    "print(h1[0])\n",
    "CenterPoint=(200,270)\n",
    "plt.scatter(*CenterPoint,s=100,color=\"y\",marker=\"o\") ##  15cm\n",
    "\n",
    "\n",
    "CenterPoint=(263,303)\n",
    "#Needle10cm_Mask=MaskCreate(PixelShape,20,CenterPoint)\n",
    "plt.scatter(*CenterPoint,s=100,color=\"r\",marker=\"o\") ##  10cm\n",
    "\n",
    "\n",
    "CenterPoint=(240,185)\n",
    "\n",
    "#Needle5cm_Mask=MaskCreate(PixelShape,20,CenterPoint)\n",
    "CenterPoint=(240,185)\n",
    "plt.scatter(*CenterPoint,s=100,color=\"k\",marker=\"o\") ##  5cm\n",
    "cbar1 = plt.colorbar(h1[3])\n",
    "cbar1.set_label('Electrons', fontsize=18)\n",
    "cbar1.ax.tick_params(labelsize=18)\n",
    "# cbar1.ax.set_title('Electrons',fontsize=18, rotation=270)\n",
    "\n",
    "ax1.set_ylabel(r'Pixel Y',fontsize=18)\n",
    "ax1.set_xlabel(r'Pixel X',fontsize=18)\n",
    "ax1.tick_params(labelsize=18)\n",
    "ax1.set_xlim(0,size)\n",
    "ax1.set_ylim(0,size)\n",
    "\n",
    "plt.tight_layout()\n",
    "# plt.savefig(\"Reco_Hist.png\",dpi=250,bbox_inches='tight')\n",
    "plt.show()\n",
    "plt.figure(figsize=(12,12))\n",
    "image=np.transpose(np.zeros((512,512))+h1[0]+h2[0]+h3[0])\n",
    "CenterPoint=(240,185)\n",
    "plt.scatter(*CenterPoint,s=100,color=\"k\",marker=\"o\") ##  5cm\n",
    "plt.imshow(image,origin=\"lower\",vmin=np.mean(image),vmax=0.8*np.max(image))\n",
    "Needle1=MaskCreate(h1[0].shape,50,(200,270))[1]*image\n",
    "Needle2=MaskCreate(h2[0].shape,50,(263,303))[1]*image\n",
    "Needle3=MaskCreate(h3[0].shape,10,(240,185))[1]*image\n",
    "\n",
    "#plt.imshow(Needle1[1]*Needle2[1]*Needle3[1]*image)"
   ]
  },
  {
   "cell_type": "code",
   "execution_count": 13,
   "id": "2472d981",
   "metadata": {},
   "outputs": [],
   "source": [
    "#plt.figure(figsize=(15,15),dpi=300)\n",
    "#Mask=Needle1>0\n",
    "#plt.hist(Needle1[Mask].ravel(),bins=100)\n",
    "#Mask=Needle2>0\n",
    "#plt.hist(Needle2[Mask].ravel(),bins=100,alpha=0.5)\n",
    "#Mask=Needle3>0\n",
    "#plt.hist(Needle3[Mask].ravel(),bins=100,alpha=0.5)\n"
   ]
  },
  {
   "cell_type": "code",
   "execution_count": 14,
   "id": "17d8f050",
   "metadata": {},
   "outputs": [],
   "source": [
    "### Fitting 2D Gaussian\n",
    "x = np.linspace(0, 512, 512)\n",
    "xx, yy = np.meshgrid(x, x)"
   ]
  },
  {
   "cell_type": "code",
   "execution_count": 15,
   "id": "a0d81c8f",
   "metadata": {},
   "outputs": [
    {
     "name": "stderr",
     "output_type": "stream",
     "text": [
      "/tmp/argon/opticks/ipykernel_51064/4144578757.py:77: RuntimeWarning: invalid value encountered in sqrt\n",
      "  Intercept=np.round(np.sqrt(intercept),2)\n"
     ]
    }
   ],
   "source": [
    "\n",
    "vv=SingleFitImage(image,(200,270),(263,303),(240,185))\n"
   ]
  },
  {
   "cell_type": "code",
   "execution_count": 16,
   "id": "4519b418",
   "metadata": {},
   "outputs": [
    {
     "name": "stdout",
     "output_type": "stream",
     "text": [
      "8.403720696791558 8.410096533750426\n",
      "11.706611068823243 11.879890565757783\n",
      "14.335225852089277 14.180182636140673\n",
      "Simulation Value for DT is 0.92 mm/sqrt(cm) with 4e7 collisions\n",
      " \n",
      "Needle Distance is 5.46 cm\n",
      "DT is 0.58 mm/sqrt(cm) error is 37.0 %\n",
      "Needle Distance is 10.58 cm\n",
      "DT is 0.58 mm/sqrt(cm) error is 37.0 %\n",
      "Needle Distance is 15.55 cm\n",
      "DT is 0.58 mm/sqrt(cm) error is 37.0 %\n"
     ]
    },
    {
     "data": {
      "image/png": "[encoded data removed]",
      "text/plain": [
       "<Figure size 640x480 with 1 Axes>"
      ]
     },
     "metadata": {},
     "output_type": "display_data"
    }
   ],
   "source": [
    "Fit_3Gaussian=vv[3]\n",
    "#ax[0].imshow(firstFit[0], cmap=plt.cm.jet, origin='lower',extent=(xx.min(), xx.max(), yy.min(), yy.max()))\n",
    "plt.imshow(Fit_3Gaussian[0], cmap=plt.cm.jet, origin='lower',vmin=np.mean(image),vmax=np.max(image))\n",
    "plt.contour(Fit_3Gaussian[2][0], Fit_3Gaussian[2][1], Fit_3Gaussian[1], 10, colors='w')\n",
    "\n",
    "plt.xlabel(\"Pixel X\")\n",
    "plt.ylabel(\"Pixel Y\")\n",
    "\n",
    "#print(Fit_3Gaussian[3])\n",
    "print(Fit_3Gaussian[3][2],Fit_3Gaussian[3][4])\n",
    "print(Fit_3Gaussian[3][2+5],Fit_3Gaussian[3][4+5])\n",
    "print(Fit_3Gaussian[3][2+10],Fit_3Gaussian[3][4+10])\n",
    "\n",
    "\n",
    "#print(\"Converting...\")\n",
    "print(f\"Simulation Value for DT is 0.92 mm/sqrt(cm) with 4e7 collisions\")\n",
    "print(\" \")\n",
    "ConvertToDiffusion(Fit_3Gaussian[3][2],Fit_3Gaussian[3][4],5.46,pixelSize,10)\n",
    "ConvertToDiffusion(Fit_3Gaussian[3][2+5],Fit_3Gaussian[3][4+5],10.58,pixelSize,10)\n",
    "ConvertToDiffusion(Fit_3Gaussian[3][2+10],Fit_3Gaussian[3][4+10],15.55,pixelSize,10)"
   ]
  },
  {
   "cell_type": "raw",
   "id": "69dbfa6e",
   "metadata": {},
   "source": [
    "plt.title(\"Transverse Diffusion\")\n",
    "plt.xlabel(\"Alpha Distance (cm)\")\n",
    "plt.ylabel(r'$\\sigma^2 (mm^2)$')\n",
    "NeedleDistances=np.array([5.46,10.58,15.55])\n",
    "\n",
    "AverageValue=[np.mean(kk[\"5cm\"]),np.mean(kk[\"10cm\"]),np.mean(kk[\"15cm\"])]\n",
    "Error=[np.std(kk[\"5cm\"]),np.std(kk[\"10cm\"]),np.std(kk[\"15cm\"])]\n",
    "#NeedleDistances=np.sqrtNeedleDistances)\n",
    "\n",
    "p, v = np.polyfit(NeedleDistances,AverageValue, 1,cov=True)\n",
    "plt.errorbar(NeedleDistances,AverageValue,yerr=Error,fmt=\"o\")\n",
    "plt.plot(NeedleDistances,(p[0]*NeedleDistances+p[1]))\n",
    "\n",
    "DT=np.round(np.sqrt(p[0]),2)\n",
    "\n",
    "print(np.sqrt(p[0]),np.sqrt(p[1]))\n",
    "\n",
    "plt.text(0.4,0.85,f\"DT = {DT} \" + r\"$\\pm{} $\" + f\"{round(np.sqrt(v[0][0]),2)}\" + r\"$\\frac{mm}{\\sqrt{cm}}$\",fontsize=15,horizontalalignment='right',verticalalignment='top',transform = plt.gca().transAxes)\n",
    "#plt.text(5.8, 14, f\"DT={D}\" + r\"$\\frac{mm}{\\sqrt{cm}}$\", bbox=dict(facecolor='blue', alpha=0.5))\n",
    "plt.text(0.6, 0.5,f\"y = {round(p[0],2)}x + {round(p[1],2)} \",fontsize=15,horizontalalignment='left',verticalalignment='bottom',transform = plt.gca().transAxes)\n",
    "print(np.mean(kk[\"DTs\"]))\n",
    "print(np.std(kk[\"DTs\"]))\n",
    "print(np.sqrt(Error))\n",
    "\n",
    "\n",
    "print(\"x_1: {} +/- {}\".format(p[0], np.sqrt(v[0][0])))\n",
    "print(\"x_2: {} +/- {}\".format(p[1], np.sqrt(v[1][1])))\n",
    "print(Error)"
   ]
  },
  {
   "cell_type": "markdown",
   "id": "0d4438e9",
   "metadata": {},
   "source": [
    "fig = plt.figure(figsize=(12,7),dpi=300)\n",
    "ax = fig.add_subplot(111, projection=\"3d\")\n",
    "ax.plot_surface(xx, yy, data_fitted.reshape(512, 512),cmap=\"jet\")\n",
    "plt.show()"
   ]
  },
  {
   "cell_type": "code",
   "execution_count": null,
   "id": "cf97decc",
   "metadata": {},
   "outputs": [],
   "source": []
  },
  {
   "cell_type": "code",
   "execution_count": 17,
   "id": "16376a1b",
   "metadata": {},
   "outputs": [
    {
     "ename": "AttributeError",
     "evalue": "'Gas_Properties' object has no attribute 'Vd'",
     "output_type": "error",
     "traceback": [
      "\u001b[0;31m---------------------------------------------------------------------------\u001b[0m",
      "\u001b[0;31mAttributeError\u001b[0m                            Traceback (most recent call last)",
      "Cell \u001b[0;32mIn[17], line 7\u001b[0m\n\u001b[1;32m      3\u001b[0m dz\u001b[38;5;241m=\u001b[39mnp\u001b[38;5;241m.\u001b[39mrandom\u001b[38;5;241m.\u001b[39mnormal(np\u001b[38;5;241m.\u001b[39mmean(Alphas[\u001b[38;5;124m\"\u001b[39m\u001b[38;5;124mAlpha1\u001b[39m\u001b[38;5;124m\"\u001b[39m][\u001b[38;5;241m2\u001b[39m]),np\u001b[38;5;241m.\u001b[39mstd(Alphas[\u001b[38;5;124m\"\u001b[39m\u001b[38;5;124mAlpha1\u001b[39m\u001b[38;5;124m\"\u001b[39m][\u001b[38;5;241m2\u001b[39m]),\u001b[38;5;241m10000\u001b[39m)\n\u001b[1;32m      5\u001b[0m fig, ax \u001b[38;5;241m=\u001b[39m plt\u001b[38;5;241m.\u001b[39msubplots(\u001b[38;5;241m1\u001b[39m, \u001b[38;5;241m2\u001b[39m,sharey\u001b[38;5;241m=\u001b[39m\u001b[38;5;28;01mTrue\u001b[39;00m)\n\u001b[0;32m----> 7\u001b[0m SigmaZ\u001b[38;5;241m=\u001b[39m\u001b[38;5;28mround\u001b[39m((np\u001b[38;5;241m.\u001b[39mstd(Alphas[\u001b[38;5;124m\"\u001b[39m\u001b[38;5;124mAlpha1\u001b[39m\u001b[38;5;124m\"\u001b[39m][\u001b[38;5;241m2\u001b[39m])\u001b[38;5;241m/\u001b[39mnp\u001b[38;5;241m.\u001b[39msqrt(\u001b[38;5;241m5.46\u001b[39m))\u001b[38;5;241m*\u001b[39m\u001b[43mGasProps\u001b[49m\u001b[38;5;241;43m.\u001b[39;49m\u001b[43mVd\u001b[49m,\u001b[38;5;241m2\u001b[39m)\n\u001b[1;32m      9\u001b[0m \u001b[38;5;28mprint\u001b[39m(\u001b[38;5;124mf\u001b[39m\u001b[38;5;124m\"\u001b[39m\u001b[38;5;124mExpected Transverse Diffusion is \u001b[39m\u001b[38;5;132;01m{\u001b[39;00m\u001b[38;5;28mround\u001b[39m((SigmaX\u001b[38;5;241m+\u001b[39mSigmaY)\u001b[38;5;241m/\u001b[39m\u001b[38;5;241m2\u001b[39m,\u001b[38;5;241m3\u001b[39m)\u001b[38;5;132;01m}\u001b[39;00m\u001b[38;5;124m \u001b[39m\u001b[38;5;124m\"\u001b[39m)\n\u001b[1;32m     10\u001b[0m \u001b[38;5;28mprint\u001b[39m(\u001b[38;5;124mf\u001b[39m\u001b[38;5;124m\"\u001b[39m\u001b[38;5;124mError is \u001b[39m\u001b[38;5;132;01m{\u001b[39;00m\u001b[38;5;28mround\u001b[39m(((SigmaX\u001b[38;5;241m+\u001b[39mSigmaY)\u001b[38;5;241m/\u001b[39m\u001b[38;5;241m2\u001b[39m\u001b[38;5;241m-\u001b[39m\u001b[38;5;241m0.92\u001b[39m)\u001b[38;5;241m/\u001b[39m\u001b[38;5;241m0.92\u001b[39m,\u001b[38;5;241m4\u001b[39m)\u001b[38;5;241m*\u001b[39m\u001b[38;5;241m100\u001b[39m\u001b[38;5;132;01m}\u001b[39;00m\u001b[38;5;124m\"\u001b[39m)\n",
      "\u001b[0;31mAttributeError\u001b[0m: 'Gas_Properties' object has no attribute 'Vd'"
     ]
    },
    {
     "data": {
      "image/png": "[encoded data removed]",
      "text/plain": [
       "<Figure size 640x480 with 2 Axes>"
      ]
     },
     "metadata": {},
     "output_type": "display_data"
    }
   ],
   "source": [
    "### Extrating Diffusion\n",
    "\n",
    "dz=np.random.normal(np.mean(Alphas[\"Alpha1\"][2]),np.std(Alphas[\"Alpha1\"][2]),10000)\n",
    "\n",
    "fig, ax = plt.subplots(1, 2,sharey=True)\n",
    "\n",
    "SigmaZ=round((np.std(Alphas[\"Alpha1\"][2])/np.sqrt(5.46))*GasProps.Vd,2)\n",
    "\n",
    "print(f\"Expected Transverse Diffusion is {round((SigmaX+SigmaY)/2,3)} \")\n",
    "print(f\"Error is {round(((SigmaX+SigmaY)/2-0.92)/0.92,4)*100}\")\n",
    "\n",
    "count, bins = np.histogram(dx, 1000, density=True)\n",
    "\n",
    "ax[1].set_title(title)\n",
    "\n",
    "ax[1].plot(bins, gaussian1d(popt[3],popt[4],bins) ,\n",
    "         linewidth=2, color='r')\n",
    "plt.show()\n",
    "title=f\"Dz= {SigmaZ} mm/sqrt(cm)\"\n",
    "plt.title(title)\n",
    "plt.xlabel(\"Time (us)\")\n",
    "count, bins,__ = plt.hist(dz,1000,density=True)\n",
    "\n",
    "\n",
    "plt.plot(bins,gaussian1d(np.mean(Alphas[\"Alpha1\"][2]),np.std(Alphas[\"Alpha1\"][2]),bins),linewidth=2, color='r')\n",
    "plt.show()\n"
   ]
  },
  {
   "cell_type": "code",
   "execution_count": null,
   "id": "751b3a3a",
   "metadata": {},
   "outputs": [],
   "source": []
  },
  {
   "cell_type": "raw",
   "id": "7877a5e2",
   "metadata": {},
   "source": [
    "HITS2 = Get_hit_array(\"/media/ilker/Ilker_SSD/SimResults/Jan_20_2022/Alphas.h5\", 3,b'alpha')"
   ]
  },
  {
   "cell_type": "raw",
   "id": "eadc31b8",
   "metadata": {},
   "source": [
    "HITS2[\"x\"]=HITS2[\"x\"]-np.max(HITS2[\"x\"])\n",
    "HITS2[\"y\"]=HITS2[\"y\"]-np.max(HITS2[\"y\"])\n"
   ]
  },
  {
   "cell_type": "raw",
   "id": "c5e2fc06",
   "metadata": {},
   "source": [
    "\n",
    "Diff_X2, Diff_Y2, Diff_Z2 = Diffuser(HITS2, 15)\n"
   ]
  },
  {
   "cell_type": "raw",
   "id": "b511eb1d",
   "metadata": {},
   "source": [
    "\n",
    "bins = [np.arange(-size, size,cell_size), np.arange(-size, size, cell_size)]\n",
    "#bins=300\n",
    "cmap = plt.get_cmap('cividis')\n",
    "cmap = plt.get_cmap('afmhot')\n",
    "\n",
    "fig = plt.figure(figsize=(10,8))\n",
    "\n",
    "ax1 = fig.add_subplot(111)\n",
    "ax1.set_title(\"Diffusion at 5cm\")\n",
    "h1 = ax1.hist2d(Diff_X2, Diff_Y2, bins=bins, cmap=cmap)\n",
    "\n",
    "cbar1 = plt.colorbar(h1[3])\n",
    "cbar1.set_label('Electrons', fontsize=18)\n",
    "cbar1.ax.tick_params(labelsize=18)\n",
    "# cbar1.ax.set_title('Electrons',fontsize=18, rotation=270)\n",
    "\n",
    "ax1.set_ylabel(r'Y  [cm]',fontsize=18)\n",
    "ax1.set_xlabel(r'X  [cm]',fontsize=18)\n",
    "ax1.tick_params(labelsize=18)\n",
    "ax1.set_xlim(-size,size)\n",
    "ax1.set_ylim(-size,size)\n",
    "\n",
    "plt.tight_layout()\n",
    "# plt.savefig(\"Reco_Hist.png\",dpi=250,bbox_inches='tight')\n",
    "plt.show()"
   ]
  },
  {
   "cell_type": "code",
   "execution_count": null,
   "id": "f3090de4",
   "metadata": {},
   "outputs": [],
   "source": []
  },
  {
   "cell_type": "code",
   "execution_count": null,
   "id": "b363fb76",
   "metadata": {},
   "outputs": [],
   "source": []
  },
  {
   "cell_type": "raw",
   "id": "54d887bb",
   "metadata": {},
   "source": [
    "cell_size=0.0016\n",
    "\n"
   ]
  },
  {
   "cell_type": "raw",
   "id": "3e2b8135",
   "metadata": {},
   "source": [
    "print(Diff_X)"
   ]
  },
  {
   "cell_type": "raw",
   "id": "5baa29c8",
   "metadata": {},
   "source": [
    "#bins = [np.linspace(0, 512, 512), np.linspace(0, 512, 512)]\n",
    "bins = [np.linspace(0, 512, 512), np.linspace(0, 512, 512)]\n",
    "cmap = plt.get_cmap('cividis')\n",
    "cmap = plt.get_cmap('afmhot')\n",
    "\n",
    "fig = plt.figure(figsize=(10,8))\n",
    "ax1 = fig.add_subplot(111)\n",
    "\n",
    "h1 = ax1.hist2d(Diff_X, Diff_Y, bins=bins, cmap=cmap)\n",
    "\n",
    "cbar1 = plt.colorbar(h1[3])\n",
    "cbar1.set_label('Electrons', fontsize=18)\n",
    "cbar1.ax.tick_params(labelsize=18)\n",
    "# cbar1.ax.set_title('Electrons',fontsize=18, rotation=270)\n",
    "\n",
    "ax1.set_ylabel(r'Y  [cm]',fontsize=18)\n",
    "ax1.set_xlabel(r'X  [cm]',fontsize=18)\n",
    "ax1.tick_params(labelsize=18)\n",
    "\n",
    "plt.tight_layout()\n",
    "# plt.savefig(\"Reco_Hist.png\",dpi=250,bbox_inches='tight')\n",
    "plt.show()"
   ]
  },
  {
   "cell_type": "code",
   "execution_count": null,
   "id": "1b0b6b51",
   "metadata": {},
   "outputs": [],
   "source": [
    "### GEANT4\n",
    "\n"
   ]
  },
  {
   "cell_type": "code",
   "execution_count": null,
   "id": "e74e477c",
   "metadata": {},
   "outputs": [],
   "source": [
    "filePath=\"/media/ilker/Ilker/SimResults/Jan_20_2022/Alpha_Prediction.h5\"\n"
   ]
  },
  {
   "cell_type": "markdown",
   "id": "99e721c8",
   "metadata": {},
   "source": [
    "data=getvalues(filePath)"
   ]
  },
  {
   "cell_type": "code",
   "execution_count": null,
   "id": "f92cc454",
   "metadata": {},
   "outputs": [],
   "source": [
    "Alphaies=ionizationElectronPosition(data,b'alpha',b'EL_GAP',100)"
   ]
  },
  {
   "cell_type": "code",
   "execution_count": null,
   "id": "78e4f3fc",
   "metadata": {},
   "outputs": [],
   "source": []
  },
  {
   "cell_type": "code",
   "execution_count": null,
   "id": "a2691dc9",
   "metadata": {},
   "outputs": [],
   "source": []
  },
  {
   "cell_type": "code",
   "execution_count": null,
   "id": "c0ffe242",
   "metadata": {},
   "outputs": [],
   "source": [
    "for Event in Alphaies.keys():\n",
    "    X=(Alphaies[Event][0])/10\n",
    "    Y=Alphaies[Event][1]/10\n",
    "    bins = [np.arange(-10, 10, 0.02), np.arange(-10, 10, 0.02)]\n",
    "    cmap = plt.get_cmap('cividis')\n",
    "    cmap = plt.get_cmap('afmhot')\n",
    "\n",
    "    fig = plt.figure(figsize=(10,10))\n",
    "    ax1 = fig.add_subplot(111)\n",
    "    #ax1.set_title(\"GEANT4 Diffusion at 5cm\")\n",
    "\n",
    "\n",
    "    h1 = ax1.hist2d(X, Y, bins=bins, cmap=cmap)\n",
    "\n",
    "    #cbar1 = plt.colorbar(h1[3])\n",
    "    #cbar1.set_label('Electrons', fontsize=18)\n",
    "    #cbar1.ax.tick_params(labelsize=18)\n",
    "    # cbar1.ax.set_title('Electrons',fontsize=18, rotation=270)\n",
    "\n",
    "    #ax1.set_ylabel(r'Y  [cm]',fontsize=18)\n",
    "    #ax1.set_xlabel(r'X  [cm]',fontsize=18)\n",
    "    #ax1.tick_params(labelsize=18)\n",
    "    ax1.set_xlim(-10,10)\n",
    "    ax1.set_ylim(-10,10)\n",
    "    plt.axis('off')\n",
    "    path=\"/media/ilker/Ilker/SimResults/Jan_20_2022/Particles/Predictions/Alpha/Alphas_\"+str(Event)+\".png\"\n",
    "    plt.tight_layout()\n",
    "    plt.savefig(path,dpi=300,bbox_inches='tight')\n",
    "    #plt.show()\n",
    "    plt.close()"
   ]
  },
  {
   "cell_type": "code",
   "execution_count": null,
   "id": "6e6fe081",
   "metadata": {},
   "outputs": [],
   "source": [
    "filePath=\"/media/ilker/Ilker/SimResults/Jan_20_2022/Betas_Prediction.h5\"\n",
    "data=getvalues(filePath)"
   ]
  },
  {
   "cell_type": "code",
   "execution_count": null,
   "id": "828892ac",
   "metadata": {},
   "outputs": [],
   "source": [
    "Betas=ionizationElectronPosition(data,b'e-',b'EL_GAP',500)"
   ]
  },
  {
   "cell_type": "code",
   "execution_count": null,
   "id": "e7178a46",
   "metadata": {},
   "outputs": [],
   "source": [
    "print(Betas)\n"
   ]
  },
  {
   "cell_type": "code",
   "execution_count": null,
   "id": "d8bbfd59",
   "metadata": {},
   "outputs": [],
   "source": []
  },
  {
   "cell_type": "code",
   "execution_count": null,
   "id": "ba8124da",
   "metadata": {},
   "outputs": [],
   "source": [
    "for Event in Betas.keys():\n",
    "    X=(Betas[Event][0])/10\n",
    "    Y=Betas[Event][1]/10\n",
    "    bins = [np.arange(-10, 10, 0.02), np.arange(-10, 10, 0.02)]\n",
    "    cmap = plt.get_cmap('cividis')\n",
    "    cmap = plt.get_cmap('afmhot')\n",
    "\n",
    "    fig = plt.figure(figsize=(10,10))\n",
    "    ax1 = fig.add_subplot(111)\n",
    "    #ax1.set_title(\"GEANT4 Diffusion at 5cm\")\n",
    "\n",
    "\n",
    "    h1 = ax1.hist2d(X, Y, bins=bins, cmap=cmap)\n",
    "\n",
    "    #cbar1 = plt.colorbar(h1[3])\n",
    "    #cbar1.set_label('Electrons', fontsize=18)\n",
    "    #cbar1.ax.tick_params(labelsize=18)\n",
    "    # cbar1.ax.set_title('Electrons',fontsize=18, rotation=270)\n",
    "\n",
    "    #ax1.set_ylabel(r'Y  [cm]',fontsize=18)\n",
    "    #ax1.set_xlabel(r'X  [cm]',fontsize=18)\n",
    "    #ax1.tick_params(labelsize=18)\n",
    "    ax1.set_xlim(-10,10)\n",
    "    ax1.set_ylim(-10,10)\n",
    "    plt.axis('off')\n",
    "    #path=\"/media/ilker/Ilker/SimResults/Jan_20_2022/Particles/Predictions/Beta/Betas_\"+str(Event)+\".png\"\n",
    "    plt.tight_layout()\n",
    "    plt.savefig(path,dpi=300,bbox_inches='tight')\n",
    "    #plt.show()\n",
    "    plt.close()"
   ]
  },
  {
   "cell_type": "code",
   "execution_count": null,
   "id": "580a4577",
   "metadata": {},
   "outputs": [],
   "source": []
  },
  {
   "cell_type": "code",
   "execution_count": null,
   "id": "27963e1d",
   "metadata": {},
   "outputs": [],
   "source": [
    "#### "
   ]
  },
  {
   "cell_type": "code",
   "execution_count": null,
   "id": "1ba34718",
   "metadata": {},
   "outputs": [],
   "source": []
  }
 ],
 "metadata": {
  "kernelspec": {
   "display_name": "Python 3 (ipykernel)",
   "language": "python",
   "name": "python3"
  },
  "language_info": {
   "codemirror_mode": {
    "name": "ipython",
    "version": 3
   },
   "file_extension": ".py",
   "mimetype": "text/x-python",
   "name": "python",
   "nbconvert_exporter": "python",
   "pygments_lexer": "ipython3",
   "version": "3.10.9"
  }
 },
 "nbformat": 4,
 "nbformat_minor": 5
}
